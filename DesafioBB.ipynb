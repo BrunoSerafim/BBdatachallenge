{
  "nbformat": 4,
  "nbformat_minor": 0,
  "metadata": {
    "colab": {
      "name": "DesafioBB.ipynb",
      "provenance": []
    },
    "kernelspec": {
      "name": "python3",
      "display_name": "Python 3"
    },
    "language_info": {
      "name": "python"
    }
  },
  "cells": [
    {
      "cell_type": "code",
      "metadata": {
        "colab": {
          "base_uri": "https://localhost:8080/"
        },
        "id": "iIRz0QwR3qvt",
        "outputId": "08b16b9e-be63-4565-9f19-ca42bd491482"
      },
      "source": [
        "from google.colab import drive\n",
        "drive.mount('/content/drive')"
      ],
      "execution_count": 1,
      "outputs": [
        {
          "output_type": "stream",
          "name": "stdout",
          "text": [
            "Drive already mounted at /content/drive; to attempt to forcibly remount, call drive.mount(\"/content/drive\", force_remount=True).\n"
          ]
        }
      ]
    },
    {
      "cell_type": "code",
      "metadata": {
        "id": "ZoFT2Veq0WQU",
        "colab": {
          "base_uri": "https://localhost:8080/"
        },
        "outputId": "510784c2-d95b-49f1-8580-c5dbcde18587"
      },
      "source": [
        "import pandas as pd\n",
        "from datetime import datetime, time\n",
        "import numpy as np\n",
        "from sklearn.model_selection import GridSearchCV\n",
        "import seaborn as sns\n",
        "import lightgbm as lgb\n",
        "!pip3 install catboost\n",
        "from sklearn import datasets\n",
        "from sklearn import metrics\n",
        "from sklearn.model_selection import train_test_split\n",
        "import matplotlib.pyplot as plt\n",
        "from catboost import CatBoostRegressor\n",
        "\n",
        "\n",
        "plt.style.use('ggplot')"
      ],
      "execution_count": 47,
      "outputs": [
        {
          "output_type": "stream",
          "name": "stdout",
          "text": [
            "Requirement already satisfied: catboost in /usr/local/lib/python3.7/dist-packages (1.0.3)\n",
            "Requirement already satisfied: six in /usr/local/lib/python3.7/dist-packages (from catboost) (1.15.0)\n",
            "Requirement already satisfied: numpy>=1.16.0 in /usr/local/lib/python3.7/dist-packages (from catboost) (1.19.5)\n",
            "Requirement already satisfied: scipy in /usr/local/lib/python3.7/dist-packages (from catboost) (1.4.1)\n",
            "Requirement already satisfied: pandas>=0.24.0 in /usr/local/lib/python3.7/dist-packages (from catboost) (1.1.5)\n",
            "Requirement already satisfied: plotly in /usr/local/lib/python3.7/dist-packages (from catboost) (4.4.1)\n",
            "Requirement already satisfied: graphviz in /usr/local/lib/python3.7/dist-packages (from catboost) (0.10.1)\n",
            "Requirement already satisfied: matplotlib in /usr/local/lib/python3.7/dist-packages (from catboost) (3.2.2)\n",
            "Requirement already satisfied: python-dateutil>=2.7.3 in /usr/local/lib/python3.7/dist-packages (from pandas>=0.24.0->catboost) (2.8.2)\n",
            "Requirement already satisfied: pytz>=2017.2 in /usr/local/lib/python3.7/dist-packages (from pandas>=0.24.0->catboost) (2018.9)\n",
            "Requirement already satisfied: pyparsing!=2.0.4,!=2.1.2,!=2.1.6,>=2.0.1 in /usr/local/lib/python3.7/dist-packages (from matplotlib->catboost) (2.4.7)\n",
            "Requirement already satisfied: cycler>=0.10 in /usr/local/lib/python3.7/dist-packages (from matplotlib->catboost) (0.10.0)\n",
            "Requirement already satisfied: kiwisolver>=1.0.1 in /usr/local/lib/python3.7/dist-packages (from matplotlib->catboost) (1.3.2)\n",
            "Requirement already satisfied: retrying>=1.3.3 in /usr/local/lib/python3.7/dist-packages (from plotly->catboost) (1.3.3)\n"
          ]
        }
      ]
    },
    {
      "cell_type": "code",
      "metadata": {
        "id": "amQHEvI16q58"
      },
      "source": [
        "df = pd.read_csv('/content/drive/MyDrive/trabalho_pratico/Dataset_publico.csv', delimiter=';',index_col=\"ID\")\n"
      ],
      "execution_count": 28,
      "outputs": []
    },
    {
      "cell_type": "code",
      "metadata": {
        "id": "zrFpCr4A0SXx"
      },
      "source": [
        "df = df.dropna()"
      ],
      "execution_count": 29,
      "outputs": []
    },
    {
      "cell_type": "markdown",
      "metadata": {
        "id": "VEvK-t0SlemR"
      },
      "source": [
        "## MODELAGEM DOS DADOS"
      ]
    },
    {
      "cell_type": "code",
      "metadata": {
        "id": "NN0uWZbW-0hf"
      },
      "source": [
        "df[\"TS_INC_EPR\"] = pd.to_datetime(df[\"TS_INC_EPR\"])\n",
        "df[\"TS_INC_CHMD\"] = pd.to_datetime(df[\"TS_INC_CHMD\"])"
      ],
      "execution_count": 30,
      "outputs": []
    },
    {
      "cell_type": "code",
      "metadata": {
        "id": "Jt8fUD3T_TbA"
      },
      "source": [
        "#Criando variáveis de interesse\n",
        "df['HH_INC'] = df['TS_INC_EPR'].dt.strftime('%H').astype('int')\n",
        "df[\"DiaSem\"] = df['TS_INC_EPR'].dt.strftime('%a')\n",
        "df[\"Dia\"] = df['TS_INC_EPR'].dt.strftime('%-d')\n",
        "df[\"Data\"] = df['TS_INC_EPR'].dt.strftime('%x')\n",
        "df[\"Mes\"] = df['TS_INC_EPR'].dt.strftime('%B')\n",
        "df[\"Espera\"] = df[\"TS_INC_CHMD\"]- df['TS_INC_EPR']"
      ],
      "execution_count": 31,
      "outputs": []
    },
    {
      "cell_type": "code",
      "metadata": {
        "id": "-j11Er5L7UyH"
      },
      "source": [
        "#Conforme caracterização do problema criando variável categórica para identificar atendimentos com tempo superior a 15min\n",
        "df[\"Estouro\"] = np.where(df.Espera.dt.total_seconds() > 900 , 1, 0)"
      ],
      "execution_count": 32,
      "outputs": []
    },
    {
      "cell_type": "code",
      "metadata": {
        "id": "UQ5RoY4R7XT_"
      },
      "source": [
        "#drop dezembro dia 24\n",
        "start_date = pd.to_datetime('12/24/2020 00:00')\n",
        "end_date = pd.to_datetime('12/24/2020 23:59')\n",
        "\n",
        "df.drop(df.loc[(df['TS_INC_EPR'] > start_date) & (df['TS_INC_EPR'] < end_date)].index, inplace=True)"
      ],
      "execution_count": 33,
      "outputs": []
    },
    {
      "cell_type": "code",
      "metadata": {
        "colab": {
          "base_uri": "https://localhost:8080/",
          "height": 238
        },
        "id": "IZlXsxsKiZzd",
        "outputId": "cf8bc284-c9a6-4808-f13a-25cf1a6f3b63"
      },
      "source": [
        "#Conforme caracterização do problema alterando atendimentos iniciados antes do horário de atendimento e após o horário de atendimento para serem contabilizados como dentro do horário\n",
        "conditions = [\n",
        "    (df['HH_INC'] < 10),\n",
        "    (df['HH_INC'] > 14),\n",
        "    ]\n",
        "\n",
        "# lista de valores para comparar com condição\n",
        "values = [10, 14]\n",
        "\n",
        "# nova coluna com valores que satisfaçam condição\n",
        "df['HH'] = np.select(conditions, values)\n",
        "\n",
        "# Novo Dataframe\n",
        "df.tail()"
      ],
      "execution_count": 34,
      "outputs": [
        {
          "output_type": "execute_result",
          "data": {
            "text/html": [
              "<div>\n",
              "<style scoped>\n",
              "    .dataframe tbody tr th:only-of-type {\n",
              "        vertical-align: middle;\n",
              "    }\n",
              "\n",
              "    .dataframe tbody tr th {\n",
              "        vertical-align: top;\n",
              "    }\n",
              "\n",
              "    .dataframe thead th {\n",
              "        text-align: right;\n",
              "    }\n",
              "</style>\n",
              "<table border=\"1\" class=\"dataframe\">\n",
              "  <thead>\n",
              "    <tr style=\"text-align: right;\">\n",
              "      <th></th>\n",
              "      <th>ID_UOR</th>\n",
              "      <th>TS_INC_EPR</th>\n",
              "      <th>TS_INC_CHMD</th>\n",
              "      <th>HH_INC</th>\n",
              "      <th>DiaSem</th>\n",
              "      <th>Dia</th>\n",
              "      <th>Data</th>\n",
              "      <th>Mes</th>\n",
              "      <th>Espera</th>\n",
              "      <th>Estouro</th>\n",
              "      <th>HH</th>\n",
              "    </tr>\n",
              "    <tr>\n",
              "      <th>ID</th>\n",
              "      <th></th>\n",
              "      <th></th>\n",
              "      <th></th>\n",
              "      <th></th>\n",
              "      <th></th>\n",
              "      <th></th>\n",
              "      <th></th>\n",
              "      <th></th>\n",
              "      <th></th>\n",
              "      <th></th>\n",
              "      <th></th>\n",
              "    </tr>\n",
              "  </thead>\n",
              "  <tbody>\n",
              "    <tr>\n",
              "      <th>376677</th>\n",
              "      <td>24</td>\n",
              "      <td>2021-07-30 13:05:56</td>\n",
              "      <td>2021-07-30 13:06:35</td>\n",
              "      <td>13</td>\n",
              "      <td>Fri</td>\n",
              "      <td>30</td>\n",
              "      <td>07/30/21</td>\n",
              "      <td>July</td>\n",
              "      <td>0 days 00:00:39</td>\n",
              "      <td>0</td>\n",
              "      <td>0</td>\n",
              "    </tr>\n",
              "    <tr>\n",
              "      <th>376678</th>\n",
              "      <td>24</td>\n",
              "      <td>2021-07-30 13:12:09</td>\n",
              "      <td>2021-07-30 13:15:53</td>\n",
              "      <td>13</td>\n",
              "      <td>Fri</td>\n",
              "      <td>30</td>\n",
              "      <td>07/30/21</td>\n",
              "      <td>July</td>\n",
              "      <td>0 days 00:03:44</td>\n",
              "      <td>0</td>\n",
              "      <td>0</td>\n",
              "    </tr>\n",
              "    <tr>\n",
              "      <th>376679</th>\n",
              "      <td>24</td>\n",
              "      <td>2021-07-30 13:17:08</td>\n",
              "      <td>2021-07-30 13:17:31</td>\n",
              "      <td>13</td>\n",
              "      <td>Fri</td>\n",
              "      <td>30</td>\n",
              "      <td>07/30/21</td>\n",
              "      <td>July</td>\n",
              "      <td>0 days 00:00:23</td>\n",
              "      <td>0</td>\n",
              "      <td>0</td>\n",
              "    </tr>\n",
              "    <tr>\n",
              "      <th>376680</th>\n",
              "      <td>24</td>\n",
              "      <td>2021-07-30 13:27:15</td>\n",
              "      <td>2021-07-30 13:27:29</td>\n",
              "      <td>13</td>\n",
              "      <td>Fri</td>\n",
              "      <td>30</td>\n",
              "      <td>07/30/21</td>\n",
              "      <td>July</td>\n",
              "      <td>0 days 00:00:14</td>\n",
              "      <td>0</td>\n",
              "      <td>0</td>\n",
              "    </tr>\n",
              "    <tr>\n",
              "      <th>376681</th>\n",
              "      <td>24</td>\n",
              "      <td>2021-07-30 13:30:20</td>\n",
              "      <td>2021-07-30 13:34:28</td>\n",
              "      <td>13</td>\n",
              "      <td>Fri</td>\n",
              "      <td>30</td>\n",
              "      <td>07/30/21</td>\n",
              "      <td>July</td>\n",
              "      <td>0 days 00:04:08</td>\n",
              "      <td>0</td>\n",
              "      <td>0</td>\n",
              "    </tr>\n",
              "  </tbody>\n",
              "</table>\n",
              "</div>"
            ],
            "text/plain": [
              "        ID_UOR          TS_INC_EPR  ... Estouro  HH\n",
              "ID                                  ...            \n",
              "376677      24 2021-07-30 13:05:56  ...       0   0\n",
              "376678      24 2021-07-30 13:12:09  ...       0   0\n",
              "376679      24 2021-07-30 13:17:08  ...       0   0\n",
              "376680      24 2021-07-30 13:27:15  ...       0   0\n",
              "376681      24 2021-07-30 13:30:20  ...       0   0\n",
              "\n",
              "[5 rows x 11 columns]"
            ]
          },
          "metadata": {},
          "execution_count": 34
        }
      ]
    },
    {
      "cell_type": "code",
      "metadata": {
        "id": "lqsoc7aG7NA5"
      },
      "source": [
        "#Transformando horários que foram alterados no passo anterior\n",
        "df['HH'] = np.where(df.HH == 0, df.HH_INC, df.HH)"
      ],
      "execution_count": 35,
      "outputs": []
    },
    {
      "cell_type": "code",
      "metadata": {
        "colab": {
          "base_uri": "https://localhost:8080/",
          "height": 299
        },
        "id": "sBWrQudU7rgo",
        "outputId": "c07fb574-adbb-4335-b383-8f0b7ffb8ac9"
      },
      "source": [
        "#confirmando que todos os atendimentos estão entre 10h e 14h\n",
        "df.HH.plot()"
      ],
      "execution_count": null,
      "outputs": [
        {
          "output_type": "execute_result",
          "data": {
            "text/plain": [
              "<matplotlib.axes._subplots.AxesSubplot at 0x7fdb65249190>"
            ]
          },
          "metadata": {},
          "execution_count": 51
        },
        {
          "output_type": "display_data",
          "data": {
            "image/png": "[encoded data removed]",
            "text/plain": [
              "<Figure size 432x288 with 1 Axes>"
            ]
          },
          "metadata": {}
        }
      ]
    },
    {
      "cell_type": "code",
      "metadata": {
        "id": "qiIMSq94hclp"
      },
      "source": [
        "#Groupby dos atendimentos realizados no dia por horário\n",
        "df2 = df.groupby([\"ID_UOR\",'Data','HH', 'Dia', 'DiaSem','Mes']).agg({'Estouro':['sum', 'count']})\n",
        "a = df2.unstack().stack().reset_index()\n",
        "a.columns = ['ID_UOR','Data','HH','Dia','DiaSem','Mes', 'sum','count']\n"
      ],
      "execution_count": 36,
      "outputs": []
    },
    {
      "cell_type": "code",
      "metadata": {
        "id": "XApLoZZrcOW7"
      },
      "source": [
        "#Cálculo do percentual de atendimentos que ficou acima do prazo\n",
        "a['PC_ACI_PZ'] = round((a['sum'] / a['count']) * 100, 2)\n",
        "abt = a[['ID_UOR', 'HH', 'Dia', 'DiaSem', 'Mes']].astype('str')\n",
        "abt['PC_ACI_PZ'] = a['PC_ACI_PZ']"
      ],
      "execution_count": 37,
      "outputs": []
    },
    {
      "cell_type": "code",
      "metadata": {
        "id": "9JMRcIbPd_Ei"
      },
      "source": [
        "#Feature engineering - adicionando percentual de atendimentos fora do prazo para determinado dia da semana, dia do mês e mês\n",
        "#Objetivo é identificar padrões de demanda para essas variáveis\n",
        "MEDIA_DIA_SEMANA = abt.groupby([\"ID_UOR\",'HH', 'DiaSem']).mean('PC_ACI_PZ').unstack().stack().reset_index()\n",
        "MEDIA_MES = abt.groupby([\"ID_UOR\",'HH', 'Mes']).mean('PC_ACI_PZ').unstack().stack().reset_index()\n",
        "MEDIA_DIA = abt.groupby([\"ID_UOR\",'HH', 'Dia']).mean('PC_ACI_PZ').unstack().stack().reset_index()\n",
        "\n",
        "MIN_DIA_SEMANA = abt.groupby([\"ID_UOR\",'HH', 'DiaSem']).min('PC_ACI_PZ').unstack().stack().reset_index()\n",
        "MIN_MES = abt.groupby([\"ID_UOR\",'HH', 'Mes']).min('PC_ACI_PZ').unstack().stack().reset_index()\n",
        "MIN_DIA = abt.groupby([\"ID_UOR\",'HH', 'Dia']).min('PC_ACI_PZ').unstack().stack().reset_index()\n",
        "\n",
        "MAX_DIA_SEMANA = abt.groupby([\"ID_UOR\",'HH', 'DiaSem']).max('PC_ACI_PZ').unstack().stack().reset_index()\n",
        "MAX_MES = abt.groupby([\"ID_UOR\",'HH', 'Mes']).max('PC_ACI_PZ').unstack().stack().reset_index()\n",
        "MAX_DIA = abt.groupby([\"ID_UOR\",'HH', 'Dia']).max('PC_ACI_PZ').unstack().stack().reset_index()\n",
        "\n",
        "MEDIA_DIA_SEMANA.columns = ['ID_UOR', 'HH', 'DiaSem', 'PC_ACI_PZ_SMN']\n",
        "MEDIA_DIA.columns = ['ID_UOR', 'HH', 'Dia', 'PC_ACI_PZ_DIA']\n",
        "MEDIA_MES.columns = ['ID_UOR', 'HH', 'Mes', 'PC_ACI_PZ_MES']\n",
        "\n",
        "MIN_DIA_SEMANA.columns = ['ID_UOR', 'HH', 'DiaSem', 'PC_ACI_PZ_MINSMN']\n",
        "MIN_DIA.columns = ['ID_UOR', 'HH', 'Dia', 'PC_ACI_PZ_MINDIA']\n",
        "MIN_MES.columns = ['ID_UOR', 'HH', 'Mes', 'PC_ACI_PZ_MINMES']\n",
        "\n",
        "\n",
        "MAX_DIA_SEMANA.columns = ['ID_UOR', 'HH', 'DiaSem', 'PC_ACI_PZ_MAXSMN']\n",
        "MAX_DIA.columns = ['ID_UOR', 'HH', 'Dia', 'PC_ACI_PZ_MAXDIA']\n",
        "MAX_MES.columns = ['ID_UOR', 'HH', 'Mes', 'PC_ACI_PZ_MAXMES']"
      ],
      "execution_count": 38,
      "outputs": []
    },
    {
      "cell_type": "code",
      "metadata": {
        "colab": {
          "base_uri": "https://localhost:8080/",
          "height": 81
        },
        "id": "aKf_XhDV0Woy",
        "outputId": "54c83482-7e39-4002-d4f3-1e22c951d584"
      },
      "source": [
        "abt.head(1)"
      ],
      "execution_count": null,
      "outputs": [
        {
          "output_type": "execute_result",
          "data": {
            "text/html": [
              "<div>\n",
              "<style scoped>\n",
              "    .dataframe tbody tr th:only-of-type {\n",
              "        vertical-align: middle;\n",
              "    }\n",
              "\n",
              "    .dataframe tbody tr th {\n",
              "        vertical-align: top;\n",
              "    }\n",
              "\n",
              "    .dataframe thead th {\n",
              "        text-align: right;\n",
              "    }\n",
              "</style>\n",
              "<table border=\"1\" class=\"dataframe\">\n",
              "  <thead>\n",
              "    <tr style=\"text-align: right;\">\n",
              "      <th></th>\n",
              "      <th>ID_UOR</th>\n",
              "      <th>HH</th>\n",
              "      <th>Dia</th>\n",
              "      <th>DiaSem</th>\n",
              "      <th>Mes</th>\n",
              "      <th>PC_ACI_PZ</th>\n",
              "    </tr>\n",
              "  </thead>\n",
              "  <tbody>\n",
              "    <tr>\n",
              "      <th>0</th>\n",
              "      <td>0</td>\n",
              "      <td>10</td>\n",
              "      <td>4</td>\n",
              "      <td>Mon</td>\n",
              "      <td>January</td>\n",
              "      <td>0.0</td>\n",
              "    </tr>\n",
              "  </tbody>\n",
              "</table>\n",
              "</div>"
            ],
            "text/plain": [
              "  ID_UOR  HH Dia DiaSem      Mes  PC_ACI_PZ\n",
              "0      0  10   4    Mon  January        0.0"
            ]
          },
          "metadata": {},
          "execution_count": 55
        }
      ]
    },
    {
      "cell_type": "markdown",
      "metadata": {
        "id": "YC9VFf9JLoOB"
      },
      "source": [
        "## Comportamento Demanda Mensal"
      ]
    },
    {
      "cell_type": "code",
      "metadata": {
        "id": "j95Rkbpfzm1o",
        "colab": {
          "base_uri": "https://localhost:8080/",
          "height": 589
        },
        "outputId": "5aa210a1-13d1-4756-a384-0ca517b5176e"
      },
      "source": [
        "\n",
        "sns.set(rc={'figure.figsize':(11.7,8.27)})\n",
        "abt['Mes'] = pd.Categorical(abt['Mes'], categories=['January', 'February', 'March', 'April','May', 'June', 'July','September', 'October', 'November',  'December'], ordered=True)\n",
        "sns.lineplot(abt.Mes, abt.PC_ACI_PZ_MES, marker='o')\n"
      ],
      "execution_count": 27,
      "outputs": [
        {
          "output_type": "stream",
          "name": "stderr",
          "text": [
            "/usr/local/lib/python3.7/dist-packages/seaborn/_decorators.py:43: FutureWarning: Pass the following variables as keyword args: x, y. From version 0.12, the only valid positional argument will be `data`, and passing other arguments without an explicit keyword will result in an error or misinterpretation.\n",
            "  FutureWarning\n"
          ]
        },
        {
          "output_type": "execute_result",
          "data": {
            "text/plain": [
              "<matplotlib.axes._subplots.AxesSubplot at 0x7f627594ef50>"
            ]
          },
          "metadata": {},
          "execution_count": 27
        },
        {
          "output_type": "display_data",
          "data": {
            "image/png": "[encoded data removed]",
            "text/plain": [
              "<Figure size 842.4x595.44 with 1 Axes>"
            ]
          },
          "metadata": {}
        }
      ]
    },
    {
      "cell_type": "markdown",
      "metadata": {
        "id": "bKBRK8jabBOC"
      },
      "source": [
        "##JOIN"
      ]
    },
    {
      "cell_type": "code",
      "metadata": {
        "id": "sgwadroZbA2B"
      },
      "source": [
        "abt = pd.merge(abt, MEDIA_DIA_SEMANA, on=['ID_UOR', 'HH', 'DiaSem'])\n",
        "abt = pd.merge(abt, MEDIA_DIA, on=[\"ID_UOR\",'HH', 'Dia'])\n",
        "abt = pd.merge(abt, MEDIA_MES, on=[\"ID_UOR\",'HH', 'Mes'])\n",
        "\n",
        "abt = pd.merge(abt, MIN_DIA_SEMANA, on=['ID_UOR', 'HH', 'DiaSem'])\n",
        "abt = pd.merge(abt, MIN_DIA, on=[\"ID_UOR\",'HH', 'Dia'])\n",
        "abt = pd.merge(abt, MIN_MES, on=[\"ID_UOR\",'HH', 'Mes'])\n",
        "\n",
        "abt = pd.merge(abt, MAX_DIA_SEMANA, on=['ID_UOR', 'HH', 'DiaSem'])\n",
        "abt = pd.merge(abt, MAX_DIA, on=[\"ID_UOR\",'HH', 'Dia'])\n",
        "abt = pd.merge(abt, MAX_MES, on=[\"ID_UOR\",'HH', 'Mes'])"
      ],
      "execution_count": 39,
      "outputs": []
    },
    {
      "cell_type": "code",
      "metadata": {
        "colab": {
          "base_uri": "https://localhost:8080/",
          "height": 206
        },
        "id": "ZH6iJk3M5O-T",
        "outputId": "a8f17ce8-b6ab-46f1-ec52-4abef764d337"
      },
      "source": [
        "abt.head()"
      ],
      "execution_count": 40,
      "outputs": [
        {
          "output_type": "execute_result",
          "data": {
            "text/html": [
              "<div>\n",
              "<style scoped>\n",
              "    .dataframe tbody tr th:only-of-type {\n",
              "        vertical-align: middle;\n",
              "    }\n",
              "\n",
              "    .dataframe tbody tr th {\n",
              "        vertical-align: top;\n",
              "    }\n",
              "\n",
              "    .dataframe thead th {\n",
              "        text-align: right;\n",
              "    }\n",
              "</style>\n",
              "<table border=\"1\" class=\"dataframe\">\n",
              "  <thead>\n",
              "    <tr style=\"text-align: right;\">\n",
              "      <th></th>\n",
              "      <th>ID_UOR</th>\n",
              "      <th>HH</th>\n",
              "      <th>Dia</th>\n",
              "      <th>DiaSem</th>\n",
              "      <th>Mes</th>\n",
              "      <th>PC_ACI_PZ</th>\n",
              "      <th>PC_ACI_PZ_SMN</th>\n",
              "      <th>PC_ACI_PZ_DIA</th>\n",
              "      <th>PC_ACI_PZ_MES</th>\n",
              "      <th>PC_ACI_PZ_MINSMN</th>\n",
              "      <th>PC_ACI_PZ_MINDIA</th>\n",
              "      <th>PC_ACI_PZ_MINMES</th>\n",
              "      <th>PC_ACI_PZ_MAXSMN</th>\n",
              "      <th>PC_ACI_PZ_MAXDIA</th>\n",
              "      <th>PC_ACI_PZ_MAXMES</th>\n",
              "    </tr>\n",
              "  </thead>\n",
              "  <tbody>\n",
              "    <tr>\n",
              "      <th>0</th>\n",
              "      <td>0</td>\n",
              "      <td>10</td>\n",
              "      <td>4</td>\n",
              "      <td>Mon</td>\n",
              "      <td>January</td>\n",
              "      <td>0.00</td>\n",
              "      <td>3.347907</td>\n",
              "      <td>6.690000</td>\n",
              "      <td>1.5705</td>\n",
              "      <td>0.0</td>\n",
              "      <td>0.0</td>\n",
              "      <td>0.0</td>\n",
              "      <td>22.22</td>\n",
              "      <td>40.00</td>\n",
              "      <td>23.08</td>\n",
              "    </tr>\n",
              "    <tr>\n",
              "      <th>1</th>\n",
              "      <td>0</td>\n",
              "      <td>10</td>\n",
              "      <td>11</td>\n",
              "      <td>Mon</td>\n",
              "      <td>January</td>\n",
              "      <td>0.00</td>\n",
              "      <td>3.347907</td>\n",
              "      <td>3.541250</td>\n",
              "      <td>1.5705</td>\n",
              "      <td>0.0</td>\n",
              "      <td>0.0</td>\n",
              "      <td>0.0</td>\n",
              "      <td>22.22</td>\n",
              "      <td>20.00</td>\n",
              "      <td>23.08</td>\n",
              "    </tr>\n",
              "    <tr>\n",
              "      <th>2</th>\n",
              "      <td>0</td>\n",
              "      <td>10</td>\n",
              "      <td>18</td>\n",
              "      <td>Mon</td>\n",
              "      <td>January</td>\n",
              "      <td>0.00</td>\n",
              "      <td>3.347907</td>\n",
              "      <td>5.745000</td>\n",
              "      <td>1.5705</td>\n",
              "      <td>0.0</td>\n",
              "      <td>0.0</td>\n",
              "      <td>0.0</td>\n",
              "      <td>22.22</td>\n",
              "      <td>28.57</td>\n",
              "      <td>23.08</td>\n",
              "    </tr>\n",
              "    <tr>\n",
              "      <th>3</th>\n",
              "      <td>0</td>\n",
              "      <td>10</td>\n",
              "      <td>25</td>\n",
              "      <td>Mon</td>\n",
              "      <td>January</td>\n",
              "      <td>8.33</td>\n",
              "      <td>3.347907</td>\n",
              "      <td>5.951429</td>\n",
              "      <td>1.5705</td>\n",
              "      <td>0.0</td>\n",
              "      <td>0.0</td>\n",
              "      <td>0.0</td>\n",
              "      <td>22.22</td>\n",
              "      <td>33.33</td>\n",
              "      <td>23.08</td>\n",
              "    </tr>\n",
              "    <tr>\n",
              "      <th>4</th>\n",
              "      <td>0</td>\n",
              "      <td>10</td>\n",
              "      <td>7</td>\n",
              "      <td>Thu</td>\n",
              "      <td>January</td>\n",
              "      <td>0.00</td>\n",
              "      <td>2.970667</td>\n",
              "      <td>1.098571</td>\n",
              "      <td>1.5705</td>\n",
              "      <td>0.0</td>\n",
              "      <td>0.0</td>\n",
              "      <td>0.0</td>\n",
              "      <td>33.33</td>\n",
              "      <td>7.69</td>\n",
              "      <td>23.08</td>\n",
              "    </tr>\n",
              "  </tbody>\n",
              "</table>\n",
              "</div>"
            ],
            "text/plain": [
              "  ID_UOR  HH Dia  ... PC_ACI_PZ_MAXSMN PC_ACI_PZ_MAXDIA  PC_ACI_PZ_MAXMES\n",
              "0      0  10   4  ...            22.22            40.00             23.08\n",
              "1      0  10  11  ...            22.22            20.00             23.08\n",
              "2      0  10  18  ...            22.22            28.57             23.08\n",
              "3      0  10  25  ...            22.22            33.33             23.08\n",
              "4      0  10   7  ...            33.33             7.69             23.08\n",
              "\n",
              "[5 rows x 15 columns]"
            ]
          },
          "metadata": {},
          "execution_count": 40
        }
      ]
    },
    {
      "cell_type": "markdown",
      "metadata": {
        "id": "WWHOPDTvYmw4"
      },
      "source": [
        "##DUMMIES"
      ]
    },
    {
      "cell_type": "code",
      "metadata": {
        "id": "zLflig23dWe5"
      },
      "source": [
        "abt = pd.get_dummies(abt, prefix=['ID_UOR', 'HH', 'Dia', 'DiaSem','Mes'])"
      ],
      "execution_count": 41,
      "outputs": []
    },
    {
      "cell_type": "markdown",
      "metadata": {
        "id": "xhdB-VRKHopp"
      },
      "source": [
        "## Train Test split + sklearn imports"
      ]
    },
    {
      "cell_type": "code",
      "metadata": {
        "id": "EetGuC2efxmk",
        "colab": {
          "base_uri": "https://localhost:8080/"
        },
        "outputId": "1037cec8-8fdb-405a-8716-5b70273ca68c"
      },
      "source": [
        "\n",
        "\n",
        "X = abt.iloc[:,1:]\n",
        "y = abt['PC_ACI_PZ']\n",
        "\n",
        "from sklearn.model_selection import train_test_split\n",
        "X_train, X_test, y_train, y_test = train_test_split(X, y, test_size = 0.3, random_state = 0)\n",
        "\n"
      ],
      "execution_count": 42,
      "outputs": [
        {
          "output_type": "stream",
          "name": "stdout",
          "text": [
            "Collecting catboost\n",
            "  Downloading catboost-1.0.3-cp37-none-manylinux1_x86_64.whl (76.3 MB)\n",
            "\u001b[K     |████████████████████████████████| 76.3 MB 33 kB/s \n",
            "\u001b[?25hRequirement already satisfied: numpy>=1.16.0 in /usr/local/lib/python3.7/dist-packages (from catboost) (1.19.5)\n",
            "Requirement already satisfied: graphviz in /usr/local/lib/python3.7/dist-packages (from catboost) (0.10.1)\n",
            "Requirement already satisfied: scipy in /usr/local/lib/python3.7/dist-packages (from catboost) (1.4.1)\n",
            "Requirement already satisfied: matplotlib in /usr/local/lib/python3.7/dist-packages (from catboost) (3.2.2)\n",
            "Requirement already satisfied: six in /usr/local/lib/python3.7/dist-packages (from catboost) (1.15.0)\n",
            "Requirement already satisfied: pandas>=0.24.0 in /usr/local/lib/python3.7/dist-packages (from catboost) (1.1.5)\n",
            "Requirement already satisfied: plotly in /usr/local/lib/python3.7/dist-packages (from catboost) (4.4.1)\n",
            "Requirement already satisfied: python-dateutil>=2.7.3 in /usr/local/lib/python3.7/dist-packages (from pandas>=0.24.0->catboost) (2.8.2)\n",
            "Requirement already satisfied: pytz>=2017.2 in /usr/local/lib/python3.7/dist-packages (from pandas>=0.24.0->catboost) (2018.9)\n",
            "Requirement already satisfied: cycler>=0.10 in /usr/local/lib/python3.7/dist-packages (from matplotlib->catboost) (0.10.0)\n",
            "Requirement already satisfied: pyparsing!=2.0.4,!=2.1.2,!=2.1.6,>=2.0.1 in /usr/local/lib/python3.7/dist-packages (from matplotlib->catboost) (2.4.7)\n",
            "Requirement already satisfied: kiwisolver>=1.0.1 in /usr/local/lib/python3.7/dist-packages (from matplotlib->catboost) (1.3.2)\n",
            "Requirement already satisfied: retrying>=1.3.3 in /usr/local/lib/python3.7/dist-packages (from plotly->catboost) (1.3.3)\n",
            "Installing collected packages: catboost\n",
            "Successfully installed catboost-1.0.3\n"
          ]
        }
      ]
    },
    {
      "cell_type": "markdown",
      "metadata": {
        "id": "b27y1Fhok-9u"
      },
      "source": [
        "## LGBM"
      ]
    },
    {
      "cell_type": "code",
      "metadata": {
        "colab": {
          "base_uri": "https://localhost:8080/"
        },
        "id": "CJ8AD2WsgkA5",
        "outputId": "ecfb0380-2051-4820-e584-928591eaad41"
      },
      "source": [
        "\n",
        "clf = lgb.LGBMRegressor()\n",
        "clf.fit(X_train, y_train)"
      ],
      "execution_count": null,
      "outputs": [
        {
          "output_type": "execute_result",
          "data": {
            "text/plain": [
              "LGBMRegressor(boosting_type='gbdt', class_weight=None, colsample_bytree=1.0,\n",
              "              importance_type='split', learning_rate=0.1, max_depth=-1,\n",
              "              min_child_samples=20, min_child_weight=0.001, min_split_gain=0.0,\n",
              "              n_estimators=100, n_jobs=-1, num_leaves=31, objective=None,\n",
              "              random_state=None, reg_alpha=0.0, reg_lambda=0.0, silent=True,\n",
              "              subsample=1.0, subsample_for_bin=200000, subsample_freq=0)"
            ]
          },
          "metadata": {},
          "execution_count": 19
        }
      ]
    },
    {
      "cell_type": "code",
      "metadata": {
        "colab": {
          "base_uri": "https://localhost:8080/"
        },
        "id": "KhpWZL7egnV7",
        "outputId": "b6f49111-1662-4d9a-c309-e74a5baefa71"
      },
      "source": [
        "#RESULTADO COM MÉDIA DO MÊS\n",
        "y_pred=clf.predict(X_test)\n",
        "y_pred_train = clf.predict(X_train)\n",
        "\n",
        "print(metrics.r2_score(y_train, y_pred_train))\n",
        "print(metrics.mean_absolute_error(y_train, y_pred_train))\n",
        "print(metrics.mean_squared_error(y_train, y_pred_train))\n",
        "print('---------------------------------------------------')\n",
        "print(metrics.r2_score(y_test, y_pred))\n",
        "print(metrics.mean_absolute_error(y_test, y_pred))\n",
        "print(metrics.mean_squared_error(y_test, y_pred))"
      ],
      "execution_count": null,
      "outputs": [
        {
          "output_type": "stream",
          "name": "stdout",
          "text": [
            "0.7133911262736912\n",
            "4.608754210800728\n",
            "73.96131736868968\n",
            "---------------------------------------------------\n",
            "0.5207606703662214\n",
            "5.905072110995992\n",
            "134.33932655747063\n"
          ]
        }
      ]
    },
    {
      "cell_type": "code",
      "metadata": {
        "colab": {
          "base_uri": "https://localhost:8080/",
          "height": 680
        },
        "id": "o-e-Tgrdg8bw",
        "outputId": "26706e6f-83bd-4a8b-e6f5-db6f4f835c2f"
      },
      "source": [
        "plt.figure(figsize=(25,10))\n",
        "sns.regplot(y_test, y_pred, fit_reg=True, scatter_kws={\"s\": 100})"
      ],
      "execution_count": null,
      "outputs": [
        {
          "output_type": "stream",
          "name": "stderr",
          "text": [
            "/usr/local/lib/python3.7/dist-packages/seaborn/_decorators.py:43: FutureWarning: Pass the following variables as keyword args: x, y. From version 0.12, the only valid positional argument will be `data`, and passing other arguments without an explicit keyword will result in an error or misinterpretation.\n",
            "  FutureWarning\n"
          ]
        },
        {
          "output_type": "execute_result",
          "data": {
            "text/plain": [
              "<matplotlib.axes._subplots.AxesSubplot at 0x7fa6af034c50>"
            ]
          },
          "metadata": {},
          "execution_count": 23
        },
        {
          "output_type": "display_data",
          "data": {
            "image/png": "[encoded data removed]",
            "text/plain": [
              "<Figure size 1800x720 with 1 Axes>"
            ]
          },
          "metadata": {}
        }
      ]
    },
    {
      "cell_type": "markdown",
      "metadata": {
        "id": "qj8gmiPugS1G"
      },
      "source": [
        "##LGBM otimização"
      ]
    },
    {
      "cell_type": "code",
      "metadata": {
        "id": "OTQTZjo1hRNj",
        "colab": {
          "base_uri": "https://localhost:8080/",
          "height": 217
        },
        "outputId": "46c8a414-4bd7-4473-9795-58a0087f6ef7"
      },
      "source": [
        "\n",
        "\n",
        "parametros = {\n",
        "    'max_depth' : [-1],\n",
        "    'num_leaves' : [20, 31, 50],\n",
        "    'learning_rate' : [0.01, 0.1],\n",
        "    'n_estimators' : [500, 600, 700]\n",
        "}\n",
        "\n",
        "lgbm_model_tunned = GridSearchCV(clf, parametros, verbose=2, scoring = 'neg_mean_squared_error', cv=5, n_jobs=-1)\n",
        "lgbm_model_tunned.fit(X_train,y_train)"
      ],
      "execution_count": null,
      "outputs": [
        {
          "output_type": "error",
          "ename": "NameError",
          "evalue": "ignored",
          "traceback": [
            "\u001b[0;31m---------------------------------------------------------------------------\u001b[0m",
            "\u001b[0;31mNameError\u001b[0m                                 Traceback (most recent call last)",
            "\u001b[0;32m<ipython-input-27-1e308502e344>\u001b[0m in \u001b[0;36m<module>\u001b[0;34m()\u001b[0m\n\u001b[1;32m      8\u001b[0m }\n\u001b[1;32m      9\u001b[0m \u001b[0;34m\u001b[0m\u001b[0m\n\u001b[0;32m---> 10\u001b[0;31m \u001b[0mlgbm_model_tunned\u001b[0m \u001b[0;34m=\u001b[0m \u001b[0mGridSearchCV\u001b[0m\u001b[0;34m(\u001b[0m\u001b[0mclf\u001b[0m\u001b[0;34m,\u001b[0m \u001b[0mparametros\u001b[0m\u001b[0;34m,\u001b[0m \u001b[0mverbose\u001b[0m\u001b[0;34m=\u001b[0m\u001b[0;36m2\u001b[0m\u001b[0;34m,\u001b[0m \u001b[0mscoring\u001b[0m \u001b[0;34m=\u001b[0m \u001b[0;34m'neg_mean_squared_error'\u001b[0m\u001b[0;34m,\u001b[0m \u001b[0mcv\u001b[0m\u001b[0;34m=\u001b[0m\u001b[0;36m5\u001b[0m\u001b[0;34m,\u001b[0m \u001b[0mn_jobs\u001b[0m\u001b[0;34m=\u001b[0m\u001b[0;34m-\u001b[0m\u001b[0;36m1\u001b[0m\u001b[0;34m)\u001b[0m\u001b[0;34m\u001b[0m\u001b[0;34m\u001b[0m\u001b[0m\n\u001b[0m\u001b[1;32m     11\u001b[0m \u001b[0mlgbm_model_tunned\u001b[0m\u001b[0;34m.\u001b[0m\u001b[0mfit\u001b[0m\u001b[0;34m(\u001b[0m\u001b[0mX_train\u001b[0m\u001b[0;34m,\u001b[0m\u001b[0my_train\u001b[0m\u001b[0;34m)\u001b[0m\u001b[0;34m\u001b[0m\u001b[0;34m\u001b[0m\u001b[0m\n",
            "\u001b[0;31mNameError\u001b[0m: name 'clf' is not defined"
          ]
        }
      ]
    },
    {
      "cell_type": "code",
      "metadata": {
        "colab": {
          "base_uri": "https://localhost:8080/"
        },
        "id": "OOPF6f6xhudb",
        "outputId": "d9b5f939-4a6c-4336-b821-e37c1084d2c5"
      },
      "source": [
        "best_params = lgbm_model_tunned.best_params_\n",
        "print(f'Hiperparâmetros = {best_params}')"
      ],
      "execution_count": null,
      "outputs": [
        {
          "output_type": "stream",
          "name": "stdout",
          "text": [
            "Hiperparâmetros = {'learning_rate': 0.01, 'max_depth': -1, 'n_estimators': 500, 'num_leaves': 31}\n"
          ]
        }
      ]
    },
    {
      "cell_type": "code",
      "metadata": {
        "colab": {
          "base_uri": "https://localhost:8080/"
        },
        "id": "L6HlblQr9c65",
        "outputId": "6631a1fe-d408-4619-f74a-693efc6a0905"
      },
      "source": [
        "y_pred_tunned = lgbm_model_tunned.predict(X_test)\n",
        "\n",
        "print(metrics.r2_score(y_test, y_pred_tunned))\n",
        "print(metrics.mean_absolute_error(y_test, y_pred_tunned))\n",
        "print(metrics.mean_squared_error(y_test, y_pred))"
      ],
      "execution_count": null,
      "outputs": [
        {
          "output_type": "stream",
          "name": "stdout",
          "text": [
            "0.5236760230068935\n",
            "5.948145251789212\n",
            "134.33932655747063\n"
          ]
        }
      ]
    },
    {
      "cell_type": "code",
      "metadata": {
        "colab": {
          "base_uri": "https://localhost:8080/",
          "height": 682
        },
        "id": "FpBZt_shh78H",
        "outputId": "ffd24202-8d66-4997-b1a9-7ec84816657a"
      },
      "source": [
        "plt.figure(figsize=(25,10))\n",
        "sns.regplot(y_test, y_pred_tunned, fit_reg=True, scatter_kws={\"s\": 100})"
      ],
      "execution_count": null,
      "outputs": [
        {
          "output_type": "stream",
          "name": "stderr",
          "text": [
            "/usr/local/lib/python3.7/dist-packages/seaborn/_decorators.py:43: FutureWarning: Pass the following variables as keyword args: x, y. From version 0.12, the only valid positional argument will be `data`, and passing other arguments without an explicit keyword will result in an error or misinterpretation.\n",
            "  FutureWarning\n"
          ]
        },
        {
          "output_type": "execute_result",
          "data": {
            "text/plain": [
              "<matplotlib.axes._subplots.AxesSubplot at 0x7f6099a399d0>"
            ]
          },
          "metadata": {},
          "execution_count": 150
        },
        {
          "output_type": "display_data",
          "data": {
            "image/png": "[encoded data removed]",
            "text/plain": [
              "<Figure size 1800x720 with 1 Axes>"
            ]
          },
          "metadata": {}
        }
      ]
    },
    {
      "cell_type": "markdown",
      "metadata": {
        "id": "PPt04whgkCmd"
      },
      "source": [
        "##CATBOOST"
      ]
    },
    {
      "cell_type": "code",
      "metadata": {
        "id": "smVB_qvJFcFx",
        "colab": {
          "base_uri": "https://localhost:8080/"
        },
        "outputId": "e5ee4952-dace-43d7-b199-7e6b966f1dc3"
      },
      "source": [
        "model = CatBoostRegressor()\n",
        "# Fit model\n",
        "model.fit(X_train, y_train)\n",
        "# Get predictions\n",
        "preds = model.predict(X_test)\n",
        "print(metrics.mean_squared_error(y_test, preds))\n"
      ],
      "execution_count": 44,
      "outputs": [
        {
          "output_type": "stream",
          "name": "stdout",
          "text": [
            "Learning rate set to 0.062516\n",
            "0:\tlearn: 15.6516702\ttotal: 53ms\tremaining: 52.9s\n",
            "1:\tlearn: 15.2876039\ttotal: 57.8ms\tremaining: 28.9s\n",
            "2:\tlearn: 14.9881064\ttotal: 62.8ms\tremaining: 20.9s\n",
            "3:\tlearn: 14.7061417\ttotal: 67.4ms\tremaining: 16.8s\n",
            "4:\tlearn: 14.4180294\ttotal: 72.1ms\tremaining: 14.3s\n",
            "5:\tlearn: 14.1636360\ttotal: 76.9ms\tremaining: 12.7s\n",
            "6:\tlearn: 13.9258946\ttotal: 81.3ms\tremaining: 11.5s\n",
            "7:\tlearn: 13.7108610\ttotal: 86ms\tremaining: 10.7s\n",
            "8:\tlearn: 13.5339474\ttotal: 90.7ms\tremaining: 9.98s\n",
            "9:\tlearn: 13.3633713\ttotal: 95.4ms\tremaining: 9.45s\n",
            "10:\tlearn: 13.2139129\ttotal: 100ms\tremaining: 9s\n",
            "11:\tlearn: 13.0744626\ttotal: 105ms\tremaining: 8.63s\n",
            "12:\tlearn: 12.9027032\ttotal: 109ms\tremaining: 8.31s\n",
            "13:\tlearn: 12.7857052\ttotal: 114ms\tremaining: 8.04s\n",
            "14:\tlearn: 12.6483849\ttotal: 119ms\tremaining: 7.81s\n",
            "15:\tlearn: 12.5457800\ttotal: 124ms\tremaining: 7.61s\n",
            "16:\tlearn: 12.4208996\ttotal: 128ms\tremaining: 7.43s\n",
            "17:\tlearn: 12.3422193\ttotal: 133ms\tremaining: 7.28s\n",
            "18:\tlearn: 12.2833890\ttotal: 137ms\tremaining: 7.07s\n",
            "19:\tlearn: 12.1945797\ttotal: 142ms\tremaining: 6.95s\n",
            "20:\tlearn: 12.1101193\ttotal: 146ms\tremaining: 6.82s\n",
            "21:\tlearn: 12.0299166\ttotal: 151ms\tremaining: 6.71s\n",
            "22:\tlearn: 11.9525644\ttotal: 156ms\tremaining: 6.63s\n",
            "23:\tlearn: 11.8843629\ttotal: 161ms\tremaining: 6.55s\n",
            "24:\tlearn: 11.8402444\ttotal: 166ms\tremaining: 6.48s\n",
            "25:\tlearn: 11.7977812\ttotal: 171ms\tremaining: 6.39s\n",
            "26:\tlearn: 11.7598423\ttotal: 175ms\tremaining: 6.31s\n",
            "27:\tlearn: 11.7072529\ttotal: 180ms\tremaining: 6.24s\n",
            "28:\tlearn: 11.6708810\ttotal: 184ms\tremaining: 6.17s\n",
            "29:\tlearn: 11.6179910\ttotal: 194ms\tremaining: 6.26s\n",
            "30:\tlearn: 11.5535619\ttotal: 199ms\tremaining: 6.22s\n",
            "31:\tlearn: 11.5261445\ttotal: 206ms\tremaining: 6.25s\n",
            "32:\tlearn: 11.5026008\ttotal: 211ms\tremaining: 6.19s\n",
            "33:\tlearn: 11.4833643\ttotal: 216ms\tremaining: 6.13s\n",
            "34:\tlearn: 11.4597027\ttotal: 221ms\tremaining: 6.08s\n",
            "35:\tlearn: 11.4350595\ttotal: 225ms\tremaining: 6.03s\n",
            "36:\tlearn: 11.4120271\ttotal: 230ms\tremaining: 5.98s\n",
            "37:\tlearn: 11.3757765\ttotal: 235ms\tremaining: 5.95s\n",
            "38:\tlearn: 11.3482761\ttotal: 240ms\tremaining: 5.9s\n",
            "39:\tlearn: 11.3074272\ttotal: 245ms\tremaining: 5.87s\n",
            "40:\tlearn: 11.2759009\ttotal: 250ms\tremaining: 5.84s\n",
            "41:\tlearn: 11.2380024\ttotal: 255ms\tremaining: 5.81s\n",
            "42:\tlearn: 11.2084056\ttotal: 259ms\tremaining: 5.78s\n",
            "43:\tlearn: 11.1729321\ttotal: 264ms\tremaining: 5.74s\n",
            "44:\tlearn: 11.1553688\ttotal: 269ms\tremaining: 5.71s\n",
            "45:\tlearn: 11.1417831\ttotal: 274ms\tremaining: 5.67s\n",
            "46:\tlearn: 11.1252206\ttotal: 278ms\tremaining: 5.64s\n",
            "47:\tlearn: 11.1100438\ttotal: 283ms\tremaining: 5.62s\n",
            "48:\tlearn: 11.0847940\ttotal: 288ms\tremaining: 5.59s\n",
            "49:\tlearn: 11.0697354\ttotal: 293ms\tremaining: 5.56s\n",
            "50:\tlearn: 11.0588011\ttotal: 298ms\tremaining: 5.54s\n",
            "51:\tlearn: 11.0366997\ttotal: 302ms\tremaining: 5.51s\n",
            "52:\tlearn: 11.0278458\ttotal: 307ms\tremaining: 5.49s\n",
            "53:\tlearn: 11.0055850\ttotal: 312ms\tremaining: 5.46s\n",
            "54:\tlearn: 10.9911233\ttotal: 316ms\tremaining: 5.43s\n",
            "55:\tlearn: 10.9766407\ttotal: 321ms\tremaining: 5.41s\n",
            "56:\tlearn: 10.9650689\ttotal: 326ms\tremaining: 5.39s\n",
            "57:\tlearn: 10.9542787\ttotal: 330ms\tremaining: 5.37s\n",
            "58:\tlearn: 10.9426409\ttotal: 335ms\tremaining: 5.34s\n",
            "59:\tlearn: 10.9134021\ttotal: 341ms\tremaining: 5.35s\n",
            "60:\tlearn: 10.9052606\ttotal: 351ms\tremaining: 5.4s\n",
            "61:\tlearn: 10.8986767\ttotal: 356ms\tremaining: 5.38s\n",
            "62:\tlearn: 10.8882056\ttotal: 361ms\tremaining: 5.37s\n",
            "63:\tlearn: 10.8787092\ttotal: 366ms\tremaining: 5.35s\n",
            "64:\tlearn: 10.8739731\ttotal: 370ms\tremaining: 5.33s\n",
            "65:\tlearn: 10.8555046\ttotal: 375ms\tremaining: 5.31s\n",
            "66:\tlearn: 10.8427356\ttotal: 383ms\tremaining: 5.33s\n",
            "67:\tlearn: 10.8270450\ttotal: 399ms\tremaining: 5.47s\n",
            "68:\tlearn: 10.8081303\ttotal: 407ms\tremaining: 5.49s\n",
            "69:\tlearn: 10.8024045\ttotal: 412ms\tremaining: 5.47s\n",
            "70:\tlearn: 10.7957344\ttotal: 417ms\tremaining: 5.45s\n",
            "71:\tlearn: 10.7908196\ttotal: 422ms\tremaining: 5.43s\n",
            "72:\tlearn: 10.7800150\ttotal: 426ms\tremaining: 5.41s\n",
            "73:\tlearn: 10.7697278\ttotal: 431ms\tremaining: 5.39s\n",
            "74:\tlearn: 10.7656696\ttotal: 435ms\tremaining: 5.37s\n",
            "75:\tlearn: 10.7604324\ttotal: 440ms\tremaining: 5.35s\n",
            "76:\tlearn: 10.7534279\ttotal: 445ms\tremaining: 5.33s\n",
            "77:\tlearn: 10.7363912\ttotal: 449ms\tremaining: 5.31s\n",
            "78:\tlearn: 10.7281561\ttotal: 454ms\tremaining: 5.29s\n",
            "79:\tlearn: 10.7100537\ttotal: 458ms\tremaining: 5.27s\n",
            "80:\tlearn: 10.6938831\ttotal: 462ms\tremaining: 5.25s\n",
            "81:\tlearn: 10.6819236\ttotal: 467ms\tremaining: 5.23s\n",
            "82:\tlearn: 10.6754908\ttotal: 472ms\tremaining: 5.21s\n",
            "83:\tlearn: 10.6694133\ttotal: 477ms\tremaining: 5.2s\n",
            "84:\tlearn: 10.6667381\ttotal: 481ms\tremaining: 5.18s\n",
            "85:\tlearn: 10.6537099\ttotal: 486ms\tremaining: 5.17s\n",
            "86:\tlearn: 10.6510346\ttotal: 491ms\tremaining: 5.15s\n",
            "87:\tlearn: 10.6467383\ttotal: 496ms\tremaining: 5.14s\n",
            "88:\tlearn: 10.6405247\ttotal: 500ms\tremaining: 5.12s\n",
            "89:\tlearn: 10.6323356\ttotal: 505ms\tremaining: 5.1s\n",
            "90:\tlearn: 10.6219529\ttotal: 509ms\tremaining: 5.09s\n",
            "91:\tlearn: 10.6137344\ttotal: 514ms\tremaining: 5.07s\n",
            "92:\tlearn: 10.6066117\ttotal: 519ms\tremaining: 5.06s\n",
            "93:\tlearn: 10.5917725\ttotal: 524ms\tremaining: 5.05s\n",
            "94:\tlearn: 10.5855896\ttotal: 528ms\tremaining: 5.03s\n",
            "95:\tlearn: 10.5791000\ttotal: 533ms\tremaining: 5.02s\n",
            "96:\tlearn: 10.5698290\ttotal: 538ms\tremaining: 5s\n",
            "97:\tlearn: 10.5592812\ttotal: 542ms\tremaining: 4.99s\n",
            "98:\tlearn: 10.5543025\ttotal: 547ms\tremaining: 4.97s\n",
            "99:\tlearn: 10.5444076\ttotal: 552ms\tremaining: 4.96s\n",
            "100:\tlearn: 10.5295788\ttotal: 557ms\tremaining: 4.96s\n",
            "101:\tlearn: 10.5177963\ttotal: 565ms\tremaining: 4.97s\n",
            "102:\tlearn: 10.5128497\ttotal: 571ms\tremaining: 4.97s\n",
            "103:\tlearn: 10.5029861\ttotal: 575ms\tremaining: 4.96s\n",
            "104:\tlearn: 10.5004010\ttotal: 579ms\tremaining: 4.94s\n",
            "105:\tlearn: 10.4861451\ttotal: 584ms\tremaining: 4.92s\n",
            "106:\tlearn: 10.4840035\ttotal: 588ms\tremaining: 4.91s\n",
            "107:\tlearn: 10.4784010\ttotal: 596ms\tremaining: 4.92s\n",
            "108:\tlearn: 10.4743533\ttotal: 601ms\tremaining: 4.92s\n",
            "109:\tlearn: 10.4712726\ttotal: 606ms\tremaining: 4.9s\n",
            "110:\tlearn: 10.4643106\ttotal: 610ms\tremaining: 4.89s\n",
            "111:\tlearn: 10.4556586\ttotal: 615ms\tremaining: 4.88s\n",
            "112:\tlearn: 10.4503188\ttotal: 620ms\tremaining: 4.86s\n",
            "113:\tlearn: 10.4431333\ttotal: 625ms\tremaining: 4.86s\n",
            "114:\tlearn: 10.4337068\ttotal: 631ms\tremaining: 4.85s\n",
            "115:\tlearn: 10.4269792\ttotal: 636ms\tremaining: 4.85s\n",
            "116:\tlearn: 10.4200040\ttotal: 641ms\tremaining: 4.84s\n",
            "117:\tlearn: 10.4119472\ttotal: 646ms\tremaining: 4.83s\n",
            "118:\tlearn: 10.3977662\ttotal: 651ms\tremaining: 4.82s\n",
            "119:\tlearn: 10.3952882\ttotal: 656ms\tremaining: 4.81s\n",
            "120:\tlearn: 10.3851635\ttotal: 660ms\tremaining: 4.8s\n",
            "121:\tlearn: 10.3793020\ttotal: 665ms\tremaining: 4.79s\n",
            "122:\tlearn: 10.3716891\ttotal: 670ms\tremaining: 4.77s\n",
            "123:\tlearn: 10.3672593\ttotal: 674ms\tremaining: 4.76s\n",
            "124:\tlearn: 10.3550875\ttotal: 679ms\tremaining: 4.75s\n",
            "125:\tlearn: 10.3468142\ttotal: 683ms\tremaining: 4.74s\n",
            "126:\tlearn: 10.3412024\ttotal: 688ms\tremaining: 4.73s\n",
            "127:\tlearn: 10.3338937\ttotal: 692ms\tremaining: 4.72s\n",
            "128:\tlearn: 10.3216724\ttotal: 697ms\tremaining: 4.71s\n",
            "129:\tlearn: 10.3152870\ttotal: 707ms\tremaining: 4.73s\n",
            "130:\tlearn: 10.3092949\ttotal: 711ms\tremaining: 4.72s\n",
            "131:\tlearn: 10.3026138\ttotal: 716ms\tremaining: 4.71s\n",
            "132:\tlearn: 10.3001336\ttotal: 720ms\tremaining: 4.69s\n",
            "133:\tlearn: 10.2833506\ttotal: 733ms\tremaining: 4.74s\n",
            "134:\tlearn: 10.2752801\ttotal: 739ms\tremaining: 4.73s\n",
            "135:\tlearn: 10.2682560\ttotal: 743ms\tremaining: 4.72s\n",
            "136:\tlearn: 10.2631388\ttotal: 749ms\tremaining: 4.71s\n",
            "137:\tlearn: 10.2560992\ttotal: 753ms\tremaining: 4.7s\n",
            "138:\tlearn: 10.2484060\ttotal: 758ms\tremaining: 4.69s\n",
            "139:\tlearn: 10.2423846\ttotal: 763ms\tremaining: 4.68s\n",
            "140:\tlearn: 10.2331935\ttotal: 769ms\tremaining: 4.68s\n",
            "141:\tlearn: 10.2241237\ttotal: 774ms\tremaining: 4.67s\n",
            "142:\tlearn: 10.2128221\ttotal: 778ms\tremaining: 4.67s\n",
            "143:\tlearn: 10.2085190\ttotal: 783ms\tremaining: 4.65s\n",
            "144:\tlearn: 10.2006772\ttotal: 793ms\tremaining: 4.68s\n",
            "145:\tlearn: 10.1972742\ttotal: 798ms\tremaining: 4.67s\n",
            "146:\tlearn: 10.1925081\ttotal: 803ms\tremaining: 4.66s\n",
            "147:\tlearn: 10.1868264\ttotal: 808ms\tremaining: 4.65s\n",
            "148:\tlearn: 10.1830948\ttotal: 812ms\tremaining: 4.64s\n",
            "149:\tlearn: 10.1734733\ttotal: 817ms\tremaining: 4.63s\n",
            "150:\tlearn: 10.1678693\ttotal: 822ms\tremaining: 4.62s\n",
            "151:\tlearn: 10.1620654\ttotal: 827ms\tremaining: 4.61s\n",
            "152:\tlearn: 10.1532921\ttotal: 832ms\tremaining: 4.6s\n",
            "153:\tlearn: 10.1488963\ttotal: 837ms\tremaining: 4.59s\n",
            "154:\tlearn: 10.1378904\ttotal: 842ms\tremaining: 4.59s\n",
            "155:\tlearn: 10.1312338\ttotal: 847ms\tremaining: 4.58s\n",
            "156:\tlearn: 10.1259095\ttotal: 852ms\tremaining: 4.57s\n",
            "157:\tlearn: 10.1232789\ttotal: 857ms\tremaining: 4.57s\n",
            "158:\tlearn: 10.1104579\ttotal: 861ms\tremaining: 4.56s\n",
            "159:\tlearn: 10.1055655\ttotal: 866ms\tremaining: 4.55s\n",
            "160:\tlearn: 10.1006856\ttotal: 871ms\tremaining: 4.54s\n",
            "161:\tlearn: 10.0952685\ttotal: 876ms\tremaining: 4.53s\n",
            "162:\tlearn: 10.0891457\ttotal: 880ms\tremaining: 4.52s\n",
            "163:\tlearn: 10.0733185\ttotal: 885ms\tremaining: 4.51s\n",
            "164:\tlearn: 10.0669378\ttotal: 890ms\tremaining: 4.5s\n",
            "165:\tlearn: 10.0573240\ttotal: 894ms\tremaining: 4.49s\n",
            "166:\tlearn: 10.0510426\ttotal: 899ms\tremaining: 4.48s\n",
            "167:\tlearn: 10.0449142\ttotal: 903ms\tremaining: 4.47s\n",
            "168:\tlearn: 10.0378439\ttotal: 908ms\tremaining: 4.46s\n",
            "169:\tlearn: 10.0322231\ttotal: 915ms\tremaining: 4.47s\n",
            "170:\tlearn: 10.0255556\ttotal: 920ms\tremaining: 4.46s\n",
            "171:\tlearn: 10.0141230\ttotal: 928ms\tremaining: 4.47s\n",
            "172:\tlearn: 10.0039135\ttotal: 933ms\tremaining: 4.46s\n",
            "173:\tlearn: 9.9968682\ttotal: 937ms\tremaining: 4.45s\n",
            "174:\tlearn: 9.9904995\ttotal: 942ms\tremaining: 4.44s\n",
            "175:\tlearn: 9.9845931\ttotal: 946ms\tremaining: 4.43s\n",
            "176:\tlearn: 9.9799134\ttotal: 950ms\tremaining: 4.42s\n",
            "177:\tlearn: 9.9731943\ttotal: 955ms\tremaining: 4.41s\n",
            "178:\tlearn: 9.9660147\ttotal: 959ms\tremaining: 4.4s\n",
            "179:\tlearn: 9.9591813\ttotal: 964ms\tremaining: 4.39s\n",
            "180:\tlearn: 9.9546591\ttotal: 968ms\tremaining: 4.38s\n",
            "181:\tlearn: 9.9457366\ttotal: 973ms\tremaining: 4.37s\n",
            "182:\tlearn: 9.9408731\ttotal: 977ms\tremaining: 4.36s\n",
            "183:\tlearn: 9.9335676\ttotal: 982ms\tremaining: 4.36s\n",
            "184:\tlearn: 9.9223433\ttotal: 992ms\tremaining: 4.37s\n",
            "185:\tlearn: 9.9134373\ttotal: 998ms\tremaining: 4.37s\n",
            "186:\tlearn: 9.9064529\ttotal: 1s\tremaining: 4.36s\n",
            "187:\tlearn: 9.9012890\ttotal: 1.01s\tremaining: 4.35s\n",
            "188:\tlearn: 9.8972662\ttotal: 1.01s\tremaining: 4.34s\n",
            "189:\tlearn: 9.8885708\ttotal: 1.02s\tremaining: 4.33s\n",
            "190:\tlearn: 9.8827980\ttotal: 1.02s\tremaining: 4.33s\n",
            "191:\tlearn: 9.8778048\ttotal: 1.03s\tremaining: 4.32s\n",
            "192:\tlearn: 9.8698437\ttotal: 1.03s\tremaining: 4.31s\n",
            "193:\tlearn: 9.8642695\ttotal: 1.04s\tremaining: 4.3s\n",
            "194:\tlearn: 9.8549465\ttotal: 1.04s\tremaining: 4.3s\n",
            "195:\tlearn: 9.8470425\ttotal: 1.04s\tremaining: 4.29s\n",
            "196:\tlearn: 9.8393803\ttotal: 1.05s\tremaining: 4.28s\n",
            "197:\tlearn: 9.8349463\ttotal: 1.05s\tremaining: 4.27s\n",
            "198:\tlearn: 9.8275148\ttotal: 1.06s\tremaining: 4.26s\n",
            "199:\tlearn: 9.8195956\ttotal: 1.06s\tremaining: 4.25s\n",
            "200:\tlearn: 9.8130864\ttotal: 1.07s\tremaining: 4.24s\n",
            "201:\tlearn: 9.8050882\ttotal: 1.07s\tremaining: 4.24s\n",
            "202:\tlearn: 9.8007201\ttotal: 1.08s\tremaining: 4.23s\n",
            "203:\tlearn: 9.7929466\ttotal: 1.08s\tremaining: 4.22s\n",
            "204:\tlearn: 9.7893967\ttotal: 1.08s\tremaining: 4.21s\n",
            "205:\tlearn: 9.7852738\ttotal: 1.09s\tremaining: 4.2s\n",
            "206:\tlearn: 9.7773812\ttotal: 1.09s\tremaining: 4.19s\n",
            "207:\tlearn: 9.7717431\ttotal: 1.1s\tremaining: 4.19s\n",
            "208:\tlearn: 9.7646183\ttotal: 1.1s\tremaining: 4.18s\n",
            "209:\tlearn: 9.7595388\ttotal: 1.11s\tremaining: 4.17s\n",
            "210:\tlearn: 9.7532953\ttotal: 1.11s\tremaining: 4.16s\n",
            "211:\tlearn: 9.7460631\ttotal: 1.12s\tremaining: 4.16s\n",
            "212:\tlearn: 9.7371712\ttotal: 1.12s\tremaining: 4.15s\n",
            "213:\tlearn: 9.7310918\ttotal: 1.13s\tremaining: 4.14s\n",
            "214:\tlearn: 9.7247413\ttotal: 1.13s\tremaining: 4.13s\n",
            "215:\tlearn: 9.7203373\ttotal: 1.14s\tremaining: 4.12s\n",
            "216:\tlearn: 9.7143883\ttotal: 1.14s\tremaining: 4.12s\n",
            "217:\tlearn: 9.7108650\ttotal: 1.15s\tremaining: 4.11s\n",
            "218:\tlearn: 9.7047427\ttotal: 1.15s\tremaining: 4.1s\n",
            "219:\tlearn: 9.6954791\ttotal: 1.15s\tremaining: 4.09s\n",
            "220:\tlearn: 9.6901309\ttotal: 1.16s\tremaining: 4.08s\n",
            "221:\tlearn: 9.6811247\ttotal: 1.16s\tremaining: 4.07s\n",
            "222:\tlearn: 9.6745242\ttotal: 1.17s\tremaining: 4.07s\n",
            "223:\tlearn: 9.6694347\ttotal: 1.17s\tremaining: 4.06s\n",
            "224:\tlearn: 9.6645655\ttotal: 1.18s\tremaining: 4.05s\n",
            "225:\tlearn: 9.6574490\ttotal: 1.18s\tremaining: 4.04s\n",
            "226:\tlearn: 9.6508119\ttotal: 1.19s\tremaining: 4.05s\n",
            "227:\tlearn: 9.6472507\ttotal: 1.19s\tremaining: 4.04s\n",
            "228:\tlearn: 9.6398865\ttotal: 1.2s\tremaining: 4.04s\n",
            "229:\tlearn: 9.6324147\ttotal: 1.2s\tremaining: 4.03s\n",
            "230:\tlearn: 9.6264158\ttotal: 1.21s\tremaining: 4.02s\n",
            "231:\tlearn: 9.6215496\ttotal: 1.21s\tremaining: 4.01s\n",
            "232:\tlearn: 9.6142027\ttotal: 1.22s\tremaining: 4s\n",
            "233:\tlearn: 9.6093086\ttotal: 1.22s\tremaining: 3.99s\n",
            "234:\tlearn: 9.6016518\ttotal: 1.22s\tremaining: 3.98s\n",
            "235:\tlearn: 9.5972799\ttotal: 1.23s\tremaining: 3.97s\n",
            "236:\tlearn: 9.5891381\ttotal: 1.23s\tremaining: 3.97s\n",
            "237:\tlearn: 9.5849697\ttotal: 1.24s\tremaining: 3.96s\n",
            "238:\tlearn: 9.5807362\ttotal: 1.24s\tremaining: 3.95s\n",
            "239:\tlearn: 9.5750268\ttotal: 1.24s\tremaining: 3.94s\n",
            "240:\tlearn: 9.5660298\ttotal: 1.25s\tremaining: 3.93s\n",
            "241:\tlearn: 9.5620140\ttotal: 1.25s\tremaining: 3.92s\n",
            "242:\tlearn: 9.5572186\ttotal: 1.26s\tremaining: 3.92s\n",
            "243:\tlearn: 9.5520508\ttotal: 1.26s\tremaining: 3.91s\n",
            "244:\tlearn: 9.5475900\ttotal: 1.27s\tremaining: 3.9s\n",
            "245:\tlearn: 9.5442012\ttotal: 1.27s\tremaining: 3.89s\n",
            "246:\tlearn: 9.5404958\ttotal: 1.27s\tremaining: 3.89s\n",
            "247:\tlearn: 9.5332632\ttotal: 1.28s\tremaining: 3.88s\n",
            "248:\tlearn: 9.5275518\ttotal: 1.28s\tremaining: 3.87s\n",
            "249:\tlearn: 9.5212394\ttotal: 1.29s\tremaining: 3.87s\n",
            "250:\tlearn: 9.5145740\ttotal: 1.29s\tremaining: 3.86s\n",
            "251:\tlearn: 9.5083516\ttotal: 1.3s\tremaining: 3.85s\n",
            "252:\tlearn: 9.5039659\ttotal: 1.3s\tremaining: 3.85s\n",
            "253:\tlearn: 9.5001875\ttotal: 1.31s\tremaining: 3.84s\n",
            "254:\tlearn: 9.4963951\ttotal: 1.32s\tremaining: 3.85s\n",
            "255:\tlearn: 9.4925828\ttotal: 1.32s\tremaining: 3.85s\n",
            "256:\tlearn: 9.4892314\ttotal: 1.33s\tremaining: 3.84s\n",
            "257:\tlearn: 9.4852968\ttotal: 1.33s\tremaining: 3.83s\n",
            "258:\tlearn: 9.4818238\ttotal: 1.34s\tremaining: 3.83s\n",
            "259:\tlearn: 9.4771165\ttotal: 1.35s\tremaining: 3.85s\n",
            "260:\tlearn: 9.4715750\ttotal: 1.36s\tremaining: 3.84s\n",
            "261:\tlearn: 9.4681582\ttotal: 1.36s\tremaining: 3.83s\n",
            "262:\tlearn: 9.4650105\ttotal: 1.36s\tremaining: 3.82s\n",
            "263:\tlearn: 9.4615902\ttotal: 1.37s\tremaining: 3.82s\n",
            "264:\tlearn: 9.4549176\ttotal: 1.37s\tremaining: 3.81s\n",
            "265:\tlearn: 9.4520838\ttotal: 1.38s\tremaining: 3.81s\n",
            "266:\tlearn: 9.4429750\ttotal: 1.39s\tremaining: 3.81s\n",
            "267:\tlearn: 9.4405350\ttotal: 1.39s\tremaining: 3.8s\n",
            "268:\tlearn: 9.4303375\ttotal: 1.4s\tremaining: 3.8s\n",
            "269:\tlearn: 9.4280112\ttotal: 1.4s\tremaining: 3.79s\n",
            "270:\tlearn: 9.4228545\ttotal: 1.41s\tremaining: 3.78s\n",
            "271:\tlearn: 9.4177150\ttotal: 1.41s\tremaining: 3.77s\n",
            "272:\tlearn: 9.4142539\ttotal: 1.42s\tremaining: 3.77s\n",
            "273:\tlearn: 9.4074404\ttotal: 1.42s\tremaining: 3.76s\n",
            "274:\tlearn: 9.4000664\ttotal: 1.42s\tremaining: 3.75s\n",
            "275:\tlearn: 9.3970366\ttotal: 1.43s\tremaining: 3.75s\n",
            "276:\tlearn: 9.3927999\ttotal: 1.43s\tremaining: 3.74s\n",
            "277:\tlearn: 9.3898804\ttotal: 1.44s\tremaining: 3.73s\n",
            "278:\tlearn: 9.3861107\ttotal: 1.44s\tremaining: 3.73s\n",
            "279:\tlearn: 9.3798329\ttotal: 1.45s\tremaining: 3.72s\n",
            "280:\tlearn: 9.3749883\ttotal: 1.45s\tremaining: 3.71s\n",
            "281:\tlearn: 9.3679701\ttotal: 1.46s\tremaining: 3.71s\n",
            "282:\tlearn: 9.3633815\ttotal: 1.46s\tremaining: 3.71s\n",
            "283:\tlearn: 9.3585218\ttotal: 1.47s\tremaining: 3.7s\n",
            "284:\tlearn: 9.3524585\ttotal: 1.47s\tremaining: 3.7s\n",
            "285:\tlearn: 9.3458890\ttotal: 1.48s\tremaining: 3.69s\n",
            "286:\tlearn: 9.3425210\ttotal: 1.48s\tremaining: 3.68s\n",
            "287:\tlearn: 9.3384657\ttotal: 1.49s\tremaining: 3.68s\n",
            "288:\tlearn: 9.3333485\ttotal: 1.49s\tremaining: 3.67s\n",
            "289:\tlearn: 9.3300885\ttotal: 1.5s\tremaining: 3.67s\n",
            "290:\tlearn: 9.3240260\ttotal: 1.5s\tremaining: 3.66s\n",
            "291:\tlearn: 9.3220927\ttotal: 1.51s\tremaining: 3.65s\n",
            "292:\tlearn: 9.3198427\ttotal: 1.51s\tremaining: 3.65s\n",
            "293:\tlearn: 9.3165478\ttotal: 1.51s\tremaining: 3.64s\n",
            "294:\tlearn: 9.3106174\ttotal: 1.52s\tremaining: 3.63s\n",
            "295:\tlearn: 9.3046391\ttotal: 1.52s\tremaining: 3.63s\n",
            "296:\tlearn: 9.3003640\ttotal: 1.53s\tremaining: 3.62s\n",
            "297:\tlearn: 9.2934952\ttotal: 1.53s\tremaining: 3.61s\n",
            "298:\tlearn: 9.2901732\ttotal: 1.54s\tremaining: 3.6s\n",
            "299:\tlearn: 9.2880121\ttotal: 1.54s\tremaining: 3.6s\n",
            "300:\tlearn: 9.2817604\ttotal: 1.55s\tremaining: 3.59s\n",
            "301:\tlearn: 9.2788911\ttotal: 1.55s\tremaining: 3.59s\n",
            "302:\tlearn: 9.2751109\ttotal: 1.56s\tremaining: 3.58s\n",
            "303:\tlearn: 9.2700372\ttotal: 1.56s\tremaining: 3.58s\n",
            "304:\tlearn: 9.2642838\ttotal: 1.57s\tremaining: 3.57s\n",
            "305:\tlearn: 9.2592022\ttotal: 1.57s\tremaining: 3.57s\n",
            "306:\tlearn: 9.2562083\ttotal: 1.58s\tremaining: 3.57s\n",
            "307:\tlearn: 9.2532251\ttotal: 1.59s\tremaining: 3.56s\n",
            "308:\tlearn: 9.2511739\ttotal: 1.59s\tremaining: 3.56s\n",
            "309:\tlearn: 9.2483247\ttotal: 1.59s\tremaining: 3.55s\n",
            "310:\tlearn: 9.2420571\ttotal: 1.6s\tremaining: 3.54s\n",
            "311:\tlearn: 9.2380257\ttotal: 1.6s\tremaining: 3.54s\n",
            "312:\tlearn: 9.2338190\ttotal: 1.61s\tremaining: 3.53s\n",
            "313:\tlearn: 9.2301494\ttotal: 1.61s\tremaining: 3.52s\n",
            "314:\tlearn: 9.2255697\ttotal: 1.62s\tremaining: 3.52s\n",
            "315:\tlearn: 9.2194870\ttotal: 1.62s\tremaining: 3.51s\n",
            "316:\tlearn: 9.2155144\ttotal: 1.63s\tremaining: 3.5s\n",
            "317:\tlearn: 9.2131579\ttotal: 1.63s\tremaining: 3.5s\n",
            "318:\tlearn: 9.2069461\ttotal: 1.64s\tremaining: 3.49s\n",
            "319:\tlearn: 9.2045600\ttotal: 1.64s\tremaining: 3.48s\n",
            "320:\tlearn: 9.2025811\ttotal: 1.64s\tremaining: 3.48s\n",
            "321:\tlearn: 9.1981297\ttotal: 1.65s\tremaining: 3.47s\n",
            "322:\tlearn: 9.1962902\ttotal: 1.65s\tremaining: 3.47s\n",
            "323:\tlearn: 9.1944148\ttotal: 1.66s\tremaining: 3.46s\n",
            "324:\tlearn: 9.1930705\ttotal: 1.66s\tremaining: 3.45s\n",
            "325:\tlearn: 9.1908906\ttotal: 1.67s\tremaining: 3.45s\n",
            "326:\tlearn: 9.1882805\ttotal: 1.67s\tremaining: 3.44s\n",
            "327:\tlearn: 9.1864483\ttotal: 1.68s\tremaining: 3.44s\n",
            "328:\tlearn: 9.1805194\ttotal: 1.68s\tremaining: 3.43s\n",
            "329:\tlearn: 9.1764192\ttotal: 1.69s\tremaining: 3.42s\n",
            "330:\tlearn: 9.1705638\ttotal: 1.69s\tremaining: 3.42s\n",
            "331:\tlearn: 9.1646897\ttotal: 1.7s\tremaining: 3.41s\n",
            "332:\tlearn: 9.1621512\ttotal: 1.7s\tremaining: 3.4s\n",
            "333:\tlearn: 9.1582979\ttotal: 1.7s\tremaining: 3.4s\n",
            "334:\tlearn: 9.1528966\ttotal: 1.71s\tremaining: 3.39s\n",
            "335:\tlearn: 9.1510138\ttotal: 1.72s\tremaining: 3.39s\n",
            "336:\tlearn: 9.1479767\ttotal: 1.72s\tremaining: 3.38s\n",
            "337:\tlearn: 9.1422008\ttotal: 1.72s\tremaining: 3.38s\n",
            "338:\tlearn: 9.1389336\ttotal: 1.73s\tremaining: 3.37s\n",
            "339:\tlearn: 9.1354193\ttotal: 1.73s\tremaining: 3.36s\n",
            "340:\tlearn: 9.1302831\ttotal: 1.74s\tremaining: 3.36s\n",
            "341:\tlearn: 9.1244400\ttotal: 1.74s\tremaining: 3.35s\n",
            "342:\tlearn: 9.1205215\ttotal: 1.75s\tremaining: 3.34s\n",
            "343:\tlearn: 9.1152918\ttotal: 1.75s\tremaining: 3.34s\n",
            "344:\tlearn: 9.1100545\ttotal: 1.75s\tremaining: 3.33s\n",
            "345:\tlearn: 9.1047220\ttotal: 1.76s\tremaining: 3.33s\n",
            "346:\tlearn: 9.1029235\ttotal: 1.77s\tremaining: 3.33s\n",
            "347:\tlearn: 9.1011918\ttotal: 1.77s\tremaining: 3.33s\n",
            "348:\tlearn: 9.1000296\ttotal: 1.78s\tremaining: 3.32s\n",
            "349:\tlearn: 9.0940926\ttotal: 1.78s\tremaining: 3.31s\n",
            "350:\tlearn: 9.0903882\ttotal: 1.79s\tremaining: 3.31s\n",
            "351:\tlearn: 9.0843763\ttotal: 1.79s\tremaining: 3.3s\n",
            "352:\tlearn: 9.0814068\ttotal: 1.8s\tremaining: 3.3s\n",
            "353:\tlearn: 9.0765674\ttotal: 1.8s\tremaining: 3.29s\n",
            "354:\tlearn: 9.0745656\ttotal: 1.81s\tremaining: 3.29s\n",
            "355:\tlearn: 9.0733109\ttotal: 1.81s\tremaining: 3.28s\n",
            "356:\tlearn: 9.0663895\ttotal: 1.82s\tremaining: 3.27s\n",
            "357:\tlearn: 9.0609521\ttotal: 1.82s\tremaining: 3.27s\n",
            "358:\tlearn: 9.0583366\ttotal: 1.83s\tremaining: 3.26s\n",
            "359:\tlearn: 9.0553739\ttotal: 1.83s\tremaining: 3.26s\n",
            "360:\tlearn: 9.0533157\ttotal: 1.84s\tremaining: 3.25s\n",
            "361:\tlearn: 9.0493658\ttotal: 1.84s\tremaining: 3.25s\n",
            "362:\tlearn: 9.0468076\ttotal: 1.85s\tremaining: 3.26s\n",
            "363:\tlearn: 9.0454545\ttotal: 1.86s\tremaining: 3.25s\n",
            "364:\tlearn: 9.0443940\ttotal: 1.87s\tremaining: 3.25s\n",
            "365:\tlearn: 9.0417557\ttotal: 1.87s\tremaining: 3.24s\n",
            "366:\tlearn: 9.0385352\ttotal: 1.88s\tremaining: 3.24s\n",
            "367:\tlearn: 9.0343753\ttotal: 1.88s\tremaining: 3.23s\n",
            "368:\tlearn: 9.0308178\ttotal: 1.89s\tremaining: 3.22s\n",
            "369:\tlearn: 9.0261961\ttotal: 1.89s\tremaining: 3.22s\n",
            "370:\tlearn: 9.0230640\ttotal: 1.9s\tremaining: 3.21s\n",
            "371:\tlearn: 9.0199720\ttotal: 1.9s\tremaining: 3.21s\n",
            "372:\tlearn: 9.0176022\ttotal: 1.9s\tremaining: 3.2s\n",
            "373:\tlearn: 9.0123690\ttotal: 1.91s\tremaining: 3.19s\n",
            "374:\tlearn: 9.0099956\ttotal: 1.91s\tremaining: 3.19s\n",
            "375:\tlearn: 9.0058837\ttotal: 1.92s\tremaining: 3.18s\n",
            "376:\tlearn: 9.0021038\ttotal: 1.92s\tremaining: 3.17s\n",
            "377:\tlearn: 8.9995293\ttotal: 1.93s\tremaining: 3.17s\n",
            "378:\tlearn: 8.9925587\ttotal: 1.93s\tremaining: 3.16s\n",
            "379:\tlearn: 8.9902437\ttotal: 1.94s\tremaining: 3.16s\n",
            "380:\tlearn: 8.9855244\ttotal: 1.94s\tremaining: 3.15s\n",
            "381:\tlearn: 8.9848377\ttotal: 1.95s\tremaining: 3.15s\n",
            "382:\tlearn: 8.9826132\ttotal: 1.95s\tremaining: 3.14s\n",
            "383:\tlearn: 8.9776012\ttotal: 1.96s\tremaining: 3.14s\n",
            "384:\tlearn: 8.9722923\ttotal: 1.96s\tremaining: 3.13s\n",
            "385:\tlearn: 8.9680309\ttotal: 1.97s\tremaining: 3.13s\n",
            "386:\tlearn: 8.9658534\ttotal: 1.97s\tremaining: 3.13s\n",
            "387:\tlearn: 8.9618877\ttotal: 1.98s\tremaining: 3.12s\n",
            "388:\tlearn: 8.9599109\ttotal: 1.98s\tremaining: 3.11s\n",
            "389:\tlearn: 8.9591208\ttotal: 1.99s\tremaining: 3.11s\n",
            "390:\tlearn: 8.9559773\ttotal: 1.99s\tremaining: 3.1s\n",
            "391:\tlearn: 8.9506448\ttotal: 2s\tremaining: 3.09s\n",
            "392:\tlearn: 8.9498909\ttotal: 2s\tremaining: 3.09s\n",
            "393:\tlearn: 8.9458086\ttotal: 2s\tremaining: 3.08s\n",
            "394:\tlearn: 8.9431387\ttotal: 2.01s\tremaining: 3.08s\n",
            "395:\tlearn: 8.9387529\ttotal: 2.01s\tremaining: 3.07s\n",
            "396:\tlearn: 8.9361330\ttotal: 2.02s\tremaining: 3.06s\n",
            "397:\tlearn: 8.9332177\ttotal: 2.02s\tremaining: 3.06s\n",
            "398:\tlearn: 8.9310083\ttotal: 2.03s\tremaining: 3.05s\n",
            "399:\tlearn: 8.9275471\ttotal: 2.03s\tremaining: 3.05s\n",
            "400:\tlearn: 8.9249072\ttotal: 2.04s\tremaining: 3.04s\n",
            "401:\tlearn: 8.9226763\ttotal: 2.04s\tremaining: 3.04s\n",
            "402:\tlearn: 8.9180661\ttotal: 2.04s\tremaining: 3.03s\n",
            "403:\tlearn: 8.9144824\ttotal: 2.05s\tremaining: 3.02s\n",
            "404:\tlearn: 8.9086418\ttotal: 2.06s\tremaining: 3.02s\n",
            "405:\tlearn: 8.9069737\ttotal: 2.06s\tremaining: 3.01s\n",
            "406:\tlearn: 8.9048376\ttotal: 2.06s\tremaining: 3.01s\n",
            "407:\tlearn: 8.9026083\ttotal: 2.07s\tremaining: 3.01s\n",
            "408:\tlearn: 8.9007247\ttotal: 2.08s\tremaining: 3s\n",
            "409:\tlearn: 8.8965106\ttotal: 2.08s\tremaining: 2.99s\n",
            "410:\tlearn: 8.8917229\ttotal: 2.08s\tremaining: 2.99s\n",
            "411:\tlearn: 8.8849057\ttotal: 2.09s\tremaining: 2.98s\n",
            "412:\tlearn: 8.8831760\ttotal: 2.09s\tremaining: 2.98s\n",
            "413:\tlearn: 8.8790885\ttotal: 2.1s\tremaining: 2.97s\n",
            "414:\tlearn: 8.8759117\ttotal: 2.1s\tremaining: 2.96s\n",
            "415:\tlearn: 8.8698621\ttotal: 2.11s\tremaining: 2.96s\n",
            "416:\tlearn: 8.8637620\ttotal: 2.11s\tremaining: 2.95s\n",
            "417:\tlearn: 8.8621460\ttotal: 2.12s\tremaining: 2.95s\n",
            "418:\tlearn: 8.8574374\ttotal: 2.12s\tremaining: 2.94s\n",
            "419:\tlearn: 8.8539534\ttotal: 2.13s\tremaining: 2.94s\n",
            "420:\tlearn: 8.8517821\ttotal: 2.13s\tremaining: 2.93s\n",
            "421:\tlearn: 8.8456372\ttotal: 2.14s\tremaining: 2.93s\n",
            "422:\tlearn: 8.8411389\ttotal: 2.14s\tremaining: 2.92s\n",
            "423:\tlearn: 8.8380815\ttotal: 2.15s\tremaining: 2.92s\n",
            "424:\tlearn: 8.8347516\ttotal: 2.16s\tremaining: 2.92s\n",
            "425:\tlearn: 8.8312135\ttotal: 2.16s\tremaining: 2.91s\n",
            "426:\tlearn: 8.8278357\ttotal: 2.17s\tremaining: 2.91s\n",
            "427:\tlearn: 8.8237360\ttotal: 2.17s\tremaining: 2.9s\n",
            "428:\tlearn: 8.8207300\ttotal: 2.18s\tremaining: 2.9s\n",
            "429:\tlearn: 8.8176818\ttotal: 2.18s\tremaining: 2.89s\n",
            "430:\tlearn: 8.8139097\ttotal: 2.19s\tremaining: 2.88s\n",
            "431:\tlearn: 8.8103055\ttotal: 2.19s\tremaining: 2.88s\n",
            "432:\tlearn: 8.8072016\ttotal: 2.19s\tremaining: 2.87s\n",
            "433:\tlearn: 8.8040515\ttotal: 2.2s\tremaining: 2.87s\n",
            "434:\tlearn: 8.8006009\ttotal: 2.2s\tremaining: 2.86s\n",
            "435:\tlearn: 8.7965159\ttotal: 2.21s\tremaining: 2.85s\n",
            "436:\tlearn: 8.7939833\ttotal: 2.21s\tremaining: 2.85s\n",
            "437:\tlearn: 8.7914304\ttotal: 2.22s\tremaining: 2.84s\n",
            "438:\tlearn: 8.7855963\ttotal: 2.22s\tremaining: 2.84s\n",
            "439:\tlearn: 8.7812880\ttotal: 2.23s\tremaining: 2.83s\n",
            "440:\tlearn: 8.7779188\ttotal: 2.23s\tremaining: 2.83s\n",
            "441:\tlearn: 8.7760629\ttotal: 2.23s\tremaining: 2.82s\n",
            "442:\tlearn: 8.7726172\ttotal: 2.24s\tremaining: 2.81s\n",
            "443:\tlearn: 8.7701953\ttotal: 2.24s\tremaining: 2.81s\n",
            "444:\tlearn: 8.7680088\ttotal: 2.25s\tremaining: 2.8s\n",
            "445:\tlearn: 8.7635038\ttotal: 2.25s\tremaining: 2.8s\n",
            "446:\tlearn: 8.7608115\ttotal: 2.26s\tremaining: 2.79s\n",
            "447:\tlearn: 8.7573354\ttotal: 2.26s\tremaining: 2.79s\n",
            "448:\tlearn: 8.7549000\ttotal: 2.27s\tremaining: 2.78s\n",
            "449:\tlearn: 8.7496555\ttotal: 2.27s\tremaining: 2.77s\n",
            "450:\tlearn: 8.7453086\ttotal: 2.27s\tremaining: 2.77s\n",
            "451:\tlearn: 8.7410384\ttotal: 2.28s\tremaining: 2.76s\n",
            "452:\tlearn: 8.7374528\ttotal: 2.29s\tremaining: 2.76s\n",
            "453:\tlearn: 8.7359152\ttotal: 2.3s\tremaining: 2.76s\n",
            "454:\tlearn: 8.7325151\ttotal: 2.3s\tremaining: 2.76s\n",
            "455:\tlearn: 8.7308298\ttotal: 2.31s\tremaining: 2.75s\n",
            "456:\tlearn: 8.7269613\ttotal: 2.31s\tremaining: 2.75s\n",
            "457:\tlearn: 8.7239039\ttotal: 2.32s\tremaining: 2.74s\n",
            "458:\tlearn: 8.7200627\ttotal: 2.32s\tremaining: 2.74s\n",
            "459:\tlearn: 8.7148896\ttotal: 2.33s\tremaining: 2.73s\n",
            "460:\tlearn: 8.7114358\ttotal: 2.33s\tremaining: 2.73s\n",
            "461:\tlearn: 8.7082480\ttotal: 2.33s\tremaining: 2.72s\n",
            "462:\tlearn: 8.7056395\ttotal: 2.34s\tremaining: 2.71s\n",
            "463:\tlearn: 8.7008035\ttotal: 2.34s\tremaining: 2.71s\n",
            "464:\tlearn: 8.6978286\ttotal: 2.35s\tremaining: 2.71s\n",
            "465:\tlearn: 8.6953849\ttotal: 2.36s\tremaining: 2.7s\n",
            "466:\tlearn: 8.6921463\ttotal: 2.36s\tremaining: 2.7s\n",
            "467:\tlearn: 8.6889095\ttotal: 2.37s\tremaining: 2.69s\n",
            "468:\tlearn: 8.6857122\ttotal: 2.37s\tremaining: 2.68s\n",
            "469:\tlearn: 8.6824385\ttotal: 2.38s\tremaining: 2.68s\n",
            "470:\tlearn: 8.6768656\ttotal: 2.38s\tremaining: 2.67s\n",
            "471:\tlearn: 8.6741805\ttotal: 2.38s\tremaining: 2.67s\n",
            "472:\tlearn: 8.6694104\ttotal: 2.39s\tremaining: 2.66s\n",
            "473:\tlearn: 8.6662492\ttotal: 2.4s\tremaining: 2.66s\n",
            "474:\tlearn: 8.6624632\ttotal: 2.4s\tremaining: 2.65s\n",
            "475:\tlearn: 8.6565966\ttotal: 2.41s\tremaining: 2.65s\n",
            "476:\tlearn: 8.6552355\ttotal: 2.41s\tremaining: 2.64s\n",
            "477:\tlearn: 8.6508897\ttotal: 2.42s\tremaining: 2.64s\n",
            "478:\tlearn: 8.6466885\ttotal: 2.42s\tremaining: 2.63s\n",
            "479:\tlearn: 8.6415016\ttotal: 2.42s\tremaining: 2.63s\n",
            "480:\tlearn: 8.6368589\ttotal: 2.43s\tremaining: 2.62s\n",
            "481:\tlearn: 8.6334875\ttotal: 2.43s\tremaining: 2.62s\n",
            "482:\tlearn: 8.6318227\ttotal: 2.44s\tremaining: 2.61s\n",
            "483:\tlearn: 8.6297021\ttotal: 2.44s\tremaining: 2.6s\n",
            "484:\tlearn: 8.6262308\ttotal: 2.45s\tremaining: 2.6s\n",
            "485:\tlearn: 8.6227757\ttotal: 2.45s\tremaining: 2.59s\n",
            "486:\tlearn: 8.6196199\ttotal: 2.46s\tremaining: 2.59s\n",
            "487:\tlearn: 8.6160988\ttotal: 2.46s\tremaining: 2.58s\n",
            "488:\tlearn: 8.6136969\ttotal: 2.47s\tremaining: 2.58s\n",
            "489:\tlearn: 8.6113581\ttotal: 2.48s\tremaining: 2.58s\n",
            "490:\tlearn: 8.6078023\ttotal: 2.48s\tremaining: 2.57s\n",
            "491:\tlearn: 8.6051298\ttotal: 2.48s\tremaining: 2.56s\n",
            "492:\tlearn: 8.6018108\ttotal: 2.49s\tremaining: 2.56s\n",
            "493:\tlearn: 8.5994408\ttotal: 2.49s\tremaining: 2.55s\n",
            "494:\tlearn: 8.5968615\ttotal: 2.5s\tremaining: 2.55s\n",
            "495:\tlearn: 8.5937900\ttotal: 2.5s\tremaining: 2.54s\n",
            "496:\tlearn: 8.5901198\ttotal: 2.51s\tremaining: 2.54s\n",
            "497:\tlearn: 8.5854337\ttotal: 2.51s\tremaining: 2.53s\n",
            "498:\tlearn: 8.5826551\ttotal: 2.52s\tremaining: 2.53s\n",
            "499:\tlearn: 8.5787055\ttotal: 2.52s\tremaining: 2.52s\n",
            "500:\tlearn: 8.5756561\ttotal: 2.53s\tremaining: 2.52s\n",
            "501:\tlearn: 8.5711144\ttotal: 2.53s\tremaining: 2.51s\n",
            "502:\tlearn: 8.5680593\ttotal: 2.54s\tremaining: 2.51s\n",
            "503:\tlearn: 8.5652126\ttotal: 2.54s\tremaining: 2.5s\n",
            "504:\tlearn: 8.5617194\ttotal: 2.55s\tremaining: 2.5s\n",
            "505:\tlearn: 8.5570585\ttotal: 2.55s\tremaining: 2.49s\n",
            "506:\tlearn: 8.5521359\ttotal: 2.56s\tremaining: 2.49s\n",
            "507:\tlearn: 8.5506583\ttotal: 2.56s\tremaining: 2.48s\n",
            "508:\tlearn: 8.5484878\ttotal: 2.57s\tremaining: 2.48s\n",
            "509:\tlearn: 8.5467324\ttotal: 2.57s\tremaining: 2.47s\n",
            "510:\tlearn: 8.5429552\ttotal: 2.58s\tremaining: 2.46s\n",
            "511:\tlearn: 8.5382845\ttotal: 2.58s\tremaining: 2.46s\n",
            "512:\tlearn: 8.5333329\ttotal: 2.58s\tremaining: 2.45s\n",
            "513:\tlearn: 8.5304006\ttotal: 2.59s\tremaining: 2.45s\n",
            "514:\tlearn: 8.5271028\ttotal: 2.59s\tremaining: 2.44s\n",
            "515:\tlearn: 8.5221804\ttotal: 2.6s\tremaining: 2.44s\n",
            "516:\tlearn: 8.5191482\ttotal: 2.6s\tremaining: 2.43s\n",
            "517:\tlearn: 8.5159990\ttotal: 2.61s\tremaining: 2.42s\n",
            "518:\tlearn: 8.5123411\ttotal: 2.61s\tremaining: 2.42s\n",
            "519:\tlearn: 8.5077720\ttotal: 2.62s\tremaining: 2.41s\n",
            "520:\tlearn: 8.5048745\ttotal: 2.62s\tremaining: 2.41s\n",
            "521:\tlearn: 8.5018648\ttotal: 2.62s\tremaining: 2.4s\n",
            "522:\tlearn: 8.4996909\ttotal: 2.63s\tremaining: 2.4s\n",
            "523:\tlearn: 8.4971311\ttotal: 2.63s\tremaining: 2.39s\n",
            "524:\tlearn: 8.4937650\ttotal: 2.64s\tremaining: 2.39s\n",
            "525:\tlearn: 8.4896855\ttotal: 2.64s\tremaining: 2.38s\n",
            "526:\tlearn: 8.4862702\ttotal: 2.65s\tremaining: 2.38s\n",
            "527:\tlearn: 8.4825471\ttotal: 2.65s\tremaining: 2.37s\n",
            "528:\tlearn: 8.4798280\ttotal: 2.66s\tremaining: 2.37s\n",
            "529:\tlearn: 8.4759065\ttotal: 2.66s\tremaining: 2.36s\n",
            "530:\tlearn: 8.4736202\ttotal: 2.67s\tremaining: 2.35s\n",
            "531:\tlearn: 8.4693851\ttotal: 2.67s\tremaining: 2.35s\n",
            "532:\tlearn: 8.4682398\ttotal: 2.67s\tremaining: 2.34s\n",
            "533:\tlearn: 8.4663393\ttotal: 2.68s\tremaining: 2.34s\n",
            "534:\tlearn: 8.4596424\ttotal: 2.68s\tremaining: 2.33s\n",
            "535:\tlearn: 8.4558641\ttotal: 2.69s\tremaining: 2.33s\n",
            "536:\tlearn: 8.4532918\ttotal: 2.69s\tremaining: 2.32s\n",
            "537:\tlearn: 8.4495410\ttotal: 2.7s\tremaining: 2.32s\n",
            "538:\tlearn: 8.4455862\ttotal: 2.7s\tremaining: 2.31s\n",
            "539:\tlearn: 8.4415033\ttotal: 2.71s\tremaining: 2.31s\n",
            "540:\tlearn: 8.4379306\ttotal: 2.71s\tremaining: 2.3s\n",
            "541:\tlearn: 8.4348206\ttotal: 2.71s\tremaining: 2.29s\n",
            "542:\tlearn: 8.4312042\ttotal: 2.72s\tremaining: 2.29s\n",
            "543:\tlearn: 8.4279999\ttotal: 2.72s\tremaining: 2.28s\n",
            "544:\tlearn: 8.4263620\ttotal: 2.73s\tremaining: 2.28s\n",
            "545:\tlearn: 8.4236310\ttotal: 2.74s\tremaining: 2.28s\n",
            "546:\tlearn: 8.4207028\ttotal: 2.74s\tremaining: 2.27s\n",
            "547:\tlearn: 8.4164385\ttotal: 2.75s\tremaining: 2.27s\n",
            "548:\tlearn: 8.4144525\ttotal: 2.75s\tremaining: 2.26s\n",
            "549:\tlearn: 8.4117234\ttotal: 2.76s\tremaining: 2.25s\n",
            "550:\tlearn: 8.4084805\ttotal: 2.76s\tremaining: 2.25s\n",
            "551:\tlearn: 8.4056165\ttotal: 2.77s\tremaining: 2.24s\n",
            "552:\tlearn: 8.4019590\ttotal: 2.77s\tremaining: 2.24s\n",
            "553:\tlearn: 8.3990286\ttotal: 2.77s\tremaining: 2.23s\n",
            "554:\tlearn: 8.3953776\ttotal: 2.78s\tremaining: 2.23s\n",
            "555:\tlearn: 8.3921576\ttotal: 2.78s\tremaining: 2.22s\n",
            "556:\tlearn: 8.3891269\ttotal: 2.79s\tremaining: 2.22s\n",
            "557:\tlearn: 8.3863872\ttotal: 2.79s\tremaining: 2.21s\n",
            "558:\tlearn: 8.3851525\ttotal: 2.8s\tremaining: 2.21s\n",
            "559:\tlearn: 8.3817209\ttotal: 2.8s\tremaining: 2.2s\n",
            "560:\tlearn: 8.3793515\ttotal: 2.81s\tremaining: 2.2s\n",
            "561:\tlearn: 8.3763557\ttotal: 2.81s\tremaining: 2.19s\n",
            "562:\tlearn: 8.3740800\ttotal: 2.82s\tremaining: 2.19s\n",
            "563:\tlearn: 8.3710151\ttotal: 2.83s\tremaining: 2.18s\n",
            "564:\tlearn: 8.3696972\ttotal: 2.83s\tremaining: 2.18s\n",
            "565:\tlearn: 8.3664837\ttotal: 2.83s\tremaining: 2.17s\n",
            "566:\tlearn: 8.3650307\ttotal: 2.84s\tremaining: 2.17s\n",
            "567:\tlearn: 8.3613235\ttotal: 2.84s\tremaining: 2.16s\n",
            "568:\tlearn: 8.3588645\ttotal: 2.85s\tremaining: 2.16s\n",
            "569:\tlearn: 8.3568250\ttotal: 2.85s\tremaining: 2.15s\n",
            "570:\tlearn: 8.3541726\ttotal: 2.86s\tremaining: 2.15s\n",
            "571:\tlearn: 8.3515618\ttotal: 2.86s\tremaining: 2.14s\n",
            "572:\tlearn: 8.3486845\ttotal: 2.87s\tremaining: 2.13s\n",
            "573:\tlearn: 8.3464631\ttotal: 2.87s\tremaining: 2.13s\n",
            "574:\tlearn: 8.3444400\ttotal: 2.88s\tremaining: 2.13s\n",
            "575:\tlearn: 8.3418855\ttotal: 2.88s\tremaining: 2.12s\n",
            "576:\tlearn: 8.3389454\ttotal: 2.88s\tremaining: 2.11s\n",
            "577:\tlearn: 8.3365385\ttotal: 2.89s\tremaining: 2.11s\n",
            "578:\tlearn: 8.3331433\ttotal: 2.89s\tremaining: 2.1s\n",
            "579:\tlearn: 8.3318110\ttotal: 2.9s\tremaining: 2.1s\n",
            "580:\tlearn: 8.3289239\ttotal: 2.9s\tremaining: 2.09s\n",
            "581:\tlearn: 8.3268258\ttotal: 2.91s\tremaining: 2.09s\n",
            "582:\tlearn: 8.3239103\ttotal: 2.91s\tremaining: 2.08s\n",
            "583:\tlearn: 8.3225256\ttotal: 2.92s\tremaining: 2.08s\n",
            "584:\tlearn: 8.3203017\ttotal: 2.92s\tremaining: 2.07s\n",
            "585:\tlearn: 8.3190961\ttotal: 2.92s\tremaining: 2.07s\n",
            "586:\tlearn: 8.3168318\ttotal: 2.93s\tremaining: 2.06s\n",
            "587:\tlearn: 8.3129541\ttotal: 2.94s\tremaining: 2.06s\n",
            "588:\tlearn: 8.3108315\ttotal: 2.94s\tremaining: 2.05s\n",
            "589:\tlearn: 8.3077657\ttotal: 2.95s\tremaining: 2.05s\n",
            "590:\tlearn: 8.3032247\ttotal: 2.95s\tremaining: 2.04s\n",
            "591:\tlearn: 8.3014015\ttotal: 2.96s\tremaining: 2.04s\n",
            "592:\tlearn: 8.2977649\ttotal: 2.96s\tremaining: 2.03s\n",
            "593:\tlearn: 8.2949078\ttotal: 2.97s\tremaining: 2.03s\n",
            "594:\tlearn: 8.2921920\ttotal: 2.97s\tremaining: 2.02s\n",
            "595:\tlearn: 8.2902233\ttotal: 2.98s\tremaining: 2.02s\n",
            "596:\tlearn: 8.2863569\ttotal: 2.98s\tremaining: 2.01s\n",
            "597:\tlearn: 8.2832383\ttotal: 2.98s\tremaining: 2.01s\n",
            "598:\tlearn: 8.2803125\ttotal: 2.99s\tremaining: 2s\n",
            "599:\tlearn: 8.2775394\ttotal: 3s\tremaining: 2s\n",
            "600:\tlearn: 8.2755560\ttotal: 3s\tremaining: 1.99s\n",
            "601:\tlearn: 8.2721681\ttotal: 3.01s\tremaining: 1.99s\n",
            "602:\tlearn: 8.2676648\ttotal: 3.01s\tremaining: 1.98s\n",
            "603:\tlearn: 8.2619427\ttotal: 3.02s\tremaining: 1.98s\n",
            "604:\tlearn: 8.2600232\ttotal: 3.02s\tremaining: 1.97s\n",
            "605:\tlearn: 8.2570868\ttotal: 3.02s\tremaining: 1.97s\n",
            "606:\tlearn: 8.2539547\ttotal: 3.03s\tremaining: 1.96s\n",
            "607:\tlearn: 8.2508935\ttotal: 3.03s\tremaining: 1.96s\n",
            "608:\tlearn: 8.2482212\ttotal: 3.04s\tremaining: 1.95s\n",
            "609:\tlearn: 8.2462716\ttotal: 3.04s\tremaining: 1.94s\n",
            "610:\tlearn: 8.2437327\ttotal: 3.04s\tremaining: 1.94s\n",
            "611:\tlearn: 8.2403673\ttotal: 3.05s\tremaining: 1.93s\n",
            "612:\tlearn: 8.2355323\ttotal: 3.06s\tremaining: 1.93s\n",
            "613:\tlearn: 8.2336854\ttotal: 3.06s\tremaining: 1.92s\n",
            "614:\tlearn: 8.2234714\ttotal: 3.06s\tremaining: 1.92s\n",
            "615:\tlearn: 8.2200692\ttotal: 3.07s\tremaining: 1.91s\n",
            "616:\tlearn: 8.2158401\ttotal: 3.07s\tremaining: 1.91s\n",
            "617:\tlearn: 8.2127836\ttotal: 3.08s\tremaining: 1.9s\n",
            "618:\tlearn: 8.2102321\ttotal: 3.08s\tremaining: 1.9s\n",
            "619:\tlearn: 8.2078777\ttotal: 3.09s\tremaining: 1.89s\n",
            "620:\tlearn: 8.2054724\ttotal: 3.09s\tremaining: 1.89s\n",
            "621:\tlearn: 8.2044288\ttotal: 3.1s\tremaining: 1.88s\n",
            "622:\tlearn: 8.2006393\ttotal: 3.1s\tremaining: 1.88s\n",
            "623:\tlearn: 8.1966077\ttotal: 3.1s\tremaining: 1.87s\n",
            "624:\tlearn: 8.1955513\ttotal: 3.11s\tremaining: 1.87s\n",
            "625:\tlearn: 8.1916078\ttotal: 3.11s\tremaining: 1.86s\n",
            "626:\tlearn: 8.1864024\ttotal: 3.12s\tremaining: 1.85s\n",
            "627:\tlearn: 8.1836207\ttotal: 3.12s\tremaining: 1.85s\n",
            "628:\tlearn: 8.1820748\ttotal: 3.13s\tremaining: 1.85s\n",
            "629:\tlearn: 8.1790360\ttotal: 3.14s\tremaining: 1.84s\n",
            "630:\tlearn: 8.1764703\ttotal: 3.15s\tremaining: 1.84s\n",
            "631:\tlearn: 8.1747418\ttotal: 3.15s\tremaining: 1.83s\n",
            "632:\tlearn: 8.1729766\ttotal: 3.15s\tremaining: 1.83s\n",
            "633:\tlearn: 8.1683588\ttotal: 3.16s\tremaining: 1.82s\n",
            "634:\tlearn: 8.1665004\ttotal: 3.16s\tremaining: 1.82s\n",
            "635:\tlearn: 8.1630619\ttotal: 3.17s\tremaining: 1.81s\n",
            "636:\tlearn: 8.1604675\ttotal: 3.17s\tremaining: 1.81s\n",
            "637:\tlearn: 8.1577418\ttotal: 3.18s\tremaining: 1.8s\n",
            "638:\tlearn: 8.1558812\ttotal: 3.19s\tremaining: 1.8s\n",
            "639:\tlearn: 8.1517163\ttotal: 3.19s\tremaining: 1.79s\n",
            "640:\tlearn: 8.1484241\ttotal: 3.2s\tremaining: 1.79s\n",
            "641:\tlearn: 8.1444116\ttotal: 3.2s\tremaining: 1.78s\n",
            "642:\tlearn: 8.1422647\ttotal: 3.21s\tremaining: 1.78s\n",
            "643:\tlearn: 8.1390968\ttotal: 3.21s\tremaining: 1.77s\n",
            "644:\tlearn: 8.1368061\ttotal: 3.21s\tremaining: 1.77s\n",
            "645:\tlearn: 8.1339786\ttotal: 3.22s\tremaining: 1.76s\n",
            "646:\tlearn: 8.1307633\ttotal: 3.23s\tremaining: 1.76s\n",
            "647:\tlearn: 8.1272797\ttotal: 3.23s\tremaining: 1.75s\n",
            "648:\tlearn: 8.1252186\ttotal: 3.23s\tremaining: 1.75s\n",
            "649:\tlearn: 8.1208854\ttotal: 3.25s\tremaining: 1.75s\n",
            "650:\tlearn: 8.1186906\ttotal: 3.25s\tremaining: 1.74s\n",
            "651:\tlearn: 8.1154926\ttotal: 3.26s\tremaining: 1.74s\n",
            "652:\tlearn: 8.1122222\ttotal: 3.26s\tremaining: 1.73s\n",
            "653:\tlearn: 8.1096187\ttotal: 3.27s\tremaining: 1.73s\n",
            "654:\tlearn: 8.1046164\ttotal: 3.27s\tremaining: 1.72s\n",
            "655:\tlearn: 8.1027842\ttotal: 3.28s\tremaining: 1.72s\n",
            "656:\tlearn: 8.0991459\ttotal: 3.28s\tremaining: 1.71s\n",
            "657:\tlearn: 8.0965942\ttotal: 3.29s\tremaining: 1.71s\n",
            "658:\tlearn: 8.0947398\ttotal: 3.29s\tremaining: 1.7s\n",
            "659:\tlearn: 8.0896413\ttotal: 3.29s\tremaining: 1.7s\n",
            "660:\tlearn: 8.0873199\ttotal: 3.3s\tremaining: 1.69s\n",
            "661:\tlearn: 8.0833519\ttotal: 3.3s\tremaining: 1.69s\n",
            "662:\tlearn: 8.0787788\ttotal: 3.31s\tremaining: 1.68s\n",
            "663:\tlearn: 8.0765055\ttotal: 3.31s\tremaining: 1.68s\n",
            "664:\tlearn: 8.0731873\ttotal: 3.32s\tremaining: 1.67s\n",
            "665:\tlearn: 8.0710953\ttotal: 3.32s\tremaining: 1.67s\n",
            "666:\tlearn: 8.0680335\ttotal: 3.33s\tremaining: 1.66s\n",
            "667:\tlearn: 8.0671161\ttotal: 3.34s\tremaining: 1.66s\n",
            "668:\tlearn: 8.0647889\ttotal: 3.34s\tremaining: 1.65s\n",
            "669:\tlearn: 8.0609605\ttotal: 3.35s\tremaining: 1.65s\n",
            "670:\tlearn: 8.0582956\ttotal: 3.35s\tremaining: 1.64s\n",
            "671:\tlearn: 8.0554670\ttotal: 3.35s\tremaining: 1.64s\n",
            "672:\tlearn: 8.0523626\ttotal: 3.36s\tremaining: 1.63s\n",
            "673:\tlearn: 8.0480109\ttotal: 3.36s\tremaining: 1.63s\n",
            "674:\tlearn: 8.0453308\ttotal: 3.37s\tremaining: 1.62s\n",
            "675:\tlearn: 8.0436592\ttotal: 3.37s\tremaining: 1.62s\n",
            "676:\tlearn: 8.0395159\ttotal: 3.38s\tremaining: 1.61s\n",
            "677:\tlearn: 8.0351748\ttotal: 3.38s\tremaining: 1.61s\n",
            "678:\tlearn: 8.0327144\ttotal: 3.38s\tremaining: 1.6s\n",
            "679:\tlearn: 8.0310938\ttotal: 3.39s\tremaining: 1.59s\n",
            "680:\tlearn: 8.0285288\ttotal: 3.39s\tremaining: 1.59s\n",
            "681:\tlearn: 8.0257971\ttotal: 3.4s\tremaining: 1.58s\n",
            "682:\tlearn: 8.0238848\ttotal: 3.4s\tremaining: 1.58s\n",
            "683:\tlearn: 8.0199169\ttotal: 3.41s\tremaining: 1.57s\n",
            "684:\tlearn: 8.0180109\ttotal: 3.41s\tremaining: 1.57s\n",
            "685:\tlearn: 8.0141869\ttotal: 3.42s\tremaining: 1.56s\n",
            "686:\tlearn: 8.0105449\ttotal: 3.42s\tremaining: 1.56s\n",
            "687:\tlearn: 8.0061245\ttotal: 3.42s\tremaining: 1.55s\n",
            "688:\tlearn: 8.0039746\ttotal: 3.43s\tremaining: 1.55s\n",
            "689:\tlearn: 8.0010438\ttotal: 3.43s\tremaining: 1.54s\n",
            "690:\tlearn: 7.9978669\ttotal: 3.44s\tremaining: 1.54s\n",
            "691:\tlearn: 7.9948879\ttotal: 3.44s\tremaining: 1.53s\n",
            "692:\tlearn: 7.9913677\ttotal: 3.45s\tremaining: 1.53s\n",
            "693:\tlearn: 7.9884521\ttotal: 3.45s\tremaining: 1.52s\n",
            "694:\tlearn: 7.9847498\ttotal: 3.46s\tremaining: 1.52s\n",
            "695:\tlearn: 7.9818718\ttotal: 3.46s\tremaining: 1.51s\n",
            "696:\tlearn: 7.9787324\ttotal: 3.47s\tremaining: 1.51s\n",
            "697:\tlearn: 7.9763720\ttotal: 3.47s\tremaining: 1.5s\n",
            "698:\tlearn: 7.9739356\ttotal: 3.48s\tremaining: 1.5s\n",
            "699:\tlearn: 7.9715769\ttotal: 3.48s\tremaining: 1.49s\n",
            "700:\tlearn: 7.9694621\ttotal: 3.48s\tremaining: 1.49s\n",
            "701:\tlearn: 7.9669680\ttotal: 3.49s\tremaining: 1.48s\n",
            "702:\tlearn: 7.9642006\ttotal: 3.49s\tremaining: 1.48s\n",
            "703:\tlearn: 7.9621537\ttotal: 3.5s\tremaining: 1.47s\n",
            "704:\tlearn: 7.9600760\ttotal: 3.5s\tremaining: 1.47s\n",
            "705:\tlearn: 7.9564711\ttotal: 3.51s\tremaining: 1.46s\n",
            "706:\tlearn: 7.9542851\ttotal: 3.51s\tremaining: 1.45s\n",
            "707:\tlearn: 7.9525541\ttotal: 3.52s\tremaining: 1.45s\n",
            "708:\tlearn: 7.9502726\ttotal: 3.52s\tremaining: 1.44s\n",
            "709:\tlearn: 7.9476790\ttotal: 3.53s\tremaining: 1.44s\n",
            "710:\tlearn: 7.9443146\ttotal: 3.54s\tremaining: 1.44s\n",
            "711:\tlearn: 7.9419402\ttotal: 3.54s\tremaining: 1.43s\n",
            "712:\tlearn: 7.9385513\ttotal: 3.55s\tremaining: 1.43s\n",
            "713:\tlearn: 7.9363184\ttotal: 3.55s\tremaining: 1.42s\n",
            "714:\tlearn: 7.9332339\ttotal: 3.56s\tremaining: 1.42s\n",
            "715:\tlearn: 7.9305768\ttotal: 3.56s\tremaining: 1.41s\n",
            "716:\tlearn: 7.9281570\ttotal: 3.57s\tremaining: 1.41s\n",
            "717:\tlearn: 7.9255429\ttotal: 3.57s\tremaining: 1.4s\n",
            "718:\tlearn: 7.9225110\ttotal: 3.58s\tremaining: 1.4s\n",
            "719:\tlearn: 7.9196138\ttotal: 3.58s\tremaining: 1.39s\n",
            "720:\tlearn: 7.9163169\ttotal: 3.58s\tremaining: 1.39s\n",
            "721:\tlearn: 7.9129186\ttotal: 3.59s\tremaining: 1.38s\n",
            "722:\tlearn: 7.9107773\ttotal: 3.59s\tremaining: 1.38s\n",
            "723:\tlearn: 7.9089422\ttotal: 3.6s\tremaining: 1.37s\n",
            "724:\tlearn: 7.9055033\ttotal: 3.61s\tremaining: 1.37s\n",
            "725:\tlearn: 7.9035129\ttotal: 3.61s\tremaining: 1.36s\n",
            "726:\tlearn: 7.9004095\ttotal: 3.62s\tremaining: 1.36s\n",
            "727:\tlearn: 7.8985254\ttotal: 3.62s\tremaining: 1.35s\n",
            "728:\tlearn: 7.8959596\ttotal: 3.63s\tremaining: 1.35s\n",
            "729:\tlearn: 7.8941690\ttotal: 3.63s\tremaining: 1.34s\n",
            "730:\tlearn: 7.8919137\ttotal: 3.63s\tremaining: 1.34s\n",
            "731:\tlearn: 7.8893324\ttotal: 3.64s\tremaining: 1.33s\n",
            "732:\tlearn: 7.8872759\ttotal: 3.64s\tremaining: 1.33s\n",
            "733:\tlearn: 7.8841902\ttotal: 3.65s\tremaining: 1.32s\n",
            "734:\tlearn: 7.8826139\ttotal: 3.65s\tremaining: 1.32s\n",
            "735:\tlearn: 7.8803358\ttotal: 3.66s\tremaining: 1.31s\n",
            "736:\tlearn: 7.8770672\ttotal: 3.66s\tremaining: 1.31s\n",
            "737:\tlearn: 7.8748666\ttotal: 3.67s\tremaining: 1.3s\n",
            "738:\tlearn: 7.8721314\ttotal: 3.67s\tremaining: 1.3s\n",
            "739:\tlearn: 7.8684196\ttotal: 3.67s\tremaining: 1.29s\n",
            "740:\tlearn: 7.8644233\ttotal: 3.68s\tremaining: 1.29s\n",
            "741:\tlearn: 7.8621127\ttotal: 3.68s\tremaining: 1.28s\n",
            "742:\tlearn: 7.8597577\ttotal: 3.69s\tremaining: 1.27s\n",
            "743:\tlearn: 7.8549828\ttotal: 3.69s\tremaining: 1.27s\n",
            "744:\tlearn: 7.8509888\ttotal: 3.7s\tremaining: 1.26s\n",
            "745:\tlearn: 7.8494556\ttotal: 3.7s\tremaining: 1.26s\n",
            "746:\tlearn: 7.8475294\ttotal: 3.7s\tremaining: 1.25s\n",
            "747:\tlearn: 7.8457111\ttotal: 3.71s\tremaining: 1.25s\n",
            "748:\tlearn: 7.8415807\ttotal: 3.71s\tremaining: 1.24s\n",
            "749:\tlearn: 7.8384430\ttotal: 3.72s\tremaining: 1.24s\n",
            "750:\tlearn: 7.8359379\ttotal: 3.72s\tremaining: 1.23s\n",
            "751:\tlearn: 7.8325530\ttotal: 3.73s\tremaining: 1.23s\n",
            "752:\tlearn: 7.8302239\ttotal: 3.74s\tremaining: 1.23s\n",
            "753:\tlearn: 7.8276884\ttotal: 3.74s\tremaining: 1.22s\n",
            "754:\tlearn: 7.8253311\ttotal: 3.75s\tremaining: 1.22s\n",
            "755:\tlearn: 7.8236573\ttotal: 3.75s\tremaining: 1.21s\n",
            "756:\tlearn: 7.8221051\ttotal: 3.76s\tremaining: 1.21s\n",
            "757:\tlearn: 7.8210047\ttotal: 3.76s\tremaining: 1.2s\n",
            "758:\tlearn: 7.8191502\ttotal: 3.77s\tremaining: 1.2s\n",
            "759:\tlearn: 7.8174787\ttotal: 3.77s\tremaining: 1.19s\n",
            "760:\tlearn: 7.8144797\ttotal: 3.77s\tremaining: 1.19s\n",
            "761:\tlearn: 7.8119017\ttotal: 3.78s\tremaining: 1.18s\n",
            "762:\tlearn: 7.8085203\ttotal: 3.78s\tremaining: 1.18s\n",
            "763:\tlearn: 7.8056660\ttotal: 3.79s\tremaining: 1.17s\n",
            "764:\tlearn: 7.8041506\ttotal: 3.79s\tremaining: 1.16s\n",
            "765:\tlearn: 7.8016841\ttotal: 3.8s\tremaining: 1.16s\n",
            "766:\tlearn: 7.7981731\ttotal: 3.8s\tremaining: 1.15s\n",
            "767:\tlearn: 7.7954747\ttotal: 3.8s\tremaining: 1.15s\n",
            "768:\tlearn: 7.7929117\ttotal: 3.81s\tremaining: 1.14s\n",
            "769:\tlearn: 7.7903117\ttotal: 3.81s\tremaining: 1.14s\n",
            "770:\tlearn: 7.7885923\ttotal: 3.82s\tremaining: 1.13s\n",
            "771:\tlearn: 7.7856866\ttotal: 3.82s\tremaining: 1.13s\n",
            "772:\tlearn: 7.7836739\ttotal: 3.83s\tremaining: 1.12s\n",
            "773:\tlearn: 7.7802088\ttotal: 3.83s\tremaining: 1.12s\n",
            "774:\tlearn: 7.7776599\ttotal: 3.83s\tremaining: 1.11s\n",
            "775:\tlearn: 7.7747382\ttotal: 3.84s\tremaining: 1.11s\n",
            "776:\tlearn: 7.7724458\ttotal: 3.84s\tremaining: 1.1s\n",
            "777:\tlearn: 7.7706097\ttotal: 3.85s\tremaining: 1.1s\n",
            "778:\tlearn: 7.7677286\ttotal: 3.85s\tremaining: 1.09s\n",
            "779:\tlearn: 7.7641223\ttotal: 3.86s\tremaining: 1.09s\n",
            "780:\tlearn: 7.7623163\ttotal: 3.86s\tremaining: 1.08s\n",
            "781:\tlearn: 7.7596056\ttotal: 3.87s\tremaining: 1.08s\n",
            "782:\tlearn: 7.7562933\ttotal: 3.87s\tremaining: 1.07s\n",
            "783:\tlearn: 7.7536682\ttotal: 3.88s\tremaining: 1.07s\n",
            "784:\tlearn: 7.7510462\ttotal: 3.88s\tremaining: 1.06s\n",
            "785:\tlearn: 7.7481525\ttotal: 3.88s\tremaining: 1.06s\n",
            "786:\tlearn: 7.7453754\ttotal: 3.89s\tremaining: 1.05s\n",
            "787:\tlearn: 7.7432715\ttotal: 3.89s\tremaining: 1.05s\n",
            "788:\tlearn: 7.7399885\ttotal: 3.9s\tremaining: 1.04s\n",
            "789:\tlearn: 7.7380857\ttotal: 3.9s\tremaining: 1.04s\n",
            "790:\tlearn: 7.7362447\ttotal: 3.91s\tremaining: 1.03s\n",
            "791:\tlearn: 7.7344596\ttotal: 3.91s\tremaining: 1.03s\n",
            "792:\tlearn: 7.7323987\ttotal: 3.92s\tremaining: 1.02s\n",
            "793:\tlearn: 7.7304972\ttotal: 3.92s\tremaining: 1.02s\n",
            "794:\tlearn: 7.7293411\ttotal: 3.92s\tremaining: 1.01s\n",
            "795:\tlearn: 7.7272304\ttotal: 3.93s\tremaining: 1.01s\n",
            "796:\tlearn: 7.7250665\ttotal: 3.94s\tremaining: 1s\n",
            "797:\tlearn: 7.7235862\ttotal: 3.94s\tremaining: 998ms\n",
            "798:\tlearn: 7.7214449\ttotal: 3.95s\tremaining: 993ms\n",
            "799:\tlearn: 7.7177601\ttotal: 3.95s\tremaining: 988ms\n",
            "800:\tlearn: 7.7156285\ttotal: 3.96s\tremaining: 983ms\n",
            "801:\tlearn: 7.7146436\ttotal: 3.96s\tremaining: 978ms\n",
            "802:\tlearn: 7.7137372\ttotal: 3.96s\tremaining: 973ms\n",
            "803:\tlearn: 7.7114268\ttotal: 3.97s\tremaining: 968ms\n",
            "804:\tlearn: 7.7090639\ttotal: 3.97s\tremaining: 963ms\n",
            "805:\tlearn: 7.7074082\ttotal: 3.98s\tremaining: 957ms\n",
            "806:\tlearn: 7.7051645\ttotal: 3.98s\tremaining: 952ms\n",
            "807:\tlearn: 7.7021896\ttotal: 3.99s\tremaining: 947ms\n",
            "808:\tlearn: 7.7004279\ttotal: 3.99s\tremaining: 942ms\n",
            "809:\tlearn: 7.6973275\ttotal: 3.99s\tremaining: 937ms\n",
            "810:\tlearn: 7.6953681\ttotal: 4s\tremaining: 932ms\n",
            "811:\tlearn: 7.6922933\ttotal: 4s\tremaining: 927ms\n",
            "812:\tlearn: 7.6893246\ttotal: 4.01s\tremaining: 922ms\n",
            "813:\tlearn: 7.6857907\ttotal: 4.01s\tremaining: 917ms\n",
            "814:\tlearn: 7.6837981\ttotal: 4.02s\tremaining: 912ms\n",
            "815:\tlearn: 7.6819569\ttotal: 4.02s\tremaining: 907ms\n",
            "816:\tlearn: 7.6791907\ttotal: 4.03s\tremaining: 902ms\n",
            "817:\tlearn: 7.6774335\ttotal: 4.04s\tremaining: 899ms\n",
            "818:\tlearn: 7.6750775\ttotal: 4.04s\tremaining: 894ms\n",
            "819:\tlearn: 7.6722261\ttotal: 4.05s\tremaining: 889ms\n",
            "820:\tlearn: 7.6693573\ttotal: 4.05s\tremaining: 884ms\n",
            "821:\tlearn: 7.6675277\ttotal: 4.06s\tremaining: 879ms\n",
            "822:\tlearn: 7.6650275\ttotal: 4.06s\tremaining: 874ms\n",
            "823:\tlearn: 7.6625266\ttotal: 4.07s\tremaining: 868ms\n",
            "824:\tlearn: 7.6607195\ttotal: 4.07s\tremaining: 864ms\n",
            "825:\tlearn: 7.6557733\ttotal: 4.08s\tremaining: 858ms\n",
            "826:\tlearn: 7.6525254\ttotal: 4.08s\tremaining: 853ms\n",
            "827:\tlearn: 7.6502154\ttotal: 4.08s\tremaining: 848ms\n",
            "828:\tlearn: 7.6480095\ttotal: 4.09s\tremaining: 843ms\n",
            "829:\tlearn: 7.6469195\ttotal: 4.09s\tremaining: 838ms\n",
            "830:\tlearn: 7.6434786\ttotal: 4.1s\tremaining: 833ms\n",
            "831:\tlearn: 7.6416891\ttotal: 4.1s\tremaining: 828ms\n",
            "832:\tlearn: 7.6393828\ttotal: 4.11s\tremaining: 823ms\n",
            "833:\tlearn: 7.6367371\ttotal: 4.11s\tremaining: 818ms\n",
            "834:\tlearn: 7.6341855\ttotal: 4.12s\tremaining: 813ms\n",
            "835:\tlearn: 7.6312616\ttotal: 4.13s\tremaining: 809ms\n",
            "836:\tlearn: 7.6300137\ttotal: 4.13s\tremaining: 805ms\n",
            "837:\tlearn: 7.6275847\ttotal: 4.14s\tremaining: 800ms\n",
            "838:\tlearn: 7.6250937\ttotal: 4.14s\tremaining: 795ms\n",
            "839:\tlearn: 7.6230787\ttotal: 4.15s\tremaining: 790ms\n",
            "840:\tlearn: 7.6222606\ttotal: 4.15s\tremaining: 785ms\n",
            "841:\tlearn: 7.6201614\ttotal: 4.16s\tremaining: 780ms\n",
            "842:\tlearn: 7.6190028\ttotal: 4.16s\tremaining: 775ms\n",
            "843:\tlearn: 7.6170585\ttotal: 4.16s\tremaining: 770ms\n",
            "844:\tlearn: 7.6146820\ttotal: 4.17s\tremaining: 765ms\n",
            "845:\tlearn: 7.6128797\ttotal: 4.17s\tremaining: 760ms\n",
            "846:\tlearn: 7.6107934\ttotal: 4.18s\tremaining: 755ms\n",
            "847:\tlearn: 7.6081830\ttotal: 4.18s\tremaining: 750ms\n",
            "848:\tlearn: 7.6054245\ttotal: 4.19s\tremaining: 745ms\n",
            "849:\tlearn: 7.6034934\ttotal: 4.19s\tremaining: 740ms\n",
            "850:\tlearn: 7.6006948\ttotal: 4.2s\tremaining: 735ms\n",
            "851:\tlearn: 7.5971677\ttotal: 4.21s\tremaining: 731ms\n",
            "852:\tlearn: 7.5936706\ttotal: 4.21s\tremaining: 726ms\n",
            "853:\tlearn: 7.5905529\ttotal: 4.22s\tremaining: 721ms\n",
            "854:\tlearn: 7.5879022\ttotal: 4.22s\tremaining: 716ms\n",
            "855:\tlearn: 7.5846074\ttotal: 4.23s\tremaining: 712ms\n",
            "856:\tlearn: 7.5821948\ttotal: 4.23s\tremaining: 707ms\n",
            "857:\tlearn: 7.5790109\ttotal: 4.24s\tremaining: 702ms\n",
            "858:\tlearn: 7.5776107\ttotal: 4.24s\tremaining: 697ms\n",
            "859:\tlearn: 7.5753024\ttotal: 4.25s\tremaining: 692ms\n",
            "860:\tlearn: 7.5732179\ttotal: 4.25s\tremaining: 687ms\n",
            "861:\tlearn: 7.5712383\ttotal: 4.26s\tremaining: 682ms\n",
            "862:\tlearn: 7.5698003\ttotal: 4.26s\tremaining: 677ms\n",
            "863:\tlearn: 7.5673253\ttotal: 4.27s\tremaining: 672ms\n",
            "864:\tlearn: 7.5651076\ttotal: 4.27s\tremaining: 667ms\n",
            "865:\tlearn: 7.5634393\ttotal: 4.28s\tremaining: 662ms\n",
            "866:\tlearn: 7.5616952\ttotal: 4.28s\tremaining: 657ms\n",
            "867:\tlearn: 7.5589099\ttotal: 4.29s\tremaining: 652ms\n",
            "868:\tlearn: 7.5577209\ttotal: 4.29s\tremaining: 647ms\n",
            "869:\tlearn: 7.5560732\ttotal: 4.29s\tremaining: 642ms\n",
            "870:\tlearn: 7.5538051\ttotal: 4.3s\tremaining: 637ms\n",
            "871:\tlearn: 7.5501234\ttotal: 4.3s\tremaining: 632ms\n",
            "872:\tlearn: 7.5489702\ttotal: 4.31s\tremaining: 627ms\n",
            "873:\tlearn: 7.5470992\ttotal: 4.31s\tremaining: 622ms\n",
            "874:\tlearn: 7.5449557\ttotal: 4.33s\tremaining: 618ms\n",
            "875:\tlearn: 7.5436994\ttotal: 4.33s\tremaining: 613ms\n",
            "876:\tlearn: 7.5414705\ttotal: 4.34s\tremaining: 608ms\n",
            "877:\tlearn: 7.5396493\ttotal: 4.34s\tremaining: 603ms\n",
            "878:\tlearn: 7.5374689\ttotal: 4.34s\tremaining: 598ms\n",
            "879:\tlearn: 7.5355711\ttotal: 4.35s\tremaining: 593ms\n",
            "880:\tlearn: 7.5333433\ttotal: 4.35s\tremaining: 588ms\n",
            "881:\tlearn: 7.5318682\ttotal: 4.36s\tremaining: 583ms\n",
            "882:\tlearn: 7.5293814\ttotal: 4.36s\tremaining: 578ms\n",
            "883:\tlearn: 7.5255676\ttotal: 4.37s\tremaining: 573ms\n",
            "884:\tlearn: 7.5214187\ttotal: 4.37s\tremaining: 568ms\n",
            "885:\tlearn: 7.5199432\ttotal: 4.38s\tremaining: 563ms\n",
            "886:\tlearn: 7.5174740\ttotal: 4.38s\tremaining: 558ms\n",
            "887:\tlearn: 7.5151918\ttotal: 4.39s\tremaining: 553ms\n",
            "888:\tlearn: 7.5121983\ttotal: 4.39s\tremaining: 548ms\n",
            "889:\tlearn: 7.5093039\ttotal: 4.4s\tremaining: 543ms\n",
            "890:\tlearn: 7.5077984\ttotal: 4.4s\tremaining: 539ms\n",
            "891:\tlearn: 7.5052710\ttotal: 4.41s\tremaining: 534ms\n",
            "892:\tlearn: 7.5026191\ttotal: 4.41s\tremaining: 529ms\n",
            "893:\tlearn: 7.5018054\ttotal: 4.42s\tremaining: 524ms\n",
            "894:\tlearn: 7.5000204\ttotal: 4.42s\tremaining: 519ms\n",
            "895:\tlearn: 7.4980232\ttotal: 4.43s\tremaining: 514ms\n",
            "896:\tlearn: 7.4953547\ttotal: 4.43s\tremaining: 509ms\n",
            "897:\tlearn: 7.4931726\ttotal: 4.44s\tremaining: 504ms\n",
            "898:\tlearn: 7.4920027\ttotal: 4.44s\tremaining: 499ms\n",
            "899:\tlearn: 7.4913016\ttotal: 4.45s\tremaining: 494ms\n",
            "900:\tlearn: 7.4888931\ttotal: 4.45s\tremaining: 489ms\n",
            "901:\tlearn: 7.4868768\ttotal: 4.46s\tremaining: 484ms\n",
            "902:\tlearn: 7.4857551\ttotal: 4.46s\tremaining: 479ms\n",
            "903:\tlearn: 7.4833273\ttotal: 4.46s\tremaining: 474ms\n",
            "904:\tlearn: 7.4822108\ttotal: 4.47s\tremaining: 469ms\n",
            "905:\tlearn: 7.4792873\ttotal: 4.47s\tremaining: 464ms\n",
            "906:\tlearn: 7.4771084\ttotal: 4.48s\tremaining: 459ms\n",
            "907:\tlearn: 7.4751390\ttotal: 4.48s\tremaining: 454ms\n",
            "908:\tlearn: 7.4731919\ttotal: 4.49s\tremaining: 449ms\n",
            "909:\tlearn: 7.4704540\ttotal: 4.49s\tremaining: 444ms\n",
            "910:\tlearn: 7.4678841\ttotal: 4.5s\tremaining: 439ms\n",
            "911:\tlearn: 7.4654188\ttotal: 4.5s\tremaining: 434ms\n",
            "912:\tlearn: 7.4628518\ttotal: 4.5s\tremaining: 429ms\n",
            "913:\tlearn: 7.4607610\ttotal: 4.51s\tremaining: 424ms\n",
            "914:\tlearn: 7.4585595\ttotal: 4.52s\tremaining: 420ms\n",
            "915:\tlearn: 7.4560021\ttotal: 4.53s\tremaining: 415ms\n",
            "916:\tlearn: 7.4546968\ttotal: 4.53s\tremaining: 410ms\n",
            "917:\tlearn: 7.4521572\ttotal: 4.53s\tremaining: 405ms\n",
            "918:\tlearn: 7.4504178\ttotal: 4.54s\tremaining: 400ms\n",
            "919:\tlearn: 7.4492062\ttotal: 4.54s\tremaining: 395ms\n",
            "920:\tlearn: 7.4468631\ttotal: 4.55s\tremaining: 390ms\n",
            "921:\tlearn: 7.4451286\ttotal: 4.55s\tremaining: 385ms\n",
            "922:\tlearn: 7.4428269\ttotal: 4.56s\tremaining: 380ms\n",
            "923:\tlearn: 7.4388480\ttotal: 4.56s\tremaining: 375ms\n",
            "924:\tlearn: 7.4367012\ttotal: 4.57s\tremaining: 370ms\n",
            "925:\tlearn: 7.4346755\ttotal: 4.57s\tremaining: 365ms\n",
            "926:\tlearn: 7.4323408\ttotal: 4.57s\tremaining: 360ms\n",
            "927:\tlearn: 7.4303011\ttotal: 4.58s\tremaining: 355ms\n",
            "928:\tlearn: 7.4278477\ttotal: 4.58s\tremaining: 350ms\n",
            "929:\tlearn: 7.4248784\ttotal: 4.59s\tremaining: 345ms\n",
            "930:\tlearn: 7.4241535\ttotal: 4.59s\tremaining: 340ms\n",
            "931:\tlearn: 7.4224518\ttotal: 4.6s\tremaining: 335ms\n",
            "932:\tlearn: 7.4208137\ttotal: 4.6s\tremaining: 330ms\n",
            "933:\tlearn: 7.4193568\ttotal: 4.61s\tremaining: 325ms\n",
            "934:\tlearn: 7.4181848\ttotal: 4.61s\tremaining: 320ms\n",
            "935:\tlearn: 7.4171842\ttotal: 4.61s\tremaining: 315ms\n",
            "936:\tlearn: 7.4148922\ttotal: 4.62s\tremaining: 310ms\n",
            "937:\tlearn: 7.4131390\ttotal: 4.62s\tremaining: 306ms\n",
            "938:\tlearn: 7.4107514\ttotal: 4.63s\tremaining: 301ms\n",
            "939:\tlearn: 7.4069424\ttotal: 4.63s\tremaining: 296ms\n",
            "940:\tlearn: 7.4041124\ttotal: 4.64s\tremaining: 291ms\n",
            "941:\tlearn: 7.4024162\ttotal: 4.64s\tremaining: 286ms\n",
            "942:\tlearn: 7.3999366\ttotal: 4.64s\tremaining: 281ms\n",
            "943:\tlearn: 7.3991236\ttotal: 4.65s\tremaining: 276ms\n",
            "944:\tlearn: 7.3964817\ttotal: 4.65s\tremaining: 271ms\n",
            "945:\tlearn: 7.3942363\ttotal: 4.66s\tremaining: 266ms\n",
            "946:\tlearn: 7.3921292\ttotal: 4.67s\tremaining: 261ms\n",
            "947:\tlearn: 7.3898468\ttotal: 4.67s\tremaining: 256ms\n",
            "948:\tlearn: 7.3875350\ttotal: 4.68s\tremaining: 251ms\n",
            "949:\tlearn: 7.3864328\ttotal: 4.68s\tremaining: 246ms\n",
            "950:\tlearn: 7.3846954\ttotal: 4.68s\tremaining: 241ms\n",
            "951:\tlearn: 7.3828055\ttotal: 4.69s\tremaining: 236ms\n",
            "952:\tlearn: 7.3801214\ttotal: 4.69s\tremaining: 232ms\n",
            "953:\tlearn: 7.3783875\ttotal: 4.7s\tremaining: 227ms\n",
            "954:\tlearn: 7.3767373\ttotal: 4.7s\tremaining: 222ms\n",
            "955:\tlearn: 7.3754975\ttotal: 4.71s\tremaining: 217ms\n",
            "956:\tlearn: 7.3732759\ttotal: 4.72s\tremaining: 212ms\n",
            "957:\tlearn: 7.3715981\ttotal: 4.72s\tremaining: 207ms\n",
            "958:\tlearn: 7.3695818\ttotal: 4.73s\tremaining: 202ms\n",
            "959:\tlearn: 7.3668586\ttotal: 4.73s\tremaining: 197ms\n",
            "960:\tlearn: 7.3644115\ttotal: 4.74s\tremaining: 192ms\n",
            "961:\tlearn: 7.3620405\ttotal: 4.74s\tremaining: 187ms\n",
            "962:\tlearn: 7.3583756\ttotal: 4.75s\tremaining: 182ms\n",
            "963:\tlearn: 7.3562835\ttotal: 4.75s\tremaining: 177ms\n",
            "964:\tlearn: 7.3534116\ttotal: 4.75s\tremaining: 172ms\n",
            "965:\tlearn: 7.3511820\ttotal: 4.76s\tremaining: 168ms\n",
            "966:\tlearn: 7.3482083\ttotal: 4.76s\tremaining: 163ms\n",
            "967:\tlearn: 7.3449646\ttotal: 4.77s\tremaining: 158ms\n",
            "968:\tlearn: 7.3431327\ttotal: 4.78s\tremaining: 153ms\n",
            "969:\tlearn: 7.3416925\ttotal: 4.78s\tremaining: 148ms\n",
            "970:\tlearn: 7.3394293\ttotal: 4.79s\tremaining: 143ms\n",
            "971:\tlearn: 7.3365353\ttotal: 4.79s\tremaining: 138ms\n",
            "972:\tlearn: 7.3347393\ttotal: 4.8s\tremaining: 133ms\n",
            "973:\tlearn: 7.3330294\ttotal: 4.8s\tremaining: 128ms\n",
            "974:\tlearn: 7.3310565\ttotal: 4.8s\tremaining: 123ms\n",
            "975:\tlearn: 7.3289262\ttotal: 4.81s\tremaining: 118ms\n",
            "976:\tlearn: 7.3269108\ttotal: 4.81s\tremaining: 113ms\n",
            "977:\tlearn: 7.3247748\ttotal: 4.82s\tremaining: 108ms\n",
            "978:\tlearn: 7.3232398\ttotal: 4.82s\tremaining: 103ms\n",
            "979:\tlearn: 7.3222489\ttotal: 4.83s\tremaining: 98.5ms\n",
            "980:\tlearn: 7.3207760\ttotal: 4.83s\tremaining: 93.6ms\n",
            "981:\tlearn: 7.3199412\ttotal: 4.83s\tremaining: 88.6ms\n",
            "982:\tlearn: 7.3177191\ttotal: 4.84s\tremaining: 83.7ms\n",
            "983:\tlearn: 7.3150281\ttotal: 4.84s\tremaining: 78.8ms\n",
            "984:\tlearn: 7.3130140\ttotal: 4.85s\tremaining: 73.8ms\n",
            "985:\tlearn: 7.3100288\ttotal: 4.85s\tremaining: 68.9ms\n",
            "986:\tlearn: 7.3062878\ttotal: 4.86s\tremaining: 64ms\n",
            "987:\tlearn: 7.3043754\ttotal: 4.86s\tremaining: 59.1ms\n",
            "988:\tlearn: 7.3019634\ttotal: 4.87s\tremaining: 54.1ms\n",
            "989:\tlearn: 7.2993769\ttotal: 4.87s\tremaining: 49.2ms\n",
            "990:\tlearn: 7.2985655\ttotal: 4.88s\tremaining: 44.3ms\n",
            "991:\tlearn: 7.2958137\ttotal: 4.88s\tremaining: 39.4ms\n",
            "992:\tlearn: 7.2923703\ttotal: 4.88s\tremaining: 34.4ms\n",
            "993:\tlearn: 7.2906899\ttotal: 4.89s\tremaining: 29.5ms\n",
            "994:\tlearn: 7.2881637\ttotal: 4.89s\tremaining: 24.6ms\n",
            "995:\tlearn: 7.2866449\ttotal: 4.9s\tremaining: 19.7ms\n",
            "996:\tlearn: 7.2850092\ttotal: 4.9s\tremaining: 14.8ms\n",
            "997:\tlearn: 7.2833304\ttotal: 4.91s\tremaining: 9.83ms\n",
            "998:\tlearn: 7.2820923\ttotal: 4.92s\tremaining: 4.92ms\n",
            "999:\tlearn: 7.2804386\ttotal: 4.93s\tremaining: 0us\n",
            "128.980148554722\n"
          ]
        }
      ]
    },
    {
      "cell_type": "code",
      "metadata": {
        "colab": {
          "base_uri": "https://localhost:8080/"
        },
        "id": "tveJo8heIODB",
        "outputId": "dbc34adc-c443-4bb2-bfca-6bf95914b127"
      },
      "source": [
        "parametros = {\n",
        "    \n",
        "    'num_leaves' : [20, 31, 50],\n",
        "    'learning_rate' : [0.01, 0.05, 0.1],\n",
        "    'n_estimators' : [500, 600, 700],\n",
        "    'depth': [4, 6, 10],\n",
        "    'l2_leaf_reg': [1, 3, 5, 7, 9]\n",
        "}\n",
        "\n",
        "cat_model_tunned = GridSearchCV(model, parametros, verbose=2, scoring = 'neg_mean_squared_error', cv=5, n_jobs=-1)\n",
        "cat_model_tunned.fit(X_train,y_train)"
      ],
      "execution_count": 49,
      "outputs": [
        {
          "output_type": "stream",
          "name": "stdout",
          "text": [
            "Fitting 5 folds for each of 405 candidates, totalling 2025 fits\n"
          ]
        },
        {
          "output_type": "stream",
          "name": "stderr",
          "text": [
            "[Parallel(n_jobs=-1)]: Using backend LokyBackend with 2 concurrent workers.\n",
            "[Parallel(n_jobs=-1)]: Done  37 tasks      | elapsed:   32.3s\n",
            "[Parallel(n_jobs=-1)]: Done 158 tasks      | elapsed:  2.2min\n",
            "[Parallel(n_jobs=-1)]: Done 361 tasks      | elapsed:  4.9min\n",
            "[Parallel(n_jobs=-1)]: Done 644 tasks      | elapsed:  8.7min\n",
            "[Parallel(n_jobs=-1)]: Done 1009 tasks      | elapsed: 16.1min\n",
            "[Parallel(n_jobs=-1)]: Done 1454 tasks      | elapsed: 33.4min\n",
            "[Parallel(n_jobs=-1)]: Done 1981 tasks      | elapsed: 85.0min\n",
            "[Parallel(n_jobs=-1)]: Done 2025 out of 2025 | elapsed: 89.5min finished\n"
          ]
        },
        {
          "output_type": "stream",
          "name": "stdout",
          "text": [
            "0:\tlearn: 15.7376037\ttotal: 7.3ms\tremaining: 3.64s\n",
            "1:\tlearn: 15.4483377\ttotal: 12.5ms\tremaining: 3.11s\n",
            "2:\tlearn: 15.1995536\ttotal: 17.1ms\tremaining: 2.84s\n",
            "3:\tlearn: 14.9586659\ttotal: 21.7ms\tremaining: 2.7s\n",
            "4:\tlearn: 14.7186336\ttotal: 26.3ms\tremaining: 2.6s\n",
            "5:\tlearn: 14.4974878\ttotal: 31ms\tremaining: 2.55s\n",
            "6:\tlearn: 14.3086907\ttotal: 35.4ms\tremaining: 2.49s\n",
            "7:\tlearn: 14.1069524\ttotal: 40ms\tremaining: 2.46s\n",
            "8:\tlearn: 13.9361284\ttotal: 44.7ms\tremaining: 2.44s\n",
            "9:\tlearn: 13.7745333\ttotal: 49.4ms\tremaining: 2.42s\n",
            "10:\tlearn: 13.6287778\ttotal: 54.2ms\tremaining: 2.41s\n",
            "11:\tlearn: 13.4906189\ttotal: 59.2ms\tremaining: 2.41s\n",
            "12:\tlearn: 13.3378266\ttotal: 63.9ms\tremaining: 2.39s\n",
            "13:\tlearn: 13.1973620\ttotal: 68.4ms\tremaining: 2.37s\n",
            "14:\tlearn: 13.0883712\ttotal: 72.8ms\tremaining: 2.35s\n",
            "15:\tlearn: 12.9812013\ttotal: 77.3ms\tremaining: 2.34s\n",
            "16:\tlearn: 12.8880164\ttotal: 82ms\tremaining: 2.33s\n",
            "17:\tlearn: 12.7906351\ttotal: 86.9ms\tremaining: 2.33s\n",
            "18:\tlearn: 12.7082709\ttotal: 91.4ms\tremaining: 2.31s\n",
            "19:\tlearn: 12.6369726\ttotal: 96.1ms\tremaining: 2.31s\n",
            "20:\tlearn: 12.5344907\ttotal: 101ms\tremaining: 2.29s\n",
            "21:\tlearn: 12.4726751\ttotal: 105ms\tremaining: 2.28s\n",
            "22:\tlearn: 12.3864999\ttotal: 110ms\tremaining: 2.27s\n",
            "23:\tlearn: 12.3100533\ttotal: 114ms\tremaining: 2.26s\n",
            "24:\tlearn: 12.2372267\ttotal: 125ms\tremaining: 2.38s\n",
            "25:\tlearn: 12.1712193\ttotal: 130ms\tremaining: 2.37s\n",
            "26:\tlearn: 12.1100708\ttotal: 135ms\tremaining: 2.37s\n",
            "27:\tlearn: 12.0613340\ttotal: 140ms\tremaining: 2.36s\n",
            "28:\tlearn: 12.0091361\ttotal: 149ms\tremaining: 2.42s\n",
            "29:\tlearn: 11.9564682\ttotal: 154ms\tremaining: 2.41s\n",
            "30:\tlearn: 11.8952041\ttotal: 159ms\tremaining: 2.4s\n",
            "31:\tlearn: 11.8513755\ttotal: 164ms\tremaining: 2.39s\n",
            "32:\tlearn: 11.8199065\ttotal: 168ms\tremaining: 2.38s\n",
            "33:\tlearn: 11.7890502\ttotal: 173ms\tremaining: 2.38s\n",
            "34:\tlearn: 11.7567350\ttotal: 178ms\tremaining: 2.37s\n",
            "35:\tlearn: 11.7105928\ttotal: 183ms\tremaining: 2.36s\n",
            "36:\tlearn: 11.6825739\ttotal: 188ms\tremaining: 2.35s\n",
            "37:\tlearn: 11.6540934\ttotal: 193ms\tremaining: 2.35s\n",
            "38:\tlearn: 11.6238195\ttotal: 202ms\tremaining: 2.39s\n",
            "39:\tlearn: 11.6018728\ttotal: 209ms\tremaining: 2.4s\n",
            "40:\tlearn: 11.5843227\ttotal: 213ms\tremaining: 2.39s\n",
            "41:\tlearn: 11.5642104\ttotal: 218ms\tremaining: 2.38s\n",
            "42:\tlearn: 11.5405610\ttotal: 223ms\tremaining: 2.37s\n",
            "43:\tlearn: 11.4984914\ttotal: 227ms\tremaining: 2.36s\n",
            "44:\tlearn: 11.4774590\ttotal: 232ms\tremaining: 2.34s\n",
            "45:\tlearn: 11.4545409\ttotal: 237ms\tremaining: 2.33s\n",
            "46:\tlearn: 11.4400141\ttotal: 241ms\tremaining: 2.32s\n",
            "47:\tlearn: 11.4145728\ttotal: 246ms\tremaining: 2.31s\n",
            "48:\tlearn: 11.3782875\ttotal: 250ms\tremaining: 2.3s\n",
            "49:\tlearn: 11.3629724\ttotal: 255ms\tremaining: 2.29s\n",
            "50:\tlearn: 11.3475972\ttotal: 259ms\tremaining: 2.28s\n",
            "51:\tlearn: 11.3315362\ttotal: 264ms\tremaining: 2.27s\n",
            "52:\tlearn: 11.3188293\ttotal: 268ms\tremaining: 2.26s\n",
            "53:\tlearn: 11.3013373\ttotal: 273ms\tremaining: 2.25s\n",
            "54:\tlearn: 11.2898528\ttotal: 278ms\tremaining: 2.25s\n",
            "55:\tlearn: 11.2781920\ttotal: 282ms\tremaining: 2.24s\n",
            "56:\tlearn: 11.2594650\ttotal: 287ms\tremaining: 2.23s\n",
            "57:\tlearn: 11.2389899\ttotal: 292ms\tremaining: 2.22s\n",
            "58:\tlearn: 11.2308364\ttotal: 297ms\tremaining: 2.22s\n",
            "59:\tlearn: 11.2042711\ttotal: 301ms\tremaining: 2.21s\n",
            "60:\tlearn: 11.1901200\ttotal: 305ms\tremaining: 2.2s\n",
            "61:\tlearn: 11.1833918\ttotal: 310ms\tremaining: 2.19s\n",
            "62:\tlearn: 11.1663912\ttotal: 315ms\tremaining: 2.18s\n",
            "63:\tlearn: 11.1599543\ttotal: 319ms\tremaining: 2.17s\n",
            "64:\tlearn: 11.1506862\ttotal: 324ms\tremaining: 2.17s\n",
            "65:\tlearn: 11.1416418\ttotal: 329ms\tremaining: 2.16s\n",
            "66:\tlearn: 11.1173373\ttotal: 333ms\tremaining: 2.15s\n",
            "67:\tlearn: 11.1095648\ttotal: 338ms\tremaining: 2.15s\n",
            "68:\tlearn: 11.1016201\ttotal: 342ms\tremaining: 2.14s\n",
            "69:\tlearn: 11.0863780\ttotal: 347ms\tremaining: 2.13s\n",
            "70:\tlearn: 11.0781683\ttotal: 352ms\tremaining: 2.13s\n",
            "71:\tlearn: 11.0728988\ttotal: 356ms\tremaining: 2.12s\n",
            "72:\tlearn: 11.0640150\ttotal: 361ms\tremaining: 2.11s\n",
            "73:\tlearn: 11.0496539\ttotal: 366ms\tremaining: 2.11s\n",
            "74:\tlearn: 11.0326763\ttotal: 371ms\tremaining: 2.1s\n",
            "75:\tlearn: 11.0157147\ttotal: 375ms\tremaining: 2.09s\n",
            "76:\tlearn: 11.0110261\ttotal: 380ms\tremaining: 2.09s\n",
            "77:\tlearn: 10.9999777\ttotal: 384ms\tremaining: 2.08s\n",
            "78:\tlearn: 10.9798767\ttotal: 389ms\tremaining: 2.08s\n",
            "79:\tlearn: 10.9739049\ttotal: 395ms\tremaining: 2.07s\n",
            "80:\tlearn: 10.9519633\ttotal: 406ms\tremaining: 2.1s\n",
            "81:\tlearn: 10.9402222\ttotal: 423ms\tremaining: 2.15s\n",
            "82:\tlearn: 10.9204207\ttotal: 427ms\tremaining: 2.14s\n",
            "83:\tlearn: 10.9154203\ttotal: 431ms\tremaining: 2.13s\n",
            "84:\tlearn: 10.9084240\ttotal: 436ms\tremaining: 2.13s\n",
            "85:\tlearn: 10.8987236\ttotal: 441ms\tremaining: 2.12s\n",
            "86:\tlearn: 10.8820217\ttotal: 445ms\tremaining: 2.11s\n",
            "87:\tlearn: 10.8746243\ttotal: 449ms\tremaining: 2.1s\n",
            "88:\tlearn: 10.8677185\ttotal: 454ms\tremaining: 2.1s\n",
            "89:\tlearn: 10.8615457\ttotal: 458ms\tremaining: 2.09s\n",
            "90:\tlearn: 10.8478769\ttotal: 463ms\tremaining: 2.08s\n",
            "91:\tlearn: 10.8450825\ttotal: 467ms\tremaining: 2.07s\n",
            "92:\tlearn: 10.8319392\ttotal: 472ms\tremaining: 2.06s\n",
            "93:\tlearn: 10.8239970\ttotal: 478ms\tremaining: 2.06s\n",
            "94:\tlearn: 10.8119260\ttotal: 482ms\tremaining: 2.06s\n",
            "95:\tlearn: 10.8030006\ttotal: 487ms\tremaining: 2.05s\n",
            "96:\tlearn: 10.7984048\ttotal: 491ms\tremaining: 2.04s\n",
            "97:\tlearn: 10.7932130\ttotal: 495ms\tremaining: 2.03s\n",
            "98:\tlearn: 10.7825785\ttotal: 499ms\tremaining: 2.02s\n",
            "99:\tlearn: 10.7737900\ttotal: 504ms\tremaining: 2.02s\n",
            "100:\tlearn: 10.7680435\ttotal: 508ms\tremaining: 2.01s\n",
            "101:\tlearn: 10.7656363\ttotal: 513ms\tremaining: 2s\n",
            "102:\tlearn: 10.7601499\ttotal: 519ms\tremaining: 2s\n",
            "103:\tlearn: 10.7555327\ttotal: 524ms\tremaining: 1.99s\n",
            "104:\tlearn: 10.7454046\ttotal: 528ms\tremaining: 1.99s\n",
            "105:\tlearn: 10.7333253\ttotal: 533ms\tremaining: 1.98s\n",
            "106:\tlearn: 10.7293146\ttotal: 537ms\tremaining: 1.97s\n",
            "107:\tlearn: 10.7242528\ttotal: 542ms\tremaining: 1.97s\n",
            "108:\tlearn: 10.7099046\ttotal: 546ms\tremaining: 1.96s\n",
            "109:\tlearn: 10.7041962\ttotal: 551ms\tremaining: 1.95s\n",
            "110:\tlearn: 10.6988119\ttotal: 556ms\tremaining: 1.95s\n",
            "111:\tlearn: 10.6872204\ttotal: 560ms\tremaining: 1.94s\n",
            "112:\tlearn: 10.6827555\ttotal: 565ms\tremaining: 1.93s\n",
            "113:\tlearn: 10.6787726\ttotal: 569ms\tremaining: 1.93s\n",
            "114:\tlearn: 10.6630172\ttotal: 573ms\tremaining: 1.92s\n",
            "115:\tlearn: 10.6547671\ttotal: 578ms\tremaining: 1.91s\n",
            "116:\tlearn: 10.6496215\ttotal: 582ms\tremaining: 1.91s\n",
            "117:\tlearn: 10.6426300\ttotal: 587ms\tremaining: 1.9s\n",
            "118:\tlearn: 10.6361781\ttotal: 591ms\tremaining: 1.89s\n",
            "119:\tlearn: 10.6319892\ttotal: 600ms\tremaining: 1.9s\n",
            "120:\tlearn: 10.6288255\ttotal: 605ms\tremaining: 1.89s\n",
            "121:\tlearn: 10.6203506\ttotal: 609ms\tremaining: 1.89s\n",
            "122:\tlearn: 10.6151254\ttotal: 613ms\tremaining: 1.88s\n",
            "123:\tlearn: 10.6124770\ttotal: 618ms\tremaining: 1.87s\n",
            "124:\tlearn: 10.5992223\ttotal: 622ms\tremaining: 1.87s\n",
            "125:\tlearn: 10.5936863\ttotal: 627ms\tremaining: 1.86s\n",
            "126:\tlearn: 10.5846127\ttotal: 631ms\tremaining: 1.85s\n",
            "127:\tlearn: 10.5775405\ttotal: 635ms\tremaining: 1.85s\n",
            "128:\tlearn: 10.5698139\ttotal: 640ms\tremaining: 1.84s\n",
            "129:\tlearn: 10.5599611\ttotal: 644ms\tremaining: 1.83s\n",
            "130:\tlearn: 10.5552452\ttotal: 649ms\tremaining: 1.83s\n",
            "131:\tlearn: 10.5526007\ttotal: 653ms\tremaining: 1.82s\n",
            "132:\tlearn: 10.5405743\ttotal: 657ms\tremaining: 1.81s\n",
            "133:\tlearn: 10.5357877\ttotal: 661ms\tremaining: 1.81s\n",
            "134:\tlearn: 10.5288197\ttotal: 666ms\tremaining: 1.8s\n",
            "135:\tlearn: 10.5223671\ttotal: 670ms\tremaining: 1.79s\n",
            "136:\tlearn: 10.5183708\ttotal: 675ms\tremaining: 1.79s\n",
            "137:\tlearn: 10.5151986\ttotal: 679ms\tremaining: 1.78s\n",
            "138:\tlearn: 10.5128798\ttotal: 684ms\tremaining: 1.77s\n",
            "139:\tlearn: 10.5087319\ttotal: 688ms\tremaining: 1.77s\n",
            "140:\tlearn: 10.5061335\ttotal: 692ms\tremaining: 1.76s\n",
            "141:\tlearn: 10.5000281\ttotal: 696ms\tremaining: 1.75s\n",
            "142:\tlearn: 10.4951828\ttotal: 701ms\tremaining: 1.75s\n",
            "143:\tlearn: 10.4861186\ttotal: 705ms\tremaining: 1.74s\n",
            "144:\tlearn: 10.4805073\ttotal: 710ms\tremaining: 1.74s\n",
            "145:\tlearn: 10.4763288\ttotal: 715ms\tremaining: 1.73s\n",
            "146:\tlearn: 10.4713162\ttotal: 719ms\tremaining: 1.73s\n",
            "147:\tlearn: 10.4678880\ttotal: 724ms\tremaining: 1.72s\n",
            "148:\tlearn: 10.4614405\ttotal: 728ms\tremaining: 1.71s\n",
            "149:\tlearn: 10.4571155\ttotal: 733ms\tremaining: 1.71s\n",
            "150:\tlearn: 10.4500081\ttotal: 737ms\tremaining: 1.7s\n",
            "151:\tlearn: 10.4423768\ttotal: 742ms\tremaining: 1.7s\n",
            "152:\tlearn: 10.4366055\ttotal: 746ms\tremaining: 1.69s\n",
            "153:\tlearn: 10.4270992\ttotal: 751ms\tremaining: 1.69s\n",
            "154:\tlearn: 10.4180354\ttotal: 756ms\tremaining: 1.68s\n",
            "155:\tlearn: 10.4127785\ttotal: 760ms\tremaining: 1.68s\n",
            "156:\tlearn: 10.4055249\ttotal: 765ms\tremaining: 1.67s\n",
            "157:\tlearn: 10.3971376\ttotal: 769ms\tremaining: 1.66s\n",
            "158:\tlearn: 10.3925297\ttotal: 773ms\tremaining: 1.66s\n",
            "159:\tlearn: 10.3889266\ttotal: 778ms\tremaining: 1.65s\n",
            "160:\tlearn: 10.3848694\ttotal: 782ms\tremaining: 1.65s\n",
            "161:\tlearn: 10.3800322\ttotal: 787ms\tremaining: 1.64s\n",
            "162:\tlearn: 10.3778623\ttotal: 794ms\tremaining: 1.64s\n",
            "163:\tlearn: 10.3726363\ttotal: 801ms\tremaining: 1.64s\n",
            "164:\tlearn: 10.3705790\ttotal: 805ms\tremaining: 1.63s\n",
            "165:\tlearn: 10.3638184\ttotal: 810ms\tremaining: 1.63s\n",
            "166:\tlearn: 10.3609496\ttotal: 814ms\tremaining: 1.62s\n",
            "167:\tlearn: 10.3565978\ttotal: 819ms\tremaining: 1.62s\n",
            "168:\tlearn: 10.3507799\ttotal: 823ms\tremaining: 1.61s\n",
            "169:\tlearn: 10.3482584\ttotal: 827ms\tremaining: 1.6s\n",
            "170:\tlearn: 10.3433762\ttotal: 832ms\tremaining: 1.6s\n",
            "171:\tlearn: 10.3389087\ttotal: 836ms\tremaining: 1.59s\n",
            "172:\tlearn: 10.3318876\ttotal: 841ms\tremaining: 1.59s\n",
            "173:\tlearn: 10.3281465\ttotal: 845ms\tremaining: 1.58s\n",
            "174:\tlearn: 10.3238328\ttotal: 849ms\tremaining: 1.58s\n",
            "175:\tlearn: 10.3192218\ttotal: 854ms\tremaining: 1.57s\n",
            "176:\tlearn: 10.3108263\ttotal: 858ms\tremaining: 1.56s\n",
            "177:\tlearn: 10.3067388\ttotal: 862ms\tremaining: 1.56s\n",
            "178:\tlearn: 10.3056606\ttotal: 866ms\tremaining: 1.55s\n",
            "179:\tlearn: 10.2979297\ttotal: 870ms\tremaining: 1.55s\n",
            "180:\tlearn: 10.2943678\ttotal: 875ms\tremaining: 1.54s\n",
            "181:\tlearn: 10.2854028\ttotal: 879ms\tremaining: 1.53s\n",
            "182:\tlearn: 10.2810873\ttotal: 883ms\tremaining: 1.53s\n",
            "183:\tlearn: 10.2765259\ttotal: 888ms\tremaining: 1.52s\n",
            "184:\tlearn: 10.2673176\ttotal: 892ms\tremaining: 1.52s\n",
            "185:\tlearn: 10.2611132\ttotal: 897ms\tremaining: 1.51s\n",
            "186:\tlearn: 10.2546604\ttotal: 901ms\tremaining: 1.51s\n",
            "187:\tlearn: 10.2522631\ttotal: 906ms\tremaining: 1.5s\n",
            "188:\tlearn: 10.2491539\ttotal: 910ms\tremaining: 1.5s\n",
            "189:\tlearn: 10.2444529\ttotal: 915ms\tremaining: 1.49s\n",
            "190:\tlearn: 10.2398533\ttotal: 919ms\tremaining: 1.49s\n",
            "191:\tlearn: 10.2339550\ttotal: 924ms\tremaining: 1.48s\n",
            "192:\tlearn: 10.2314553\ttotal: 928ms\tremaining: 1.48s\n",
            "193:\tlearn: 10.2249206\ttotal: 933ms\tremaining: 1.47s\n",
            "194:\tlearn: 10.2196198\ttotal: 937ms\tremaining: 1.47s\n",
            "195:\tlearn: 10.2141552\ttotal: 941ms\tremaining: 1.46s\n",
            "196:\tlearn: 10.2093298\ttotal: 945ms\tremaining: 1.45s\n",
            "197:\tlearn: 10.2060620\ttotal: 949ms\tremaining: 1.45s\n",
            "198:\tlearn: 10.2023362\ttotal: 954ms\tremaining: 1.44s\n",
            "199:\tlearn: 10.1974464\ttotal: 958ms\tremaining: 1.44s\n",
            "200:\tlearn: 10.1927192\ttotal: 962ms\tremaining: 1.43s\n",
            "201:\tlearn: 10.1911183\ttotal: 966ms\tremaining: 1.43s\n",
            "202:\tlearn: 10.1858194\ttotal: 971ms\tremaining: 1.42s\n",
            "203:\tlearn: 10.1818853\ttotal: 975ms\tremaining: 1.41s\n",
            "204:\tlearn: 10.1783514\ttotal: 979ms\tremaining: 1.41s\n",
            "205:\tlearn: 10.1720023\ttotal: 984ms\tremaining: 1.4s\n",
            "206:\tlearn: 10.1691267\ttotal: 993ms\tremaining: 1.4s\n",
            "207:\tlearn: 10.1651861\ttotal: 998ms\tremaining: 1.4s\n",
            "208:\tlearn: 10.1601436\ttotal: 1s\tremaining: 1.4s\n",
            "209:\tlearn: 10.1533390\ttotal: 1.01s\tremaining: 1.39s\n",
            "210:\tlearn: 10.1507861\ttotal: 1.01s\tremaining: 1.39s\n",
            "211:\tlearn: 10.1429008\ttotal: 1.02s\tremaining: 1.38s\n",
            "212:\tlearn: 10.1376803\ttotal: 1.02s\tremaining: 1.38s\n",
            "213:\tlearn: 10.1312875\ttotal: 1.03s\tremaining: 1.37s\n",
            "214:\tlearn: 10.1275276\ttotal: 1.03s\tremaining: 1.36s\n",
            "215:\tlearn: 10.1214482\ttotal: 1.03s\tremaining: 1.36s\n",
            "216:\tlearn: 10.1158798\ttotal: 1.04s\tremaining: 1.35s\n",
            "217:\tlearn: 10.1081211\ttotal: 1.04s\tremaining: 1.35s\n",
            "218:\tlearn: 10.1018352\ttotal: 1.05s\tremaining: 1.34s\n",
            "219:\tlearn: 10.0941406\ttotal: 1.05s\tremaining: 1.34s\n",
            "220:\tlearn: 10.0896519\ttotal: 1.06s\tremaining: 1.33s\n",
            "221:\tlearn: 10.0843958\ttotal: 1.06s\tremaining: 1.33s\n",
            "222:\tlearn: 10.0783606\ttotal: 1.06s\tremaining: 1.32s\n",
            "223:\tlearn: 10.0748018\ttotal: 1.07s\tremaining: 1.32s\n",
            "224:\tlearn: 10.0709144\ttotal: 1.07s\tremaining: 1.31s\n",
            "225:\tlearn: 10.0640016\ttotal: 1.08s\tremaining: 1.31s\n",
            "226:\tlearn: 10.0569036\ttotal: 1.08s\tremaining: 1.3s\n",
            "227:\tlearn: 10.0534610\ttotal: 1.09s\tremaining: 1.29s\n",
            "228:\tlearn: 10.0478822\ttotal: 1.09s\tremaining: 1.29s\n",
            "229:\tlearn: 10.0420876\ttotal: 1.09s\tremaining: 1.28s\n",
            "230:\tlearn: 10.0393471\ttotal: 1.1s\tremaining: 1.28s\n",
            "231:\tlearn: 10.0354462\ttotal: 1.1s\tremaining: 1.27s\n",
            "232:\tlearn: 10.0296562\ttotal: 1.11s\tremaining: 1.27s\n",
            "233:\tlearn: 10.0228198\ttotal: 1.12s\tremaining: 1.27s\n",
            "234:\tlearn: 10.0204204\ttotal: 1.12s\tremaining: 1.26s\n",
            "235:\tlearn: 10.0137238\ttotal: 1.13s\tremaining: 1.26s\n",
            "236:\tlearn: 10.0070139\ttotal: 1.13s\tremaining: 1.25s\n",
            "237:\tlearn: 10.0024558\ttotal: 1.14s\tremaining: 1.25s\n",
            "238:\tlearn: 9.9983916\ttotal: 1.14s\tremaining: 1.25s\n",
            "239:\tlearn: 9.9925374\ttotal: 1.14s\tremaining: 1.24s\n",
            "240:\tlearn: 9.9864043\ttotal: 1.15s\tremaining: 1.23s\n",
            "241:\tlearn: 9.9793174\ttotal: 1.15s\tremaining: 1.23s\n",
            "242:\tlearn: 9.9718867\ttotal: 1.16s\tremaining: 1.22s\n",
            "243:\tlearn: 9.9700045\ttotal: 1.16s\tremaining: 1.22s\n",
            "244:\tlearn: 9.9649676\ttotal: 1.17s\tremaining: 1.21s\n",
            "245:\tlearn: 9.9610088\ttotal: 1.17s\tremaining: 1.21s\n",
            "246:\tlearn: 9.9600655\ttotal: 1.18s\tremaining: 1.2s\n",
            "247:\tlearn: 9.9551313\ttotal: 1.18s\tremaining: 1.2s\n",
            "248:\tlearn: 9.9489725\ttotal: 1.18s\tremaining: 1.19s\n",
            "249:\tlearn: 9.9445296\ttotal: 1.19s\tremaining: 1.19s\n",
            "250:\tlearn: 9.9405125\ttotal: 1.2s\tremaining: 1.19s\n",
            "251:\tlearn: 9.9357300\ttotal: 1.2s\tremaining: 1.18s\n",
            "252:\tlearn: 9.9305888\ttotal: 1.21s\tremaining: 1.18s\n",
            "253:\tlearn: 9.9262631\ttotal: 1.21s\tremaining: 1.17s\n",
            "254:\tlearn: 9.9207343\ttotal: 1.21s\tremaining: 1.17s\n",
            "255:\tlearn: 9.9146566\ttotal: 1.22s\tremaining: 1.16s\n",
            "256:\tlearn: 9.9097294\ttotal: 1.22s\tremaining: 1.16s\n",
            "257:\tlearn: 9.9058308\ttotal: 1.23s\tremaining: 1.15s\n",
            "258:\tlearn: 9.9033295\ttotal: 1.23s\tremaining: 1.15s\n",
            "259:\tlearn: 9.8978260\ttotal: 1.24s\tremaining: 1.14s\n",
            "260:\tlearn: 9.8958488\ttotal: 1.24s\tremaining: 1.14s\n",
            "261:\tlearn: 9.8911968\ttotal: 1.24s\tremaining: 1.13s\n",
            "262:\tlearn: 9.8847411\ttotal: 1.25s\tremaining: 1.13s\n",
            "263:\tlearn: 9.8810123\ttotal: 1.25s\tremaining: 1.12s\n",
            "264:\tlearn: 9.8775650\ttotal: 1.26s\tremaining: 1.12s\n",
            "265:\tlearn: 9.8725974\ttotal: 1.26s\tremaining: 1.11s\n",
            "266:\tlearn: 9.8675214\ttotal: 1.27s\tremaining: 1.1s\n",
            "267:\tlearn: 9.8626841\ttotal: 1.27s\tremaining: 1.1s\n",
            "268:\tlearn: 9.8576615\ttotal: 1.27s\tremaining: 1.09s\n",
            "269:\tlearn: 9.8555470\ttotal: 1.28s\tremaining: 1.09s\n",
            "270:\tlearn: 9.8495833\ttotal: 1.28s\tremaining: 1.08s\n",
            "271:\tlearn: 9.8453818\ttotal: 1.29s\tremaining: 1.08s\n",
            "272:\tlearn: 9.8401638\ttotal: 1.29s\tremaining: 1.08s\n",
            "273:\tlearn: 9.8349383\ttotal: 1.3s\tremaining: 1.07s\n",
            "274:\tlearn: 9.8306490\ttotal: 1.3s\tremaining: 1.07s\n",
            "275:\tlearn: 9.8277391\ttotal: 1.31s\tremaining: 1.06s\n",
            "276:\tlearn: 9.8233250\ttotal: 1.31s\tremaining: 1.06s\n",
            "277:\tlearn: 9.8224090\ttotal: 1.32s\tremaining: 1.05s\n",
            "278:\tlearn: 9.8218045\ttotal: 1.32s\tremaining: 1.04s\n",
            "279:\tlearn: 9.8200316\ttotal: 1.32s\tremaining: 1.04s\n",
            "280:\tlearn: 9.8183756\ttotal: 1.33s\tremaining: 1.03s\n",
            "281:\tlearn: 9.8178002\ttotal: 1.33s\tremaining: 1.03s\n",
            "282:\tlearn: 9.8141694\ttotal: 1.34s\tremaining: 1.02s\n",
            "283:\tlearn: 9.8135965\ttotal: 1.34s\tremaining: 1.02s\n",
            "284:\tlearn: 9.8127477\ttotal: 1.34s\tremaining: 1.01s\n",
            "285:\tlearn: 9.8063086\ttotal: 1.35s\tremaining: 1.01s\n",
            "286:\tlearn: 9.8019352\ttotal: 1.35s\tremaining: 1s\n",
            "287:\tlearn: 9.7951129\ttotal: 1.36s\tremaining: 1s\n",
            "288:\tlearn: 9.7930768\ttotal: 1.37s\tremaining: 1s\n",
            "289:\tlearn: 9.7884464\ttotal: 1.38s\tremaining: 998ms\n",
            "290:\tlearn: 9.7848618\ttotal: 1.38s\tremaining: 993ms\n",
            "291:\tlearn: 9.7802864\ttotal: 1.39s\tremaining: 991ms\n",
            "292:\tlearn: 9.7765884\ttotal: 1.4s\tremaining: 986ms\n",
            "293:\tlearn: 9.7736572\ttotal: 1.4s\tremaining: 980ms\n",
            "294:\tlearn: 9.7663002\ttotal: 1.4s\tremaining: 976ms\n",
            "295:\tlearn: 9.7630302\ttotal: 1.41s\tremaining: 970ms\n",
            "296:\tlearn: 9.7593673\ttotal: 1.41s\tremaining: 966ms\n",
            "297:\tlearn: 9.7562174\ttotal: 1.42s\tremaining: 960ms\n",
            "298:\tlearn: 9.7523305\ttotal: 1.42s\tremaining: 955ms\n",
            "299:\tlearn: 9.7474755\ttotal: 1.43s\tremaining: 950ms\n",
            "300:\tlearn: 9.7440076\ttotal: 1.43s\tremaining: 945ms\n",
            "301:\tlearn: 9.7397019\ttotal: 1.43s\tremaining: 940ms\n",
            "302:\tlearn: 9.7365494\ttotal: 1.44s\tremaining: 935ms\n",
            "303:\tlearn: 9.7316132\ttotal: 1.44s\tremaining: 930ms\n",
            "304:\tlearn: 9.7265874\ttotal: 1.45s\tremaining: 925ms\n",
            "305:\tlearn: 9.7227538\ttotal: 1.45s\tremaining: 920ms\n",
            "306:\tlearn: 9.7169584\ttotal: 1.46s\tremaining: 915ms\n",
            "307:\tlearn: 9.7137088\ttotal: 1.46s\tremaining: 911ms\n",
            "308:\tlearn: 9.7101654\ttotal: 1.47s\tremaining: 907ms\n",
            "309:\tlearn: 9.7079219\ttotal: 1.47s\tremaining: 902ms\n",
            "310:\tlearn: 9.7037172\ttotal: 1.48s\tremaining: 897ms\n",
            "311:\tlearn: 9.6991275\ttotal: 1.48s\tremaining: 892ms\n",
            "312:\tlearn: 9.6949551\ttotal: 1.48s\tremaining: 887ms\n",
            "313:\tlearn: 9.6921510\ttotal: 1.49s\tremaining: 882ms\n",
            "314:\tlearn: 9.6889782\ttotal: 1.49s\tremaining: 877ms\n",
            "315:\tlearn: 9.6863483\ttotal: 1.5s\tremaining: 872ms\n",
            "316:\tlearn: 9.6823473\ttotal: 1.5s\tremaining: 867ms\n",
            "317:\tlearn: 9.6800229\ttotal: 1.51s\tremaining: 862ms\n",
            "318:\tlearn: 9.6762366\ttotal: 1.51s\tremaining: 857ms\n",
            "319:\tlearn: 9.6721083\ttotal: 1.51s\tremaining: 852ms\n",
            "320:\tlearn: 9.6682444\ttotal: 1.52s\tremaining: 847ms\n",
            "321:\tlearn: 9.6642825\ttotal: 1.52s\tremaining: 842ms\n",
            "322:\tlearn: 9.6602328\ttotal: 1.53s\tremaining: 837ms\n",
            "323:\tlearn: 9.6563514\ttotal: 1.53s\tremaining: 832ms\n",
            "324:\tlearn: 9.6513965\ttotal: 1.54s\tremaining: 827ms\n",
            "325:\tlearn: 9.6482752\ttotal: 1.54s\tremaining: 822ms\n",
            "326:\tlearn: 9.6435212\ttotal: 1.55s\tremaining: 819ms\n",
            "327:\tlearn: 9.6404532\ttotal: 1.55s\tremaining: 815ms\n",
            "328:\tlearn: 9.6368693\ttotal: 1.56s\tremaining: 810ms\n",
            "329:\tlearn: 9.6346593\ttotal: 1.56s\tremaining: 806ms\n",
            "330:\tlearn: 9.6316563\ttotal: 1.57s\tremaining: 800ms\n",
            "331:\tlearn: 9.6304587\ttotal: 1.57s\tremaining: 795ms\n",
            "332:\tlearn: 9.6268425\ttotal: 1.57s\tremaining: 790ms\n",
            "333:\tlearn: 9.6212957\ttotal: 1.58s\tremaining: 786ms\n",
            "334:\tlearn: 9.6188592\ttotal: 1.59s\tremaining: 782ms\n",
            "335:\tlearn: 9.6150483\ttotal: 1.59s\tremaining: 777ms\n",
            "336:\tlearn: 9.6086300\ttotal: 1.6s\tremaining: 773ms\n",
            "337:\tlearn: 9.6056898\ttotal: 1.6s\tremaining: 768ms\n",
            "338:\tlearn: 9.6026565\ttotal: 1.61s\tremaining: 763ms\n",
            "339:\tlearn: 9.5986725\ttotal: 1.61s\tremaining: 758ms\n",
            "340:\tlearn: 9.5956380\ttotal: 1.61s\tremaining: 753ms\n",
            "341:\tlearn: 9.5883311\ttotal: 1.62s\tremaining: 749ms\n",
            "342:\tlearn: 9.5853876\ttotal: 1.62s\tremaining: 744ms\n",
            "343:\tlearn: 9.5830263\ttotal: 1.63s\tremaining: 739ms\n",
            "344:\tlearn: 9.5795640\ttotal: 1.63s\tremaining: 734ms\n",
            "345:\tlearn: 9.5766762\ttotal: 1.64s\tremaining: 729ms\n",
            "346:\tlearn: 9.5730035\ttotal: 1.64s\tremaining: 724ms\n",
            "347:\tlearn: 9.5685117\ttotal: 1.65s\tremaining: 719ms\n",
            "348:\tlearn: 9.5666597\ttotal: 1.65s\tremaining: 714ms\n",
            "349:\tlearn: 9.5622781\ttotal: 1.66s\tremaining: 710ms\n",
            "350:\tlearn: 9.5611089\ttotal: 1.66s\tremaining: 705ms\n",
            "351:\tlearn: 9.5550642\ttotal: 1.67s\tremaining: 700ms\n",
            "352:\tlearn: 9.5502196\ttotal: 1.67s\tremaining: 695ms\n",
            "353:\tlearn: 9.5464515\ttotal: 1.67s\tremaining: 691ms\n",
            "354:\tlearn: 9.5394121\ttotal: 1.68s\tremaining: 686ms\n",
            "355:\tlearn: 9.5388728\ttotal: 1.68s\tremaining: 681ms\n",
            "356:\tlearn: 9.5360964\ttotal: 1.69s\tremaining: 676ms\n",
            "357:\tlearn: 9.5325222\ttotal: 1.69s\tremaining: 671ms\n",
            "358:\tlearn: 9.5283412\ttotal: 1.7s\tremaining: 666ms\n",
            "359:\tlearn: 9.5269759\ttotal: 1.7s\tremaining: 662ms\n",
            "360:\tlearn: 9.5251047\ttotal: 1.71s\tremaining: 657ms\n",
            "361:\tlearn: 9.5216052\ttotal: 1.71s\tremaining: 652ms\n",
            "362:\tlearn: 9.5172324\ttotal: 1.71s\tremaining: 647ms\n",
            "363:\tlearn: 9.5131756\ttotal: 1.72s\tremaining: 642ms\n",
            "364:\tlearn: 9.5100201\ttotal: 1.72s\tremaining: 637ms\n",
            "365:\tlearn: 9.5094983\ttotal: 1.73s\tremaining: 632ms\n",
            "366:\tlearn: 9.5089915\ttotal: 1.73s\tremaining: 628ms\n",
            "367:\tlearn: 9.5074669\ttotal: 1.74s\tremaining: 623ms\n",
            "368:\tlearn: 9.5041257\ttotal: 1.74s\tremaining: 618ms\n",
            "369:\tlearn: 9.5006127\ttotal: 1.75s\tremaining: 613ms\n",
            "370:\tlearn: 9.4958012\ttotal: 1.75s\tremaining: 609ms\n",
            "371:\tlearn: 9.4937238\ttotal: 1.75s\tremaining: 604ms\n",
            "372:\tlearn: 9.4882876\ttotal: 1.76s\tremaining: 599ms\n",
            "373:\tlearn: 9.4877998\ttotal: 1.76s\tremaining: 594ms\n",
            "374:\tlearn: 9.4838534\ttotal: 1.77s\tremaining: 589ms\n",
            "375:\tlearn: 9.4779588\ttotal: 1.78s\tremaining: 586ms\n",
            "376:\tlearn: 9.4746166\ttotal: 1.78s\tremaining: 582ms\n",
            "377:\tlearn: 9.4730822\ttotal: 1.79s\tremaining: 577ms\n",
            "378:\tlearn: 9.4702095\ttotal: 1.79s\tremaining: 572ms\n",
            "379:\tlearn: 9.4654723\ttotal: 1.8s\tremaining: 568ms\n",
            "380:\tlearn: 9.4612646\ttotal: 1.8s\tremaining: 563ms\n",
            "381:\tlearn: 9.4572223\ttotal: 1.81s\tremaining: 558ms\n",
            "382:\tlearn: 9.4554756\ttotal: 1.81s\tremaining: 553ms\n",
            "383:\tlearn: 9.4534585\ttotal: 1.81s\tremaining: 548ms\n",
            "384:\tlearn: 9.4486865\ttotal: 1.82s\tremaining: 543ms\n",
            "385:\tlearn: 9.4482228\ttotal: 1.82s\tremaining: 539ms\n",
            "386:\tlearn: 9.4449050\ttotal: 1.83s\tremaining: 534ms\n",
            "387:\tlearn: 9.4444543\ttotal: 1.83s\tremaining: 529ms\n",
            "388:\tlearn: 9.4411637\ttotal: 1.84s\tremaining: 525ms\n",
            "389:\tlearn: 9.4407283\ttotal: 1.84s\tremaining: 520ms\n",
            "390:\tlearn: 9.4379783\ttotal: 1.85s\tremaining: 515ms\n",
            "391:\tlearn: 9.4375550\ttotal: 1.85s\tremaining: 510ms\n",
            "392:\tlearn: 9.4350584\ttotal: 1.86s\tremaining: 506ms\n",
            "393:\tlearn: 9.4346451\ttotal: 1.86s\tremaining: 501ms\n",
            "394:\tlearn: 9.4342428\ttotal: 1.87s\tremaining: 496ms\n",
            "395:\tlearn: 9.4326327\ttotal: 1.87s\tremaining: 491ms\n",
            "396:\tlearn: 9.4310939\ttotal: 1.88s\tremaining: 487ms\n",
            "397:\tlearn: 9.4273457\ttotal: 1.88s\tremaining: 482ms\n",
            "398:\tlearn: 9.4269562\ttotal: 1.88s\tremaining: 477ms\n",
            "399:\tlearn: 9.4226823\ttotal: 1.89s\tremaining: 472ms\n",
            "400:\tlearn: 9.4223047\ttotal: 1.89s\tremaining: 468ms\n",
            "401:\tlearn: 9.4182522\ttotal: 1.9s\tremaining: 463ms\n",
            "402:\tlearn: 9.4166468\ttotal: 1.9s\tremaining: 458ms\n",
            "403:\tlearn: 9.4138582\ttotal: 1.91s\tremaining: 453ms\n",
            "404:\tlearn: 9.4109452\ttotal: 1.91s\tremaining: 449ms\n",
            "405:\tlearn: 9.4079213\ttotal: 1.92s\tremaining: 444ms\n",
            "406:\tlearn: 9.4043062\ttotal: 1.92s\tremaining: 439ms\n",
            "407:\tlearn: 9.4024453\ttotal: 1.93s\tremaining: 434ms\n",
            "408:\tlearn: 9.3998231\ttotal: 1.93s\tremaining: 430ms\n",
            "409:\tlearn: 9.3950835\ttotal: 1.94s\tremaining: 425ms\n",
            "410:\tlearn: 9.3916757\ttotal: 1.94s\tremaining: 420ms\n",
            "411:\tlearn: 9.3880728\ttotal: 1.95s\tremaining: 416ms\n",
            "412:\tlearn: 9.3849771\ttotal: 1.95s\tremaining: 411ms\n",
            "413:\tlearn: 9.3803359\ttotal: 1.96s\tremaining: 406ms\n",
            "414:\tlearn: 9.3774768\ttotal: 1.96s\tremaining: 402ms\n",
            "415:\tlearn: 9.3739130\ttotal: 1.96s\tremaining: 397ms\n",
            "416:\tlearn: 9.3709982\ttotal: 1.97s\tremaining: 393ms\n",
            "417:\tlearn: 9.3675227\ttotal: 1.98s\tremaining: 388ms\n",
            "418:\tlearn: 9.3644208\ttotal: 1.98s\tremaining: 383ms\n",
            "419:\tlearn: 9.3630766\ttotal: 1.99s\tremaining: 378ms\n",
            "420:\tlearn: 9.3609870\ttotal: 1.99s\tremaining: 373ms\n",
            "421:\tlearn: 9.3583125\ttotal: 1.99s\tremaining: 369ms\n",
            "422:\tlearn: 9.3540017\ttotal: 2s\tremaining: 364ms\n",
            "423:\tlearn: 9.3512791\ttotal: 2s\tremaining: 359ms\n",
            "424:\tlearn: 9.3485164\ttotal: 2.01s\tremaining: 354ms\n",
            "425:\tlearn: 9.3449170\ttotal: 2.01s\tremaining: 349ms\n",
            "426:\tlearn: 9.3397912\ttotal: 2.02s\tremaining: 345ms\n",
            "427:\tlearn: 9.3364046\ttotal: 2.02s\tremaining: 340ms\n",
            "428:\tlearn: 9.3325676\ttotal: 2.02s\tremaining: 335ms\n",
            "429:\tlearn: 9.3270637\ttotal: 2.03s\tremaining: 330ms\n",
            "430:\tlearn: 9.3249128\ttotal: 2.03s\tremaining: 326ms\n",
            "431:\tlearn: 9.3217256\ttotal: 2.04s\tremaining: 321ms\n",
            "432:\tlearn: 9.3181621\ttotal: 2.04s\tremaining: 316ms\n",
            "433:\tlearn: 9.3146040\ttotal: 2.05s\tremaining: 312ms\n",
            "434:\tlearn: 9.3107977\ttotal: 2.05s\tremaining: 307ms\n",
            "435:\tlearn: 9.3082355\ttotal: 2.06s\tremaining: 302ms\n",
            "436:\tlearn: 9.3065412\ttotal: 2.06s\tremaining: 297ms\n",
            "437:\tlearn: 9.3029450\ttotal: 2.07s\tremaining: 293ms\n",
            "438:\tlearn: 9.2992518\ttotal: 2.07s\tremaining: 288ms\n",
            "439:\tlearn: 9.2958870\ttotal: 2.08s\tremaining: 283ms\n",
            "440:\tlearn: 9.2936639\ttotal: 2.08s\tremaining: 279ms\n",
            "441:\tlearn: 9.2910393\ttotal: 2.09s\tremaining: 274ms\n",
            "442:\tlearn: 9.2873995\ttotal: 2.09s\tremaining: 269ms\n",
            "443:\tlearn: 9.2840894\ttotal: 2.1s\tremaining: 264ms\n",
            "444:\tlearn: 9.2826085\ttotal: 2.1s\tremaining: 260ms\n",
            "445:\tlearn: 9.2810399\ttotal: 2.11s\tremaining: 255ms\n",
            "446:\tlearn: 9.2777117\ttotal: 2.11s\tremaining: 250ms\n",
            "447:\tlearn: 9.2756372\ttotal: 2.12s\tremaining: 246ms\n",
            "448:\tlearn: 9.2743811\ttotal: 2.12s\tremaining: 241ms\n",
            "449:\tlearn: 9.2728310\ttotal: 2.12s\tremaining: 236ms\n",
            "450:\tlearn: 9.2714849\ttotal: 2.13s\tremaining: 231ms\n",
            "451:\tlearn: 9.2696763\ttotal: 2.13s\tremaining: 227ms\n",
            "452:\tlearn: 9.2680206\ttotal: 2.14s\tremaining: 222ms\n",
            "453:\tlearn: 9.2662292\ttotal: 2.15s\tremaining: 218ms\n",
            "454:\tlearn: 9.2647166\ttotal: 2.15s\tremaining: 213ms\n",
            "455:\tlearn: 9.2627557\ttotal: 2.16s\tremaining: 208ms\n",
            "456:\tlearn: 9.2608413\ttotal: 2.16s\tremaining: 203ms\n",
            "457:\tlearn: 9.2604830\ttotal: 2.17s\tremaining: 199ms\n",
            "458:\tlearn: 9.2601342\ttotal: 2.17s\tremaining: 194ms\n",
            "459:\tlearn: 9.2571909\ttotal: 2.18s\tremaining: 189ms\n",
            "460:\tlearn: 9.2539978\ttotal: 2.18s\tremaining: 185ms\n",
            "461:\tlearn: 9.2520470\ttotal: 2.19s\tremaining: 180ms\n",
            "462:\tlearn: 9.2495036\ttotal: 2.19s\tremaining: 175ms\n",
            "463:\tlearn: 9.2463494\ttotal: 2.19s\tremaining: 170ms\n",
            "464:\tlearn: 9.2442096\ttotal: 2.2s\tremaining: 165ms\n",
            "465:\tlearn: 9.2407204\ttotal: 2.2s\tremaining: 161ms\n",
            "466:\tlearn: 9.2379283\ttotal: 2.21s\tremaining: 156ms\n",
            "467:\tlearn: 9.2357440\ttotal: 2.21s\tremaining: 151ms\n",
            "468:\tlearn: 9.2353977\ttotal: 2.21s\tremaining: 146ms\n",
            "469:\tlearn: 9.2278702\ttotal: 2.22s\tremaining: 142ms\n",
            "470:\tlearn: 9.2247439\ttotal: 2.22s\tremaining: 137ms\n",
            "471:\tlearn: 9.2238811\ttotal: 2.23s\tremaining: 132ms\n",
            "472:\tlearn: 9.2219105\ttotal: 2.23s\tremaining: 128ms\n",
            "473:\tlearn: 9.2190343\ttotal: 2.24s\tremaining: 123ms\n",
            "474:\tlearn: 9.2157626\ttotal: 2.24s\tremaining: 118ms\n",
            "475:\tlearn: 9.2132384\ttotal: 2.25s\tremaining: 113ms\n",
            "476:\tlearn: 9.2124346\ttotal: 2.25s\tremaining: 109ms\n",
            "477:\tlearn: 9.2094938\ttotal: 2.26s\tremaining: 104ms\n",
            "478:\tlearn: 9.2066248\ttotal: 2.26s\tremaining: 99.1ms\n",
            "479:\tlearn: 9.2062960\ttotal: 2.26s\tremaining: 94.4ms\n",
            "480:\tlearn: 9.2028947\ttotal: 2.27s\tremaining: 89.6ms\n",
            "481:\tlearn: 9.1998463\ttotal: 2.27s\tremaining: 84.9ms\n",
            "482:\tlearn: 9.1972547\ttotal: 2.28s\tremaining: 80.2ms\n",
            "483:\tlearn: 9.1941195\ttotal: 2.28s\tremaining: 75.5ms\n",
            "484:\tlearn: 9.1893396\ttotal: 2.29s\tremaining: 70.7ms\n",
            "485:\tlearn: 9.1869449\ttotal: 2.29s\tremaining: 66ms\n",
            "486:\tlearn: 9.1849761\ttotal: 2.29s\tremaining: 61.3ms\n",
            "487:\tlearn: 9.1823796\ttotal: 2.3s\tremaining: 56.6ms\n",
            "488:\tlearn: 9.1793546\ttotal: 2.3s\tremaining: 51.8ms\n",
            "489:\tlearn: 9.1765515\ttotal: 2.31s\tremaining: 47.2ms\n",
            "490:\tlearn: 9.1746861\ttotal: 2.32s\tremaining: 42.5ms\n",
            "491:\tlearn: 9.1718785\ttotal: 2.33s\tremaining: 37.8ms\n",
            "492:\tlearn: 9.1701614\ttotal: 2.33s\tremaining: 33.1ms\n",
            "493:\tlearn: 9.1673206\ttotal: 2.34s\tremaining: 28.4ms\n",
            "494:\tlearn: 9.1630357\ttotal: 2.34s\tremaining: 23.7ms\n",
            "495:\tlearn: 9.1599224\ttotal: 2.35s\tremaining: 18.9ms\n",
            "496:\tlearn: 9.1571686\ttotal: 2.36s\tremaining: 14.2ms\n",
            "497:\tlearn: 9.1553995\ttotal: 2.36s\tremaining: 9.48ms\n",
            "498:\tlearn: 9.1528976\ttotal: 2.37s\tremaining: 4.74ms\n",
            "499:\tlearn: 9.1502718\ttotal: 2.37s\tremaining: 0us\n"
          ]
        },
        {
          "output_type": "execute_result",
          "data": {
            "text/plain": [
              "GridSearchCV(cv=5, error_score=nan,\n",
              "             estimator=<catboost.core.CatBoostRegressor object at 0x7f62629316d0>,\n",
              "             iid='deprecated', n_jobs=-1,\n",
              "             param_grid={'depth': [4, 6, 10], 'l2_leaf_reg': [1, 3, 5, 7, 9],\n",
              "                         'learning_rate': [0.01, 0.05, 0.1],\n",
              "                         'n_estimators': [500, 600, 700],\n",
              "                         'num_leaves': [20, 31, 50]},\n",
              "             pre_dispatch='2*n_jobs', refit=True, return_train_score=False,\n",
              "             scoring='neg_mean_squared_error', verbose=2)"
            ]
          },
          "metadata": {},
          "execution_count": 49
        }
      ]
    },
    {
      "cell_type": "code",
      "metadata": {
        "colab": {
          "base_uri": "https://localhost:8080/"
        },
        "id": "wRHPFEqbIWuV",
        "outputId": "fa67d7bb-2c11-4f18-c90b-10e8e0e94623"
      },
      "source": [
        "best_params = cat_model_tunned.best_params_\n",
        "print(f'Hiperparâmetros = {best_params}')\n",
        "preds = cat_model_tunned.predict(X_test)\n",
        "print(metrics.mean_squared_error(y_test, preds))"
      ],
      "execution_count": 50,
      "outputs": [
        {
          "output_type": "stream",
          "name": "stdout",
          "text": [
            "Hiperparâmetros = {'depth': 6, 'l2_leaf_reg': 7, 'learning_rate': 0.05, 'n_estimators': 500, 'num_leaves': 31}\n",
            "125.28984637451973\n"
          ]
        }
      ]
    },
    {
      "cell_type": "markdown",
      "metadata": {
        "id": "2nMNth9cHwOX"
      },
      "source": [
        "## DEEP LEARNING"
      ]
    },
    {
      "cell_type": "code",
      "metadata": {
        "id": "VirCHwHEtlwI"
      },
      "source": [
        "from keras.preprocessing import sequence\n",
        "from keras.models import Sequential\n",
        "from keras.layers import Dense\n",
        "from keras.layers import Dropout\n",
        "from keras.layers.embeddings import Embedding\n",
        "\n",
        "import tensorflow as tf\n",
        "from tensorflow import keras\n",
        "from tensorflow.keras import layers\n",
        "\n",
        "from sklearn.metrics import mean_absolute_error"
      ],
      "execution_count": null,
      "outputs": []
    },
    {
      "cell_type": "code",
      "metadata": {
        "id": "i2Ivav8l6YPe"
      },
      "source": [
        "from keras import callbacks\n",
        "earlystopping = callbacks.EarlyStopping(monitor =\"val_loss\", \n",
        "                                        mode =\"min\", patience = 10, \n",
        "                                        restore_best_weights = True)"
      ],
      "execution_count": null,
      "outputs": []
    },
    {
      "cell_type": "code",
      "metadata": {
        "id": "H3_-1eaAnQX2",
        "colab": {
          "base_uri": "https://localhost:8080/"
        },
        "outputId": "82711aba-9656-46b3-89d8-4993c05266a0"
      },
      "source": [
        "from keras import backend as K\n",
        "def root_mean_squared_error(y_true, y_pred):\n",
        "        return K.sqrt(K.mean(K.square(y_pred - y_true))) \n",
        "\n",
        "model = Sequential()\n",
        "\n",
        "model.add(Dense(100))\n",
        "model.add(Dense(50, activation=\"relu\", kernel_regularizer='l2'))\n",
        "model.add(Dense(10, activation=\"relu\", kernel_regularizer='l2'))\n",
        "model.add(Dense(1, activation='linear'))\n",
        "model.compile(optimizer='rmsprop',loss=root_mean_squared_error, metrics=[\"accuracy\"])\n",
        "model.fit(X_train, y_train, epochs=1000, verbose=2, batch_size=16, validation_data=(X_test, y_test),callbacks =[earlystopping])"
      ],
      "execution_count": null,
      "outputs": [
        {
          "output_type": "stream",
          "name": "stdout",
          "text": [
            "Epoch 1/1000\n",
            "911/911 - 3s - loss: 12.0053 - accuracy: 0.3745 - val_loss: 11.6331 - val_accuracy: 0.4860\n",
            "Epoch 2/1000\n",
            "911/911 - 2s - loss: 11.2804 - accuracy: 0.3769 - val_loss: 11.7397 - val_accuracy: 0.5840\n",
            "Epoch 3/1000\n",
            "911/911 - 1s - loss: 11.0642 - accuracy: 0.3750 - val_loss: 11.4965 - val_accuracy: 0.2225\n",
            "Epoch 4/1000\n",
            "911/911 - 2s - loss: 10.9255 - accuracy: 0.3695 - val_loss: 10.9192 - val_accuracy: 0.4551\n",
            "Epoch 5/1000\n",
            "911/911 - 2s - loss: 10.7570 - accuracy: 0.3691 - val_loss: 10.8983 - val_accuracy: 0.5395\n",
            "Epoch 6/1000\n",
            "911/911 - 2s - loss: 10.5513 - accuracy: 0.3786 - val_loss: 11.3208 - val_accuracy: 0.4078\n",
            "Epoch 7/1000\n",
            "911/911 - 2s - loss: 10.4758 - accuracy: 0.3796 - val_loss: 10.8464 - val_accuracy: 0.5111\n",
            "Epoch 8/1000\n",
            "911/911 - 1s - loss: 10.3475 - accuracy: 0.3697 - val_loss: 10.7167 - val_accuracy: 0.3029\n",
            "Epoch 9/1000\n",
            "911/911 - 1s - loss: 10.3498 - accuracy: 0.3770 - val_loss: 10.6756 - val_accuracy: 0.3697\n",
            "Epoch 10/1000\n",
            "911/911 - 1s - loss: 10.2324 - accuracy: 0.3750 - val_loss: 10.7481 - val_accuracy: 0.5385\n",
            "Epoch 11/1000\n",
            "911/911 - 2s - loss: 10.1705 - accuracy: 0.3799 - val_loss: 10.9254 - val_accuracy: 0.3649\n",
            "Epoch 12/1000\n",
            "911/911 - 1s - loss: 10.1609 - accuracy: 0.3596 - val_loss: 11.4711 - val_accuracy: 0.4863\n",
            "Epoch 13/1000\n",
            "911/911 - 1s - loss: 10.0879 - accuracy: 0.3742 - val_loss: 10.4464 - val_accuracy: 0.2430\n",
            "Epoch 14/1000\n",
            "911/911 - 1s - loss: 10.0686 - accuracy: 0.3732 - val_loss: 10.3623 - val_accuracy: 0.2444\n",
            "Epoch 15/1000\n",
            "911/911 - 1s - loss: 10.1660 - accuracy: 0.3673 - val_loss: 10.3157 - val_accuracy: 0.3205\n",
            "Epoch 16/1000\n",
            "911/911 - 2s - loss: 9.9170 - accuracy: 0.3715 - val_loss: 10.5566 - val_accuracy: 0.3279\n",
            "Epoch 17/1000\n",
            "911/911 - 1s - loss: 9.9869 - accuracy: 0.3780 - val_loss: 10.4609 - val_accuracy: 0.4301\n",
            "Epoch 18/1000\n",
            "911/911 - 1s - loss: 9.9699 - accuracy: 0.3811 - val_loss: 10.2516 - val_accuracy: 0.4328\n",
            "Epoch 19/1000\n",
            "911/911 - 1s - loss: 9.8491 - accuracy: 0.3799 - val_loss: 10.3317 - val_accuracy: 0.4350\n",
            "Epoch 20/1000\n",
            "911/911 - 1s - loss: 9.9029 - accuracy: 0.3725 - val_loss: 10.1752 - val_accuracy: 0.4101\n",
            "Epoch 21/1000\n",
            "911/911 - 2s - loss: 9.7970 - accuracy: 0.3732 - val_loss: 10.3344 - val_accuracy: 0.4802\n",
            "Epoch 22/1000\n",
            "911/911 - 2s - loss: 9.8200 - accuracy: 0.3631 - val_loss: 10.8935 - val_accuracy: 0.2252\n",
            "Epoch 23/1000\n",
            "911/911 - 1s - loss: 9.8872 - accuracy: 0.3639 - val_loss: 10.0997 - val_accuracy: 0.3260\n",
            "Epoch 24/1000\n",
            "911/911 - 1s - loss: 9.8452 - accuracy: 0.3659 - val_loss: 10.6035 - val_accuracy: 0.4488\n",
            "Epoch 25/1000\n",
            "911/911 - 1s - loss: 9.8149 - accuracy: 0.3790 - val_loss: 10.1675 - val_accuracy: 0.4000\n",
            "Epoch 26/1000\n",
            "911/911 - 1s - loss: 9.7440 - accuracy: 0.3818 - val_loss: 10.6370 - val_accuracy: 0.2177\n",
            "Epoch 27/1000\n",
            "911/911 - 2s - loss: 9.7794 - accuracy: 0.3647 - val_loss: 10.1712 - val_accuracy: 0.1876\n",
            "Epoch 28/1000\n",
            "911/911 - 1s - loss: 9.7335 - accuracy: 0.3708 - val_loss: 10.1426 - val_accuracy: 0.4318\n",
            "Epoch 29/1000\n",
            "911/911 - 1s - loss: 9.7272 - accuracy: 0.3572 - val_loss: 10.1432 - val_accuracy: 0.2558\n",
            "Epoch 30/1000\n",
            "911/911 - 1s - loss: 9.6994 - accuracy: 0.3415 - val_loss: 10.2399 - val_accuracy: 0.4294\n",
            "Epoch 31/1000\n",
            "911/911 - 1s - loss: 9.6755 - accuracy: 0.3575 - val_loss: 10.0312 - val_accuracy: 0.3096\n",
            "Epoch 32/1000\n",
            "911/911 - 1s - loss: 9.6736 - accuracy: 0.3727 - val_loss: 10.4225 - val_accuracy: 0.5182\n",
            "Epoch 33/1000\n",
            "911/911 - 2s - loss: 9.6187 - accuracy: 0.3693 - val_loss: 10.3814 - val_accuracy: 0.3527\n",
            "Epoch 34/1000\n",
            "911/911 - 1s - loss: 9.7291 - accuracy: 0.3746 - val_loss: 10.0233 - val_accuracy: 0.4645\n",
            "Epoch 35/1000\n",
            "911/911 - 1s - loss: 9.7798 - accuracy: 0.3756 - val_loss: 10.3407 - val_accuracy: 0.5082\n",
            "Epoch 36/1000\n",
            "911/911 - 1s - loss: 9.6341 - accuracy: 0.3743 - val_loss: 10.1510 - val_accuracy: 0.3356\n",
            "Epoch 37/1000\n",
            "911/911 - 1s - loss: 9.6651 - accuracy: 0.3592 - val_loss: 10.1875 - val_accuracy: 0.2894\n",
            "Epoch 38/1000\n",
            "911/911 - 1s - loss: 9.6009 - accuracy: 0.3690 - val_loss: 10.1966 - val_accuracy: 0.4243\n",
            "Epoch 39/1000\n",
            "911/911 - 1s - loss: 9.6683 - accuracy: 0.3657 - val_loss: 10.3015 - val_accuracy: 0.3495\n",
            "Epoch 40/1000\n",
            "911/911 - 1s - loss: 9.6706 - accuracy: 0.3728 - val_loss: 10.7271 - val_accuracy: 0.4222\n",
            "Epoch 41/1000\n",
            "911/911 - 2s - loss: 9.5905 - accuracy: 0.3789 - val_loss: 10.1444 - val_accuracy: 0.2319\n",
            "Epoch 42/1000\n",
            "911/911 - 1s - loss: 9.5875 - accuracy: 0.3732 - val_loss: 10.3486 - val_accuracy: 0.4121\n",
            "Epoch 43/1000\n",
            "911/911 - 2s - loss: 9.5632 - accuracy: 0.3684 - val_loss: 10.6071 - val_accuracy: 0.4626\n",
            "Epoch 44/1000\n",
            "911/911 - 1s - loss: 9.5940 - accuracy: 0.3667 - val_loss: 10.1806 - val_accuracy: 0.4565\n"
          ]
        },
        {
          "output_type": "execute_result",
          "data": {
            "text/plain": [
              "<keras.callbacks.History at 0x7fdb13c4e850>"
            ]
          },
          "metadata": {},
          "execution_count": 60
        }
      ]
    },
    {
      "cell_type": "code",
      "metadata": {
        "id": "3IdC3TMMtz7W"
      },
      "source": [
        "y_test_deep_pred = model.predict(X_test)\n",
        "y_train_deep_pred = model.predict(X_train)"
      ],
      "execution_count": null,
      "outputs": []
    },
    {
      "cell_type": "markdown",
      "metadata": {
        "id": "gxjkR3sshz44"
      },
      "source": [
        "### 1000 epoch earlystopping 10 patience 100 50 10 1"
      ]
    },
    {
      "cell_type": "code",
      "metadata": {
        "colab": {
          "base_uri": "https://localhost:8080/"
        },
        "id": "GRROmS9f9lMH",
        "outputId": "2495e3f2-fcdb-4c9f-d28f-f6da3dfcbd94"
      },
      "source": [
        "#200 100 50 10 1 patience=10\n",
        "mae_test_deep = mean_absolute_error(y_test, y_test_deep_pred)\n",
        "print(metrics.r2_score(y_test, y_test_deep_pred))\n",
        "print(\"MAE Deep Learning (Test): \", mae_test_deep)"
      ],
      "execution_count": null,
      "outputs": [
        {
          "output_type": "stream",
          "name": "stdout",
          "text": [
            "0.5887649341499421\n",
            "MAE Deep Learning (Test):  5.3376709857390665\n"
          ]
        }
      ]
    },
    {
      "cell_type": "code",
      "metadata": {
        "colab": {
          "base_uri": "https://localhost:8080/"
        },
        "id": "h-RvgXWxt3VH",
        "outputId": "3b5b2261-55d9-4119-882a-91f8285db4e0"
      },
      "source": [
        "mae_test_deep = mean_absolute_error(y_test, y_test_deep_pred)\n",
        "print(metrics.r2_score(y_test, y_test_deep_pred))\n",
        "print(\"MAE Deep Learning (Test): \", mae_test_deep)\n",
        "print(metrics.mean_squared_error(y_test, y_test_deep_pred))\n"
      ],
      "execution_count": null,
      "outputs": [
        {
          "output_type": "stream",
          "name": "stdout",
          "text": [
            "0.5887649341499421\n",
            "MAE Deep Learning (Test):  5.3376709857390665\n",
            "115.27651924004357\n"
          ]
        }
      ]
    },
    {
      "cell_type": "markdown",
      "metadata": {
        "id": "_iCFINuOh3CM"
      },
      "source": [
        "### TESTE DIFERENTES PARÂMETROS"
      ]
    },
    {
      "cell_type": "code",
      "metadata": {
        "colab": {
          "base_uri": "https://localhost:8080/"
        },
        "id": "tsDaEidRzJS0",
        "outputId": "79c82976-71ed-4952-b012-0d269c655434"
      },
      "source": [
        "mae_test_deep = mean_absolute_error(y_test, y_test_deep_pred)\n",
        "print(metrics.r2_score(y_test, y_test_deep_pred))\n",
        "print(\"MAE Deep Learning (Test): \", mae_test_deep)"
      ],
      "execution_count": null,
      "outputs": [
        {
          "output_type": "stream",
          "name": "stdout",
          "text": [
            "0.35850384533568835\n",
            "MAE Deep Learning (Test):  5.379709279911829\n"
          ]
        }
      ]
    },
    {
      "cell_type": "code",
      "metadata": {
        "colab": {
          "base_uri": "https://localhost:8080/"
        },
        "id": "42tUs_RU6Cl2",
        "outputId": "5b08a029-e351-4af2-f3bf-ecc278bc239e"
      },
      "source": [
        "#300epoch\n",
        "mae_test_deep = mean_absolute_error(y_test, y_test_deep_pred)\n",
        "print(metrics.r2_score(y_test, y_test_deep_pred))\n",
        "print(\"MAE Deep Learning (Test): \", mae_test_deep)"
      ],
      "execution_count": null,
      "outputs": [
        {
          "output_type": "stream",
          "name": "stdout",
          "text": [
            "0.5036544527621416\n",
            "MAE Deep Learning (Test):  4.79940943819177\n"
          ]
        }
      ]
    },
    {
      "cell_type": "code",
      "metadata": {
        "colab": {
          "base_uri": "https://localhost:8080/"
        },
        "id": "mje_q7_43_Sb",
        "outputId": "db10ce1f-1e36-430b-a2e0-95f9deee72c8"
      },
      "source": [
        "#1000epoch 10 patience\n",
        "mae_test_deep = mean_absolute_error(y_test, y_test_deep_pred)\n",
        "print(metrics.r2_score(y_test, y_test_deep_pred))\n",
        "print(\"MAE Deep Learning (Test): \", mae_test_deep)"
      ],
      "execution_count": null,
      "outputs": [
        {
          "output_type": "stream",
          "name": "stdout",
          "text": [
            "0.5302412098793715\n",
            "MAE Deep Learning (Test):  4.7778134950829365\n"
          ]
        }
      ]
    },
    {
      "cell_type": "code",
      "metadata": {
        "colab": {
          "base_uri": "https://localhost:8080/"
        },
        "id": "3vIVUIzRmVdO",
        "outputId": "a3071078-f3d5-4fb1-b812-175ede699daf"
      },
      "source": [
        "#MELHOR RESULTADO COM MÊS\n",
        "mae_test_deep = mean_absolute_error(y_test, y_test_deep_pred)\n",
        "print(metrics.r2_score(y_test, y_test_deep_pred))\n",
        "print(\"MAE Deep Learning (Test): \", mae_test_deep)"
      ],
      "execution_count": null,
      "outputs": [
        {
          "output_type": "stream",
          "name": "stdout",
          "text": [
            "0.5112900061483778\n",
            "MAE Deep Learning (Test):  4.740018016894911\n"
          ]
        }
      ]
    },
    {
      "cell_type": "code",
      "metadata": {
        "colab": {
          "base_uri": "https://localhost:8080/"
        },
        "id": "TUudJHiIawAz",
        "outputId": "289f293c-5756-4d5a-94c2-d81ccfd0157f"
      },
      "source": [
        "#RESULTADO RETIRANDO MÉDIA MESES\n",
        "mae_test_deep = mean_absolute_error(y_test, y_test_deep_pred)\n",
        "print(metrics.r2_score(y_test, y_test_deep_pred))\n",
        "print(\"MAE Deep Learning (Test): \", mae_test_deep)"
      ],
      "execution_count": null,
      "outputs": [
        {
          "output_type": "stream",
          "name": "stdout",
          "text": [
            "0.14369639506699317\n",
            "MAE Deep Learning (Test):  6.410119758122885\n"
          ]
        }
      ]
    },
    {
      "cell_type": "code",
      "metadata": {
        "colab": {
          "base_uri": "https://localhost:8080/"
        },
        "id": "Bj4gJSNLEWQw",
        "outputId": "3ea3e7bc-fe4e-44cc-f266-c593f6f965e9"
      },
      "source": [
        "#100 epoch 100 50 50 20 1\n",
        "mae_test_deep = mean_absolute_error(y_test, y_test_deep_pred)\n",
        "print(metrics.r2_score(y_test, y_test_deep_pred))\n",
        "print(\"MAE Deep Learning (Test): \", mae_test_deep)"
      ],
      "execution_count": null,
      "outputs": [
        {
          "output_type": "stream",
          "name": "stdout",
          "text": [
            "0.44649762018761185\n",
            "MAE Deep Learning (Test):  5.15853877822357\n"
          ]
        }
      ]
    },
    {
      "cell_type": "markdown",
      "metadata": {
        "id": "AY6-0_l4KoGC"
      },
      "source": [
        "# Submissão"
      ]
    },
    {
      "cell_type": "code",
      "metadata": {
        "id": "4uwMR3CuKrLx"
      },
      "source": [
        "sub = pd.read_csv('/content/drive/MyDrive/trabalho_pratico/X.csv', delimiter=';',index_col=\"ID\")"
      ],
      "execution_count": 144,
      "outputs": []
    },
    {
      "cell_type": "code",
      "metadata": {
        "id": "R4E_8Lm4OVHw"
      },
      "source": [
        "sub[\"DT\"] = pd.to_datetime(sub[\"DT\"])\n",
        "sub[\"HH_INC\"] = pd.to_datetime(sub[\"HH_INC\"])"
      ],
      "execution_count": 145,
      "outputs": []
    },
    {
      "cell_type": "markdown",
      "metadata": {
        "id": "gqr4HxcCyyAQ"
      },
      "source": [
        "Como não havia o mês de Agosto na amostra havia a opção de descartar os valores médios dos meses mas houve uma piora significativa do modelo. Por esse motivo optei por realizar a submissão utilizando os dados históricos do mês anterior e do próximo mês. Pelo estudo da amostra o mais provável é que o mês de agosto apresentasse uma ligeira redução em relação ao mês de Julho e fosse ligeiramente superior ao mês de Setembro. "
      ]
    },
    {
      "cell_type": "code",
      "metadata": {
        "id": "fiOhh9eUKxME"
      },
      "source": [
        "sub['HH'] = sub['HH_INC'].dt.strftime('%H')\n",
        "sub[\"DiaSem\"] = sub['DT'].dt.strftime('%a')\n",
        "sub[\"Dia\"] = sub['DT'].dt.strftime('%-d')\n",
        "\n",
        "sub2 = sub.copy()"
      ],
      "execution_count": 146,
      "outputs": []
    },
    {
      "cell_type": "code",
      "metadata": {
        "id": "sKkbOPvOitnC"
      },
      "source": [
        "sub[\"Mes\"] = 'July'\n",
        "sub2[\"Mes\"] = 'September'"
      ],
      "execution_count": 147,
      "outputs": []
    },
    {
      "cell_type": "code",
      "metadata": {
        "id": "X0Wx0Gb6Oyoh"
      },
      "source": [
        "sub.drop(['DT', 'HH_INC', 'HH_FIM'], axis=1, inplace=True)"
      ],
      "execution_count": 148,
      "outputs": []
    },
    {
      "cell_type": "code",
      "metadata": {
        "id": "zuwYKPEOjD3u"
      },
      "source": [
        "sub2.drop(['DT', 'HH_INC', 'HH_FIM'], axis=1, inplace=True)"
      ],
      "execution_count": 149,
      "outputs": []
    },
    {
      "cell_type": "code",
      "metadata": {
        "id": "_xvQ_ASJ_qpd"
      },
      "source": [
        "sub = sub[['ID_UOR', 'HH', 'DiaSem', 'Dia', 'Mes']].astype('str')\n",
        "sub2 = sub2[['ID_UOR', 'HH', 'DiaSem', 'Dia', 'Mes']].astype('str')"
      ],
      "execution_count": 150,
      "outputs": []
    },
    {
      "cell_type": "code",
      "metadata": {
        "id": "KVHJtNzyLeGX"
      },
      "source": [
        "#TRATAR DIA DO MÊS SEM DADOS PARA JULHO\n",
        "sub = pd.merge(sub, MEDIA_DIA_SEMANA, on=['ID_UOR', 'HH', 'DiaSem'],how='left')\n",
        "sub = pd.merge(sub, MEDIA_DIA, on=[\"ID_UOR\",'HH', 'Dia'],how='left')\n",
        "sub = pd.merge(sub, MEDIA_MES, on=[\"ID_UOR\",'HH', 'Mes'],how='left')\n",
        "\n",
        "\n",
        "sub = pd.merge(sub, MIN_DIA_SEMANA, on=['ID_UOR', 'HH', 'DiaSem'],how='left')\n",
        "sub = pd.merge(sub, MIN_DIA, on=[\"ID_UOR\",'HH', 'Dia'],how='left')\n",
        "sub = pd.merge(sub, MIN_MES, on=[\"ID_UOR\",'HH', 'Mes'],how='left')\n",
        "\n",
        "\n",
        "sub = pd.merge(sub, MAX_DIA_SEMANA, on=['ID_UOR', 'HH', 'DiaSem'],how='left')\n",
        "sub = pd.merge(sub, MAX_DIA, on=[\"ID_UOR\",'HH', 'Dia'],how='left')\n",
        "sub = pd.merge(sub, MAX_MES, on=[\"ID_UOR\",'HH', 'Mes'],how='left')\n",
        "\n"
      ],
      "execution_count": 151,
      "outputs": []
    },
    {
      "cell_type": "code",
      "metadata": {
        "id": "D1EAMuRwjm-7"
      },
      "source": [
        "sub2 = pd.merge(sub2, MEDIA_DIA_SEMANA, on=['ID_UOR', 'HH', 'DiaSem'],how='left')\n",
        "sub2 = pd.merge(sub2, MEDIA_DIA, on=[\"ID_UOR\",'HH', 'Dia'],how='left')\n",
        "sub2 = pd.merge(sub2, MEDIA_MES, on=[\"ID_UOR\",'HH', 'Mes'],how='left')\n",
        "\n",
        "\n",
        "sub2 = pd.merge(sub2, MIN_DIA_SEMANA, on=['ID_UOR', 'HH', 'DiaSem'],how='left')\n",
        "sub2 = pd.merge(sub2, MIN_DIA, on=[\"ID_UOR\",'HH', 'Dia'],how='left')\n",
        "sub2 = pd.merge(sub2, MIN_MES, on=[\"ID_UOR\",'HH', 'Mes'],how='left')\n",
        "\n",
        "\n",
        "sub2 = pd.merge(sub2, MAX_DIA_SEMANA, on=['ID_UOR', 'HH', 'DiaSem'],how='left')\n",
        "sub2 = pd.merge(sub2, MAX_DIA, on=[\"ID_UOR\",'HH', 'Dia'],how='left')\n",
        "sub2 = pd.merge(sub2, MAX_MES, on=[\"ID_UOR\",'HH', 'Mes'],how='left')\n"
      ],
      "execution_count": 152,
      "outputs": []
    },
    {
      "cell_type": "code",
      "metadata": {
        "colab": {
          "base_uri": "https://localhost:8080/"
        },
        "id": "Lf69HhmFyV2C",
        "outputId": "4bbffaa1-1a48-47df-e75d-eae17a369269"
      },
      "source": [
        "sub.isnull().sum()"
      ],
      "execution_count": null,
      "outputs": [
        {
          "output_type": "execute_result",
          "data": {
            "text/plain": [
              "ID_UOR                0\n",
              "HH                    0\n",
              "DiaSem                0\n",
              "Dia                   0\n",
              "Mes                   0\n",
              "PC_ACI_PZ_SMN        74\n",
              "PC_ACI_PZ_DIA       180\n",
              "PC_ACI_PZ_MES       286\n",
              "PC_ACI_PZ_MINSMN     74\n",
              "PC_ACI_PZ_MINDIA    180\n",
              "PC_ACI_PZ_MINMES    286\n",
              "PC_ACI_PZ_MAXSMN     74\n",
              "PC_ACI_PZ_MAXDIA    180\n",
              "PC_ACI_PZ_MAXMES    286\n",
              "dtype: int64"
            ]
          },
          "metadata": {},
          "execution_count": 35
        }
      ]
    },
    {
      "cell_type": "code",
      "metadata": {
        "id": "7iYAXEg9UsMr"
      },
      "source": [
        "#Preencher campos sem informação com a média dos demais dados da amostra\n",
        "sub['PC_ACI_PZ_SMN'].fillna((sub['PC_ACI_PZ_SMN'].mean()), inplace=True)\n",
        "sub['PC_ACI_PZ_DIA'].fillna((sub['PC_ACI_PZ_DIA'].mean()), inplace=True)\n",
        "sub['PC_ACI_PZ_MES'].fillna((sub['PC_ACI_PZ_MES'].mean()), inplace=True)\n",
        "sub['PC_ACI_PZ_MINSMN'].fillna((sub['PC_ACI_PZ_MINSMN'].mean()), inplace=True)\n",
        "sub['PC_ACI_PZ_MINDIA'].fillna((sub['PC_ACI_PZ_MINDIA'].mean()), inplace=True)\n",
        "sub['PC_ACI_PZ_MINMES'].fillna((sub['PC_ACI_PZ_MINMES'].mean()), inplace=True)\n",
        "sub['PC_ACI_PZ_MAXSMN'].fillna((sub['PC_ACI_PZ_MAXSMN'].mean()), inplace=True)\n",
        "sub['PC_ACI_PZ_MAXDIA'].fillna((sub['PC_ACI_PZ_MAXDIA'].mean()), inplace=True)\n",
        "sub['PC_ACI_PZ_MAXMES'].fillna((sub['PC_ACI_PZ_MAXMES'].mean()), inplace=True)\n"
      ],
      "execution_count": 153,
      "outputs": []
    },
    {
      "cell_type": "code",
      "metadata": {
        "id": "M3d2AMfgOkru"
      },
      "source": [
        "sub2['PC_ACI_PZ_SMN'].fillna((sub2['PC_ACI_PZ_SMN'].mean()), inplace=True)\n",
        "sub2['PC_ACI_PZ_DIA'].fillna((sub2['PC_ACI_PZ_DIA'].mean()), inplace=True)\n",
        "sub2['PC_ACI_PZ_MES'].fillna((sub2['PC_ACI_PZ_MES'].mean()), inplace=True)\n",
        "sub2['PC_ACI_PZ_MINSMN'].fillna((sub2['PC_ACI_PZ_MINSMN'].mean()), inplace=True)\n",
        "sub2['PC_ACI_PZ_MINDIA'].fillna((sub2['PC_ACI_PZ_MINDIA'].mean()), inplace=True)\n",
        "sub2['PC_ACI_PZ_MINMES'].fillna((sub2['PC_ACI_PZ_MINMES'].mean()), inplace=True)\n",
        "sub2['PC_ACI_PZ_MAXSMN'].fillna((sub2['PC_ACI_PZ_MAXSMN'].mean()), inplace=True)\n",
        "sub2['PC_ACI_PZ_MAXDIA'].fillna((sub2['PC_ACI_PZ_MAXDIA'].mean()), inplace=True)\n",
        "sub2['PC_ACI_PZ_MAXMES'].fillna((sub2['PC_ACI_PZ_MAXMES'].mean()), inplace=True)"
      ],
      "execution_count": 154,
      "outputs": []
    },
    {
      "cell_type": "markdown",
      "metadata": {
        "id": "g-cx8lWipwD6"
      },
      "source": [
        "### Alterações no valor Mensal para estimar Mês em falta na amostra"
      ]
    },
    {
      "cell_type": "code",
      "metadata": {
        "id": "ChgzPwUTQ1OW"
      },
      "source": [
        "#Como Julho para Setembro apresentava tendência de baixa teste com redução dos valores \n",
        "sub['PC_ACI_PZ_MES'] = sub['PC_ACI_PZ_MES'] * 0.8\n",
        "sub['PC_ACI_PZ_MINMES'] = sub['PC_ACI_PZ_MINMES'] * 0.8\n",
        "sub['PC_ACI_PZ_MAXMES'] = sub['PC_ACI_PZ_MAXMES'] * 0.8"
      ],
      "execution_count": 59,
      "outputs": []
    },
    {
      "cell_type": "code",
      "metadata": {
        "id": "NdsYmO65m5xY"
      },
      "source": [
        "\n",
        "sub['PC_ACI_PZ_MES'] = sub['PC_ACI_PZ_MES'] * 0.7\n",
        "sub['PC_ACI_PZ_MINMES'] = sub['PC_ACI_PZ_MINMES'] * 0.7\n",
        "sub['PC_ACI_PZ_MAXMES'] = sub['PC_ACI_PZ_MAXMES'] * 0.7"
      ],
      "execution_count": 72,
      "outputs": []
    },
    {
      "cell_type": "code",
      "metadata": {
        "id": "yNbeK-LCm5nv"
      },
      "source": [
        "sub['PC_ACI_PZ_MES'] = sub['PC_ACI_PZ_MES'] * 0.5\n",
        "sub['PC_ACI_PZ_MINMES'] = sub['PC_ACI_PZ_MINMES'] * 0.5\n",
        "sub['PC_ACI_PZ_MAXMES'] = sub['PC_ACI_PZ_MAXMES'] * 0.5"
      ],
      "execution_count": 85,
      "outputs": []
    },
    {
      "cell_type": "code",
      "metadata": {
        "id": "ECQMVb3KnG13"
      },
      "source": [
        "#media geometrica\n",
        "\n",
        "sub['PC_ACI_PZ_MES']  = np.sqrt(sub['PC_ACI_PZ_MES'] * sub2['PC_ACI_PZ_MES'])\n",
        "sub['PC_ACI_PZ_MINMES']  = np.sqrt(sub['PC_ACI_PZ_MINMES'] * sub2['PC_ACI_PZ_MINMES'])\n",
        "sub['PC_ACI_PZ_MAXMES']  = np.sqrt(sub['PC_ACI_PZ_MAXMES'] * sub2['PC_ACI_PZ_MAXMES'])"
      ],
      "execution_count": 156,
      "outputs": []
    },
    {
      "cell_type": "code",
      "metadata": {
        "id": "VYK0vqrgm5bN"
      },
      "source": [
        "#media\n",
        "sub['PC_ACI_PZ_MES']  = (sub['PC_ACI_PZ_MES'] + sub2['PC_ACI_PZ_MES'])/2\n",
        "sub['PC_ACI_PZ_MINMES']  = (sub['PC_ACI_PZ_MINMES'] + sub2['PC_ACI_PZ_MINMES'])/2\n",
        "sub['PC_ACI_PZ_MAXMES']  = (sub['PC_ACI_PZ_MAXMES'] + sub2['PC_ACI_PZ_MAXMES'])/2"
      ],
      "execution_count": 137,
      "outputs": []
    },
    {
      "cell_type": "markdown",
      "metadata": {
        "id": "vxDkrni3poA_"
      },
      "source": [
        "### Preparando Modelo"
      ]
    },
    {
      "cell_type": "code",
      "metadata": {
        "id": "RqmK_LbUA0R1"
      },
      "source": [
        "sub = pd.get_dummies(sub, prefix=['ID_UOR', 'HH', 'DiaSem', 'Dia', 'Mes'])"
      ],
      "execution_count": 158,
      "outputs": []
    },
    {
      "cell_type": "code",
      "metadata": {
        "id": "MZXFrSvIGq9I"
      },
      "source": [
        "#Dados presentes do modelo que não foram encontradas na amostra\n",
        "sub[['Dia_1',  'Dia_14',\n",
        "       'Dia_15', 'Dia_21', 'Dia_22', 'Dia_28', 'Dia_29', 'Dia_7', 'Dia_8', 'Mes_April', 'Mes_December',\n",
        "       'Mes_February', 'Mes_January', 'Mes_June', 'Mes_March',\n",
        "       'Mes_May', 'Mes_November', 'Mes_October', 'Mes_September']] = 0"
      ],
      "execution_count": 159,
      "outputs": []
    },
    {
      "cell_type": "code",
      "metadata": {
        "id": "9eidJllgIJf0"
      },
      "source": [
        "#Organização das colunas da amostra conforme padrão do modelo\n",
        "sub = sub[['PC_ACI_PZ_SMN', 'PC_ACI_PZ_DIA', 'PC_ACI_PZ_MES',\n",
        "       'PC_ACI_PZ_MINSMN', 'PC_ACI_PZ_MINDIA', 'PC_ACI_PZ_MINMES',\n",
        "       'PC_ACI_PZ_MAXSMN', 'PC_ACI_PZ_MAXDIA', 'PC_ACI_PZ_MAXMES', 'ID_UOR_0',\n",
        "       'ID_UOR_1', 'ID_UOR_10', 'ID_UOR_11', 'ID_UOR_12', 'ID_UOR_13',\n",
        "       'ID_UOR_14', 'ID_UOR_15', 'ID_UOR_16', 'ID_UOR_17', 'ID_UOR_18',\n",
        "       'ID_UOR_19', 'ID_UOR_2', 'ID_UOR_20', 'ID_UOR_21', 'ID_UOR_22',\n",
        "       'ID_UOR_23', 'ID_UOR_24', 'ID_UOR_4', 'ID_UOR_5', 'ID_UOR_6',\n",
        "       'ID_UOR_7', 'ID_UOR_8', 'ID_UOR_9', 'HH_10', 'HH_11', 'HH_12', 'HH_13',\n",
        "       'HH_14', 'Dia_1', 'Dia_10', 'Dia_11', 'Dia_12', 'Dia_13', 'Dia_14',\n",
        "       'Dia_15', 'Dia_16', 'Dia_17', 'Dia_18', 'Dia_19', 'Dia_2', 'Dia_20',\n",
        "       'Dia_21', 'Dia_22', 'Dia_23', 'Dia_24', 'Dia_25', 'Dia_26', 'Dia_27',\n",
        "       'Dia_28', 'Dia_29', 'Dia_3', 'Dia_30', 'Dia_31', 'Dia_4', 'Dia_5',\n",
        "       'Dia_6', 'Dia_7', 'Dia_8', 'Dia_9', 'DiaSem_Fri', 'DiaSem_Mon',\n",
        "       'DiaSem_Thu', 'DiaSem_Tue', 'DiaSem_Wed', 'Mes_April', 'Mes_December',\n",
        "       'Mes_February', 'Mes_January', 'Mes_July', 'Mes_June', 'Mes_March',\n",
        "       'Mes_May', 'Mes_November', 'Mes_October', 'Mes_September']]"
      ],
      "execution_count": 160,
      "outputs": []
    },
    {
      "cell_type": "code",
      "metadata": {
        "id": "teJkQChKDSFD"
      },
      "source": [
        "X = sub.iloc[:]"
      ],
      "execution_count": 161,
      "outputs": []
    },
    {
      "cell_type": "markdown",
      "metadata": {
        "id": "XWrAU5Sgp9p7"
      },
      "source": [
        "### Predição, formatação e download do arquivo"
      ]
    },
    {
      "cell_type": "code",
      "metadata": {
        "id": "H-MpXno6MR-4"
      },
      "source": [
        "'''Predição dos modelos tunados'''\n",
        "#sub['y_lgbm'] = lgbm_model_tunned.predict(X)\n",
        "#sub['y_deep'] = model.predict(X)\n",
        "sub['y_cat'] = cat_model_tunned.predict(X)\n",
        "\n",
        "#sublgbmjuly = sub[['y_lgbm']]\n",
        "#subdeepjuly = sub[['y_deep']]\n",
        "subcat = sub[['y_cat']]\n",
        "\n",
        "#sublgbmsep = sub[['y_lgbm']]\n",
        "#subdeepsep = sub[['y_deep']]\n",
        "\n",
        "'''Arredondando para duas casas decimais conforme solicitado'''\n",
        "#subdeepsep = subdeepsep.astype(float).round(2)\n",
        "#sublgbmsep = sublgbmsep.astype(float).round(2)\n",
        "subcat = subcat.astype(float).round(2)\n",
        "#subdeepjuly = subdeepjuly.astype(float).round(2)\n",
        "#sublgbmjuly = sublgbmjuly.astype(float).round(2)\n",
        "\n",
        "'''Alterando nome das colunas para submissão conforme solicitado'''\n",
        "subcat.index.name = 'ID'\n",
        "#subdeepjuly.index.name = 'ID'\n",
        "#sublgbmjuly.index.name = 'ID'\n",
        "#subdeepsep.index.name = 'ID'\n",
        "#sublgbmsep.index.name = 'ID'\n",
        "\n",
        "subcat.columns = ['PC_ACI_PZ']\n",
        "#subdeepjuly.columns = ['PC_ACI_PZ']\n",
        "#sublgbmjuly.columns = ['PC_ACI_PZ']\n",
        "#subdeepsep.columns = ['PC_ACI_PZ']\n",
        "#sublgbmsep.columns = ['PC_ACI_PZ']\n",
        "\n",
        "\n",
        "'''Salvando para CSV'''\n",
        "#sublgbmjuly.to_csv('lgbmjulyrmse90.csv', sep = ';', encoding='utf-8-sig')\n",
        "#subdeepjuly.to_csv('deepjulyrmse80.csv', sep = ';', encoding='utf-8-sig')\n",
        "subcat.to_csv('catMediaGeometrica.csv', sep = ';', encoding='utf-8-sig')\n",
        "#sublgbmsep.to_csv('lgbmsep.csv', sep = ';',encoding='utf-8-sig')\n",
        "#subdeepsep.to_csv('deepsep.csv', sep = ';',encoding='utf-8-sig')"
      ],
      "execution_count": 162,
      "outputs": []
    },
    {
      "cell_type": "code",
      "metadata": {
        "id": "Y51r_del4XE2"
      },
      "source": [
        ""
      ],
      "execution_count": null,
      "outputs": []
    }
  ]
}